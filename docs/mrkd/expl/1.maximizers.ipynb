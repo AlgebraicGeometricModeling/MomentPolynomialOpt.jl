{
 "cells": [
  {
   "cell_type": "markdown",
   "metadata": {},
   "source": [
    "# Solving a polynomial optimization problem"
   ]
  },
  {
   "cell_type": "code",
   "execution_count": 1,
   "metadata": {},
   "outputs": [],
   "source": [
    "using DynamicPolynomials, MomentPolynomialOpt"
   ]
  },
  {
   "cell_type": "code",
   "execution_count": 2,
   "metadata": {},
   "outputs": [],
   "source": [
    "X  = @polyvar x1 x2\n",
    "\n",
    "e1 = x1^2-2\n",
    "e2 = (x2^2-3)*(x1*x2-2)\n",
    "\n",
    "p1 = x1\n",
    "p2 = 2-x2;"
   ]
  },
  {
   "cell_type": "markdown",
   "metadata": {},
   "source": [
    "We are looking for the points with maximal $x_1$ in the set $e_{1}=e_{2}=0$ such that $p_1\\geq 0$, $p_2\\geq 0$. \n",
    "\n",
    "We solve a SDP relaxation of order $d=4$, where the variables of the underlying convex optimization problem are the moments of order $\\le 2d$ in the variables $x_1, x_2$."
   ]
  },
  {
   "cell_type": "code",
   "execution_count": null,
   "metadata": {},
   "outputs": [],
   "source": [
    "using CSDP;\n",
    "v, M = maximize(x1, [e1, e2], [p1,p2], X, 4,CSDP.Optimizer)\n",
    "v"
   ]
  },
  {
   "cell_type": "markdown",
   "metadata": {},
   "source": [
    "The output of the function `maximize` is the optimal value `v` and the optimization model `M`. "
   ]
  },
  {
   "cell_type": "markdown",
   "metadata": {},
   "source": [
    "The points which reach the optimal value, can be obtained as follows: "
   ]
  },
  {
   "cell_type": "code",
   "execution_count": null,
   "metadata": {},
   "outputs": [],
   "source": [
    "Xi = get_minimizers(M)"
   ]
  },
  {
   "cell_type": "markdown",
   "metadata": {},
   "source": [
    "Each column of this matrix represents a point. It is an $n\\times r$  matrix, where $n$ is the number of coordinates in `X` and $r$ is the number of points.\n",
    "\n",
    "The weighted sum of Dirac measures associated to the optimal moment sequence can be obtained as follows:"
   ]
  },
  {
   "cell_type": "code",
   "execution_count": null,
   "metadata": {},
   "outputs": [],
   "source": [
    "w, Xi = get_measure(M)"
   ]
  },
  {
   "cell_type": "markdown",
   "metadata": {},
   "source": [
    "`w` is the vector of weights and `Xi` is the matrix of points, that is support of the measure $\\mu=\\sum_i \\omega_i \\delta_{\\Xi_i}$.\n",
    "\n",
    "Here is another way to solve it. We describe it as a Polynomial Optimization Problem and use the function `optimize`:"
   ]
  },
  {
   "cell_type": "code",
   "execution_count": null,
   "metadata": {},
   "outputs": [],
   "source": [
    "pop = [(x1, \"sup\"), (e1,\"=0\"),(e2 ,\"=0\"),(p1,\">=0\"),(p2,\">=0\")]"
   ]
  },
  {
   "cell_type": "code",
   "execution_count": null,
   "metadata": {},
   "outputs": [],
   "source": [
    "v, M = optimize(pop, X, 4, CSDP.Optimizer)"
   ]
  },
  {
   "cell_type": "code",
   "execution_count": null,
   "metadata": {},
   "outputs": [],
   "source": [
    "get_minimizers(M)"
   ]
  }
 ],
 "metadata": {
  "@webio": {
   "lastCommId": null,
   "lastKernelId": null
  },
  "kernelspec": {
   "display_name": "Julia 1.7.2",
   "language": "julia",
   "name": "julia-1.7"
  },
  "language_info": {
   "file_extension": ".jl",
   "mimetype": "application/julia",
   "name": "julia",
   "version": "1.7.2"
  }
 },
 "nbformat": 4,
 "nbformat_minor": 2
}
