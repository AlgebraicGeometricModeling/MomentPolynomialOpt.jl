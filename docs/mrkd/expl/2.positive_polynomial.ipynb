{
 "cells": [
  {
   "cell_type": "markdown",
   "metadata": {},
   "source": [
    "# The minimizers of Motzkin polynomial"
   ]
  },
  {
   "cell_type": "code",
   "execution_count": 1,
   "metadata": {},
   "outputs": [],
   "source": [
    "using DynamicPolynomials, MomentTools, Plots;\n",
    "using JuMP, MosekTools; set_optimizer(Mosek.Optimizer); #optimizer_with_attributes(Mosek.Optimizer, \"QUIET\" => true);"
   ]
  },
  {
   "cell_type": "markdown",
   "metadata": {},
   "source": [
    "We use Mosek solver for the convex optimization on SDP matrices."
   ]
  },
  {
   "cell_type": "code",
   "execution_count": 2,
   "metadata": {},
   "outputs": [
    {
     "data": {
      "text/latex": [
       "$$ x^{4}y^{2} + x^{2}y^{4} - 3x^{2}y^{2} + 1 $$"
      ],
      "text/plain": [
       "x⁴y² + x²y⁴ - 3x²y² + 1"
      ]
     },
     "execution_count": 2,
     "metadata": {},
     "output_type": "execute_result"
    }
   ],
   "source": [
    "X  = @polyvar x y\n",
    "motz = x^4*y^2 + x^2*y^4 - 3x^2*y^2  + 1 "
   ]
  },
  {
   "cell_type": "markdown",
   "metadata": {},
   "source": [
    "This polynomial, known as Motzkin polynomial, is non-negative but not a sum of squares.\n",
    "\n",
    "We construction a moment relaxation of order 6, imposing the moments to come from a probability measure, with total mass equal to 1:"
   ]
  },
  {
   "cell_type": "code",
   "execution_count": 3,
   "metadata": {},
   "outputs": [
    {
     "name": "stdout",
     "output_type": "stream",
     "text": [
      "Problem\n",
      "  Name                   :                 \n",
      "  Objective sense        : max             \n",
      "  Type                   : CONIC (conic optimization problem)\n",
      "  Constraints            : 91              \n",
      "  Cones                  : 0               \n",
      "  Scalar variables       : 1               \n",
      "  Matrix variables       : 1               \n",
      "  Integer variables      : 0               \n",
      "\n",
      "Optimizer started.\n",
      "Presolve started.\n",
      "Linear dependency checker started.\n",
      "Linear dependency checker terminated.\n",
      "Eliminator started.\n",
      "Freed constraints in eliminator : 0\n",
      "Eliminator terminated.\n",
      "Eliminator - tries                  : 1                 time                   : 0.00            \n",
      "Lin. dep.  - tries                  : 1                 time                   : 0.00            \n",
      "Lin. dep.  - number                 : 0               \n",
      "Presolve terminated. Time: 0.00    \n",
      "Problem\n",
      "  Name                   :                 \n",
      "  Objective sense        : max             \n",
      "  Type                   : CONIC (conic optimization problem)\n",
      "  Constraints            : 91              \n",
      "  Cones                  : 0               \n",
      "  Scalar variables       : 1               \n",
      "  Matrix variables       : 1               \n",
      "  Integer variables      : 0               \n",
      "\n",
      "Optimizer  - threads                : 8               \n",
      "Optimizer  - solved problem         : the primal      \n",
      "Optimizer  - Constraints            : 91\n",
      "Optimizer  - Cones                  : 1\n",
      "Optimizer  - Scalar variables       : 2                 conic                  : 2               \n",
      "Optimizer  - Semi-definite variables: 1                 scalarized             : 406             \n",
      "Factor     - setup time             : 0.00              dense det. time        : 0.00            \n",
      "Factor     - ML order time          : 0.00              GP order time          : 0.00            \n",
      "Factor     - nonzeros before factor : 4186              after factor           : 4186            \n",
      "Factor     - dense dim.             : 0                 flops                  : 6.27e+05        \n",
      "ITE PFEAS    DFEAS    GFEAS    PRSTATUS   POBJ              DOBJ              MU       TIME  \n",
      "0   4.0e+00  1.0e+00  1.0e+00  0.00e+00   0.000000000e+00   0.000000000e+00   1.0e+00  0.00  \n",
      "1   1.1e+00  2.6e-01  1.5e-01  1.49e-01   1.589198288e-01   1.639199383e-01   2.6e-01  0.00  \n",
      "2   2.0e-01  5.0e-02  1.3e-02  8.52e-01   4.001128139e-01   3.947886574e-01   5.0e-02  0.00  \n",
      "3   3.9e-02  9.6e-03  2.0e-03  4.44e-01   2.164649863e-01   1.926569586e-01   9.6e-03  0.01  \n",
      "4   8.2e-03  2.1e-03  3.0e-04  4.54e-01   8.234789804e-02   6.772393373e-02   2.1e-03  0.01  \n",
      "5   1.6e-03  4.1e-04  2.2e-05  9.42e-01   2.155576736e-02   1.973605712e-02   4.1e-04  0.01  \n",
      "6   2.9e-04  7.3e-05  1.6e-06  1.02e+00   3.951924139e-03   3.665642835e-03   7.3e-05  0.01  \n",
      "7   5.9e-05  1.5e-05  1.4e-07  1.02e+00   7.277820581e-04   6.724263932e-04   1.5e-05  0.01  \n",
      "8   1.4e-05  3.6e-06  1.6e-08  9.77e-01   1.732407327e-04   1.621711454e-04   3.6e-06  0.01  \n",
      "9   3.3e-06  8.2e-07  1.9e-09  8.98e-01   3.929113016e-05   3.590528690e-05   8.2e-07  0.01  \n",
      "10  6.9e-07  1.7e-07  1.7e-10  9.28e-01   9.311982857e-06   8.773800910e-06   1.7e-07  0.01  \n",
      "11  1.8e-07  4.4e-08  2.8e-11  7.81e-01   2.350576163e-06   2.074753368e-06   4.4e-08  0.01  \n",
      "12  2.2e-08  5.5e-09  4.8e-12  1.81e-01   -1.533381416e-06  -2.243690143e-06  5.4e-09  0.01  \n",
      "13  1.6e-09  3.8e-10  1.7e-12  -8.06e-01  -7.958777179e-05  -1.000043711e-04  3.7e-10  0.01  \n",
      "14  3.1e-11  7.2e-12  2.2e-13  -9.75e-01  -3.856780556e-03  -4.810472702e-03  7.1e-12  0.01  \n",
      "15  1.3e-11  3.0e-12  1.1e-13  -6.14e-01  -7.696700876e-03  -8.943031019e-03  3.0e-12  0.02  \n",
      "16  6.4e-12  1.5e-12  7.5e-14  -6.89e-01  -1.266112518e-02  -1.524252341e-02  1.5e-12  0.02  \n",
      "17  2.2e-12  5.2e-13  2.1e-14  -2.75e-01  -2.749387903e-02  -2.915801658e-02  5.2e-13  0.02  \n",
      "18  5.5e-13  1.3e-13  9.2e-15  -5.08e-01  -7.553178152e-02  -8.072828400e-02  1.3e-13  0.02  \n",
      "19  1.4e-13  3.5e-14  2.1e-15  2.42e-02   -1.204667599e-01  -1.249253095e-01  3.2e-14  0.02  \n",
      "20  3.5e-14  9.5e-15  7.7e-16  -1.61e-01  -2.006751293e-01  -2.093492972e-01  8.2e-15  0.02  \n",
      "21  1.2e-14  1.4e-14  2.2e-16  2.73e-01   -2.577083378e-01  -2.639750947e-01  2.7e-15  0.03  \n",
      "22  5.5e-15  2.1e-14  1.3e-16  -2.14e-01  -3.238898377e-01  -3.347506275e-01  1.3e-15  0.03  \n",
      "23  1.4e-15  1.2e-14  2.9e-17  1.70e-01   -4.402478577e-01  -4.484272444e-01  3.2e-16  0.03  \n",
      "24  3.5e-16  2.8e-14  1.0e-17  -1.63e-01  -6.210673286e-01  -6.367520297e-01  8.1e-17  0.03  \n",
      "25  8.8e-17  2.0e-14  2.4e-18  1.44e-01   -7.464109305e-01  -7.600014723e-01  2.0e-17  0.03  \n",
      "26  3.1e-17  6.4e-14  1.0e-18  -5.79e-02  -9.150855116e-01  -9.351230359e-01  7.2e-18  0.03  \n",
      "27  2.3e-16  3.9e-14  7.1e-19  1.77e-01   -9.662965280e-01  -9.850161144e-01  4.9e-18  0.04  \n",
      "28  1.7e-16  8.1e-14  3.3e-19  9.05e-02   -1.080346242e+00  -1.098337978e+00  2.2e-18  0.04  \n",
      "29  1.4e-16  9.8e-14  3.2e-19  8.85e-03   -1.089749898e+00  -1.107476175e+00  2.1e-18  0.04  \n",
      "30  7.5e-17  5.0e-14  1.9e-19  8.48e-02   -1.205719661e+00  -1.226262224e+00  1.2e-18  0.04  \n",
      "31  1.9e-16  6.0e-14  1.8e-19  1.04e-01   -1.204480496e+00  -1.224746825e+00  1.1e-18  0.04  \n",
      "32  1.7e-16  2.9e-13  1.6e-19  5.33e-02   -1.233198289e+00  -1.253799462e+00  9.7e-19  0.04  \n",
      "33  4.8e-17  5.5e-14  4.8e-20  2.05e-02   -1.454962046e+00  -1.476180065e+00  2.8e-19  0.04  \n",
      "34  4.8e-17  5.5e-14  4.8e-20  3.98e-01   -1.454962046e+00  -1.476180065e+00  2.8e-19  0.05  \n",
      "35  4.8e-17  5.5e-14  4.8e-20  1.19e+00   -1.454962046e+00  -1.476180065e+00  2.8e-19  0.05  \n",
      "Optimizer terminated. Time: 0.06    \n",
      "\n"
     ]
    },
    {
     "data": {
      "text/plain": [
       "(nothing, A JuMP Model\n",
       "Minimization problem with:\n",
       "Variables: 91\n",
       "Objective function type: AffExpr\n",
       "`AffExpr`-in-`MathOptInterface.EqualTo{Float64}`: 1 constraint\n",
       "`Vector{AffExpr}`-in-`MathOptInterface.PositiveSemidefiniteConeTriangle`: 1 constraint\n",
       "Model mode: AUTOMATIC\n",
       "CachingOptimizer state: NO_OPTIMIZER\n",
       "Solver name: No optimizer attached.\n",
       "Names registered in the model: basis, degree, dual, index, moments, monomials, nu, type, variables, y)"
      ]
     },
     "execution_count": 3,
     "metadata": {},
     "output_type": "execute_result"
    }
   ],
   "source": [
    "v, M = minimize(motz,[],[],X,6)"
   ]
  },
  {
   "cell_type": "code",
   "execution_count": 4,
   "metadata": {},
   "outputs": [],
   "source": [
    "v"
   ]
  },
  {
   "cell_type": "markdown",
   "metadata": {},
   "source": [
    "The objective value is a lower bound of the actual mimimal value $0$ of Motzkin polynomial.\n",
    "\n",
    "We extract a measure from the sequence of moments, using the function `MultivariateSeries.decompose`:"
   ]
  },
  {
   "cell_type": "code",
   "execution_count": 5,
   "metadata": {},
   "outputs": [
    {
     "data": {
      "text/plain": [
       "(Float64[], Matrix{Float64}(undef, 2, 0))"
      ]
     },
     "execution_count": 5,
     "metadata": {},
     "output_type": "execute_result"
    }
   ],
   "source": [
    "w, Xi = get_measure(M)"
   ]
  },
  {
   "cell_type": "markdown",
   "metadata": {},
   "source": [
    " `w` is the vector of weights and `Xi` is the matrix of points, that is support of the measure $\\mu=\\sum_i \\omega_i \\delta_{\\Xi_i}$. `w[i]` is the weight of the Dirac measure corresponding to the point `Xi[:,i]` in this decomposition.\n",
    "\n",
    "Here no point is found to approximate the optimal moment sequence."
   ]
  },
  {
   "cell_type": "markdown",
   "metadata": {},
   "source": [
    "Now, to find the minimizers, we add as constraints, that the gradient of the polynomial should vanish:"
   ]
  },
  {
   "cell_type": "code",
   "execution_count": 6,
   "metadata": {},
   "outputs": [
    {
     "name": "stdout",
     "output_type": "stream",
     "text": [
      "Problem\n",
      "  Name                   :                 \n",
      "  Objective sense        : max             \n",
      "  Type                   : CONIC (conic optimization problem)\n",
      "  Constraints            : 91              \n",
      "  Cones                  : 0               \n",
      "  Scalar variables       : 73              \n",
      "  Matrix variables       : 1               \n",
      "  Integer variables      : 0               \n",
      "\n",
      "Optimizer started.\n",
      "Presolve started.\n",
      "Linear dependency checker started.\n",
      "Linear dependency checker terminated.\n",
      "Eliminator started.\n",
      "Freed constraints in eliminator : 0\n",
      "Eliminator terminated.\n",
      "Eliminator started.\n",
      "Freed constraints in eliminator : 0\n",
      "Eliminator terminated.\n",
      "Eliminator - tries                  : 2                 time                   : 0.00            \n",
      "Lin. dep.  - tries                  : 1                 time                   : 0.00            \n",
      "Lin. dep.  - number                 : 0               \n",
      "Presolve terminated. Time: 0.00    \n",
      "Problem\n",
      "  Name                   :                 \n",
      "  Objective sense        : max             \n",
      "  Type                   : CONIC (conic optimization problem)\n",
      "  Constraints            : 91              \n",
      "  Cones                  : 0               \n",
      "  Scalar variables       : 73              \n",
      "  Matrix variables       : 1               \n",
      "  Integer variables      : 0               \n",
      "\n",
      "Optimizer  - threads                : 8               \n",
      "Optimizer  - solved problem         : the primal      \n",
      "Optimizer  - Constraints            : 91\n",
      "Optimizer  - Cones                  : 1\n",
      "Optimizer  - Scalar variables       : 74                conic                  : 74              \n",
      "Optimizer  - Semi-definite variables: 1                 scalarized             : 406             \n",
      "Factor     - setup time             : 0.00              dense det. time        : 0.00            \n",
      "Factor     - ML order time          : 0.00              GP order time          : 0.00            \n",
      "Factor     - nonzeros before factor : 4186              after factor           : 4186            \n",
      "Factor     - dense dim.             : 0                 flops                  : 6.33e+05        \n",
      "ITE PFEAS    DFEAS    GFEAS    PRSTATUS   POBJ              DOBJ              MU       TIME  \n",
      "0   1.0e+00  1.0e+00  1.0e+00  0.00e+00   0.000000000e+00   0.000000000e+00   1.0e+00  0.00  \n",
      "1   2.5e-01  2.5e-01  1.2e-01  8.03e-01   4.679510596e-01   5.054146563e-01   2.5e-01  0.00  \n",
      "2   5.3e-02  5.3e-02  1.3e-02  9.43e-01   7.536814501e-01   7.548430903e-01   5.3e-02  0.00  \n",
      "3   1.1e-02  1.1e-02  3.2e-03  -1.58e-03  3.564569030e-01   2.975228258e-01   1.1e-02  0.00  \n",
      "4   1.4e-03  1.4e-03  2.0e-04  5.22e-01   6.515686226e-02   5.165017439e-02   1.4e-03  0.01  \n",
      "5   1.7e-04  1.7e-04  7.1e-06  9.93e-01   7.666241727e-03   6.434019857e-03   1.7e-04  0.01  \n",
      "6   2.3e-05  2.3e-05  3.4e-07  1.06e+00   8.760247919e-04   7.289217867e-04   2.3e-05  0.01  \n",
      "7   3.2e-06  3.2e-06  1.7e-08  1.05e+00   1.165424524e-04   9.874351220e-05   3.2e-06  0.01  \n",
      "8   3.4e-07  3.4e-07  5.7e-10  1.03e+00   1.232283300e-05   1.062584059e-05   3.4e-07  0.01  \n",
      "9   4.3e-08  4.3e-08  2.4e-11  1.05e+00   1.739371970e-06   1.565527805e-06   4.3e-08  0.01  \n",
      "10  5.5e-09  5.5e-09  1.1e-12  1.02e+00   2.682992527e-07   2.450978783e-07   5.6e-09  0.01  \n",
      "11  6.1e-10  1.8e-09  4.1e-14  9.99e-01   3.508005206e-08   3.241878964e-08   6.4e-10  0.01  \n",
      "Optimizer terminated. Time: 0.01    \n",
      "\n"
     ]
    },
    {
     "data": {
      "text/plain": [
       "(3.508005206489722e-8, A JuMP Model\n",
       "Minimization problem with:\n",
       "Variables: 91\n",
       "Objective function type: AffExpr\n",
       "`AffExpr`-in-`MathOptInterface.EqualTo{Float64}`: 73 constraints\n",
       "`Vector{AffExpr}`-in-`MathOptInterface.PositiveSemidefiniteConeTriangle`: 1 constraint\n",
       "Model mode: AUTOMATIC\n",
       "CachingOptimizer state: NO_OPTIMIZER\n",
       "Solver name: No optimizer attached.\n",
       "Names registered in the model: basis, degree, dual, index, moments, monomials, nu, type, variables, y)"
      ]
     },
     "execution_count": 6,
     "metadata": {},
     "output_type": "execute_result"
    }
   ],
   "source": [
    "J = differentiate(motz,X)\n",
    "v, M = minimize(motz, J,[], X, 6)"
   ]
  },
  {
   "cell_type": "code",
   "execution_count": 7,
   "metadata": {},
   "outputs": [
    {
     "data": {
      "text/plain": [
       "(ComplexF64[0.24999899665843472 + 2.53746840362181e-24im, 0.24999931434234496 - 2.9369695048587213e-24im, 0.24999931434234557 + 8.62076045504157e-24im, 0.24999899665843472 - 1.3649013443718234e-24im], ComplexF64[1.0000332751243977 - 1.2274562148132675e-22im -0.9999986547780946 + 3.3197704318268417e-22im 0.999998654778095 - 3.2087889721712766e-22im -1.00003327512438 + 1.1990749465519917e-22im; 0.9999937527927507 + 2.5251814192169112e-23im 1.0000004371411473 - 6.829589930462932e-23im -1.0000004371411473 + 6.601273586202847e-23im -0.9999937527927547 - 2.4667941211472628e-23im])"
      ]
     },
     "execution_count": 7,
     "metadata": {},
     "output_type": "execute_result"
    }
   ],
   "source": [
    "w, Xi = get_measure(M)"
   ]
  },
  {
   "cell_type": "code",
   "execution_count": null,
   "metadata": {},
   "outputs": [],
   "source": [
    "p0 = plot([-1,-1,1,1], [-1,1,-1,1], seriestype = :scatter, color=:blue, fmt=:png)\n",
    "p1 = plot!(p0,real(Xi[1,:]), real(Xi[2,:]), seriestype = :scatter, zcolor = abs.(w), m = (:heat, 0.8, Plots.stroke(1, :black)), fmt=:png)"
   ]
  },
  {
   "cell_type": "markdown",
   "metadata": {},
   "source": [
    "We find approximately the $4$ minimizers.\n",
    "\n",
    "\n",
    "Finally, to find the minimizers, we try another strategy and add the constraint that the polynomial should vanish, since we know that its minimal value (at the minimizers) is $0$:"
   ]
  },
  {
   "cell_type": "code",
   "execution_count": null,
   "metadata": {},
   "outputs": [],
   "source": [
    "v, M = minimize(motz, [motz], [], X, 6)"
   ]
  },
  {
   "cell_type": "code",
   "execution_count": null,
   "metadata": {},
   "outputs": [],
   "source": [
    "w, Xi = get_measure(M)"
   ]
  },
  {
   "cell_type": "code",
   "execution_count": null,
   "metadata": {},
   "outputs": [],
   "source": [
    "p0 = plot([-1,-1,1,1], [-1,1,-1,1], seriestype = :scatter, color=:blue, fmt=:png)\n",
    "p1 = plot!(p0,real(Xi[1,:]), real(Xi[2,:]), seriestype = :scatter, zcolor = abs.(w), m = (:heat, 0.8, Plots.stroke(1, :black)), fmt=:png)"
   ]
  },
  {
   "cell_type": "markdown",
   "metadata": {},
   "source": [
    "The minimizers (in red) are close to that actual minimizers (in blue)."
   ]
  }
 ],
 "metadata": {
  "@webio": {
   "lastCommId": null,
   "lastKernelId": null
  },
  "kernelspec": {
   "display_name": "Julia 1.7.2",
   "language": "julia",
   "name": "julia-1.7"
  },
  "language_info": {
   "file_extension": ".jl",
   "mimetype": "application/julia",
   "name": "julia",
   "version": "1.7.2"
  }
 },
 "nbformat": 4,
 "nbformat_minor": 2
}
