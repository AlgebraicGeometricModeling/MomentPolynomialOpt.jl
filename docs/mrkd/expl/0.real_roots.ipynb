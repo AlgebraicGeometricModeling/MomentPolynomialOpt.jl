{
 "cells": [
  {
   "cell_type": "markdown",
   "metadata": {},
   "source": [
    "# A simple univariate example"
   ]
  },
  {
   "cell_type": "code",
   "execution_count": 1,
   "metadata": {},
   "outputs": [],
   "source": [
    "using DynamicPolynomials, MomentTools"
   ]
  },
  {
   "cell_type": "code",
   "execution_count": 2,
   "metadata": {},
   "outputs": [
    {
     "data": {
      "text/latex": [
       "$$ x^{4} + x^{3} - x - 1 $$"
      ],
      "text/plain": [
       "x⁴ + x³ - x - 1"
      ]
     },
     "execution_count": 2,
     "metadata": {},
     "output_type": "execute_result"
    }
   ],
   "source": [
    "X = @polyvar x\n",
    "p = x^4+x^3-x-1"
   ]
  },
  {
   "cell_type": "markdown",
   "metadata": {},
   "source": [
    "We minimize $x^2$ under the constraint $p=0$. "
   ]
  },
  {
   "cell_type": "code",
   "execution_count": 8,
   "metadata": {},
   "outputs": [
    {
     "name": "stdout",
     "output_type": "stream",
     "text": [
      "Problem\n",
      "  Name                   :                 \n",
      "  Objective sense        : max             \n",
      "  Type                   : CONIC (conic optimization problem)\n",
      "  Constraints            : 9               \n",
      "  Cones                  : 0               \n",
      "  Scalar variables       : 6               \n",
      "  Matrix variables       : 1               \n",
      "  Integer variables      : 0               \n",
      "\n",
      "Optimizer started.\n",
      "Presolve started.\n",
      "Linear dependency checker started.\n",
      "Linear dependency checker terminated.\n",
      "Eliminator started.\n",
      "Freed constraints in eliminator : 0\n",
      "Eliminator terminated.\n",
      "Eliminator started.\n",
      "Freed constraints in eliminator : 0\n",
      "Eliminator terminated.\n",
      "Eliminator - tries                  : 2                 time                   : 0.00            \n",
      "Lin. dep.  - tries                  : 1                 time                   : 0.00            \n",
      "Lin. dep.  - number                 : 0               \n",
      "Presolve terminated. Time: 0.00    \n",
      "Problem\n",
      "  Name                   :                 \n",
      "  Objective sense        : max             \n",
      "  Type                   : CONIC (conic optimization problem)\n",
      "  Constraints            : 9               \n",
      "  Cones                  : 0               \n",
      "  Scalar variables       : 6               \n",
      "  Matrix variables       : 1               \n",
      "  Integer variables      : 0               \n",
      "\n",
      "Optimizer  - threads                : 8               \n",
      "Optimizer  - solved problem         : the primal      \n",
      "Optimizer  - Constraints            : 9\n",
      "Optimizer  - Cones                  : 1\n",
      "Optimizer  - Scalar variables       : 7                 conic                  : 7               \n",
      "Optimizer  - Semi-definite variables: 1                 scalarized             : 15              \n",
      "Factor     - setup time             : 0.00              dense det. time        : 0.00            \n",
      "Factor     - ML order time          : 0.00              GP order time          : 0.00            \n",
      "Factor     - nonzeros before factor : 45                after factor           : 45              \n",
      "Factor     - dense dim.             : 0                 flops                  : 1.20e+03        \n",
      "ITE PFEAS    DFEAS    GFEAS    PRSTATUS   POBJ              DOBJ              MU       TIME  \n",
      "0   1.0e+00  1.0e+00  1.0e+00  0.00e+00   0.000000000e+00   0.000000000e+00   1.0e+00  0.00  \n",
      "1   3.0e-01  3.0e-01  1.9e-01  9.22e-01   2.737923248e-01   1.991304207e-01   3.0e-01  0.00  \n",
      "2   4.6e-02  4.6e-02  2.8e-02  5.27e-02   1.160754485e+00   8.891699628e-01   4.6e-02  0.00  \n",
      "3   9.9e-04  9.9e-04  7.4e-05  9.44e-01   1.001400378e+00   9.982665392e-01   9.9e-04  0.00  \n",
      "4   1.6e-05  1.6e-05  1.4e-07  1.01e+00   1.000005027e+00   9.999636508e-01   1.6e-05  0.00  \n",
      "5   1.1e-06  1.1e-06  2.5e-09  1.03e+00   9.999993618e-01   9.999969452e-01   1.1e-06  0.00  \n",
      "6   5.5e-08  5.5e-08  2.5e-11  1.03e+00   9.999999141e-01   9.999998275e-01   5.5e-08  0.00  \n",
      "7   3.4e-09  1.8e-09  1.3e-13  1.04e+00   9.999999945e-01   9.999999936e-01   1.8e-09  0.00  \n",
      "Optimizer terminated. Time: 0.00    \n",
      "\n"
     ]
    },
    {
     "data": {
      "text/plain": [
       "(0.9999999944816723, A JuMP Model\n",
       "Minimization problem with:\n",
       "Variables: 9\n",
       "Objective function type: AffExpr\n",
       "`AffExpr`-in-`MathOptInterface.EqualTo{Float64}`: 6 constraints\n",
       "`Vector{AffExpr}`-in-`MathOptInterface.PositiveSemidefiniteConeTriangle`: 1 constraint\n",
       "Model mode: AUTOMATIC\n",
       "CachingOptimizer state: NO_OPTIMIZER\n",
       "Solver name: No optimizer attached.\n",
       "Names registered in the model: basis, degree, dual, index, moments, monomials, nu, type, variables, y)"
      ]
     },
     "execution_count": 8,
     "metadata": {},
     "output_type": "execute_result"
    }
   ],
   "source": [
    "using JuMP, MosekTools; set_optimizer(Mosek.Optimizer); \n",
    "#optimizer = optimizer_with_attributes(Mosek.Optimizer, \"QUIET\" => true)\n",
    "v, M = minimize(x^2, [p], [], X, 4)"
   ]
  },
  {
   "cell_type": "markdown",
   "metadata": {},
   "source": [
    "We use Mosek optimizer to solve the underlying SDP optimization problem. The first argument $x^2$ of the function `minimize` is the objective function. The second argument is the array of equality constraints, the third is the array of non-negativity constraints (here empty).\n",
    "\n",
    "The function `minimize` returns `v` the optimal value found (here it is $\\approx 1$) and `M` the Moment Model built for the optimization (which type is `MomentTools.MOM.Model`). \n",
    "\n",
    "The minimizers can be obtained from `M` as follows:"
   ]
  },
  {
   "cell_type": "code",
   "execution_count": 9,
   "metadata": {},
   "outputs": [
    {
     "data": {
      "text/plain": [
       "1×2 Matrix{Float64}:\n",
       " 1.0  -1.0"
      ]
     },
     "execution_count": 9,
     "metadata": {},
     "output_type": "execute_result"
    }
   ],
   "source": [
    "get_minimizers(M)"
   ]
  },
  {
   "cell_type": "markdown",
   "metadata": {},
   "source": [
    "The minimizers are presented as a $n\\times r$ matrix, where $n$ is the number of variables (here $n=1$) and $r$ is the number of points (here $r=2$). \n",
    "\n",
    "An approximation  of the associate measure can be obtained as follows:"
   ]
  },
  {
   "cell_type": "code",
   "execution_count": 10,
   "metadata": {},
   "outputs": [
    {
     "data": {
      "text/plain": [
       "([0.4849875221398634, 0.5150124733228062], [0.9999999995824745 -1.000000001094948])"
      ]
     },
     "execution_count": 10,
     "metadata": {},
     "output_type": "execute_result"
    }
   ],
   "source": [
    "get_measure(M)"
   ]
  },
  {
   "cell_type": "markdown",
   "metadata": {},
   "source": [
    "It corresponds approximately to the measure $0.5\\, \\delta_{-1} + 0.5\\, \\delta_{1}$ where $\\delta_x$ is the Dirac measure supported on $x$.\n",
    "\n",
    "\n",
    "Next, we search the root(s) with $x \\geq 0$. For that purpose, we minimize `nothing` (i.e. $1$) and add the non-negativity constraint $x\\geq 0$:"
   ]
  },
  {
   "cell_type": "code",
   "execution_count": 11,
   "metadata": {},
   "outputs": [
    {
     "name": "stdout",
     "output_type": "stream",
     "text": [
      "Problem\n",
      "  Name                   :                 \n",
      "  Objective sense        : min             \n",
      "  Type                   : CONIC (conic optimization problem)\n",
      "  Constraints            : 9               \n",
      "  Cones                  : 0               \n",
      "  Scalar variables       : 6               \n",
      "  Matrix variables       : 2               \n",
      "  Integer variables      : 0               \n",
      "\n",
      "Optimizer started.\n",
      "Presolve started.\n",
      "Linear dependency checker started.\n",
      "Linear dependency checker terminated.\n",
      "Eliminator started.\n",
      "Freed constraints in eliminator : 0\n",
      "Eliminator terminated.\n",
      "Eliminator started.\n",
      "Freed constraints in eliminator : 0\n",
      "Eliminator terminated.\n",
      "Eliminator - tries                  : 2                 time                   : 0.00            \n",
      "Lin. dep.  - tries                  : 1                 time                   : 0.00            \n",
      "Lin. dep.  - number                 : 0               \n",
      "Presolve terminated. Time: 0.00    \n",
      "Problem\n",
      "  Name                   :                 \n",
      "  Objective sense        : min             \n",
      "  Type                   : CONIC (conic optimization problem)\n",
      "  Constraints            : 9               \n",
      "  Cones                  : 0               \n",
      "  Scalar variables       : 6               \n",
      "  Matrix variables       : 2               \n",
      "  Integer variables      : 0               \n",
      "\n",
      "Optimizer  - threads                : 8               \n",
      "Optimizer  - solved problem         : the primal      \n",
      "Optimizer  - Constraints            : 9\n",
      "Optimizer  - Cones                  : 1\n",
      "Optimizer  - Scalar variables       : 7                 conic                  : 7               \n",
      "Optimizer  - Semi-definite variables: 2                 scalarized             : 25              \n",
      "Factor     - setup time             : 0.00              dense det. time        : 0.00            \n",
      "Factor     - ML order time          : 0.00              GP order time          : 0.00            \n",
      "Factor     - nonzeros before factor : 45                after factor           : 45              \n",
      "Factor     - dense dim.             : 0                 flops                  : 1.55e+03        \n",
      "ITE PFEAS    DFEAS    GFEAS    PRSTATUS   POBJ              DOBJ              MU       TIME  \n",
      "0   2.0e+00  1.0e+00  1.0e+00  0.00e+00   0.000000000e+00   0.000000000e+00   1.0e+00  0.00  \n",
      "1   4.5e-01  2.2e-01  1.8e-01  0.00e+00   3.242576816e-01   6.193339191e-01   2.2e-01  0.00  \n",
      "2   4.9e-02  2.4e-02  1.8e-02  -1.96e-02  4.990250320e-01   9.494429986e-01   2.4e-02  0.00  \n",
      "3   6.5e-04  3.2e-04  1.7e-05  9.41e-01   9.973610547e-01   9.991161354e-01   3.2e-04  0.00  \n",
      "4   7.2e-06  3.6e-06  1.7e-08  1.01e+00   9.999802827e-01   9.999911955e-01   3.6e-06  0.00  \n",
      "5   1.8e-07  9.1e-08  6.3e-11  1.03e+00   9.999996084e-01   9.999997905e-01   9.1e-08  0.00  \n",
      "6   2.2e-09  1.1e-09  6.7e-14  1.02e+00   9.999999975e-01   9.999999977e-01   1.1e-09  0.00  \n",
      "Optimizer terminated. Time: 0.00    \n",
      "\n"
     ]
    },
    {
     "data": {
      "text/plain": [
       "1×1 Matrix{Float64}:\n",
       " 1.0000000000818177"
      ]
     },
     "execution_count": 11,
     "metadata": {},
     "output_type": "execute_result"
    }
   ],
   "source": [
    "v, M = minimize(nothing, [p], [x], X, 4)\n",
    "get_minimizers(M)"
   ]
  },
  {
   "cell_type": "markdown",
   "metadata": {},
   "source": [
    "Now we search the negative root with maximal value of $x$."
   ]
  },
  {
   "cell_type": "code",
   "execution_count": 7,
   "metadata": {},
   "outputs": [
    {
     "ename": "ErrorException",
     "evalue": "The provided `optimizer_constructor` is invalid. It must be callable with zero arguments. For example, \"Ipopt.Optimizer\" or \"() -> ECOS.Optimizer()\". It should not be an instantiated optimizer like \"Ipopt.Optimizer()\" or \"ECOS.Optimizer()\". (Note the difference in parentheses!)",
     "output_type": "error",
     "traceback": [
      "The provided `optimizer_constructor` is invalid. It must be callable with zero arguments. For example, \"Ipopt.Optimizer\" or \"() -> ECOS.Optimizer()\". It should not be an instantiated optimizer like \"Ipopt.Optimizer()\" or \"ECOS.Optimizer()\". (Note the difference in parentheses!)",
      "",
      "Stacktrace:",
      " [1] error(::String) at ./error.jl:33",
      " [2] MathOptInterface.OptimizerWithAttributes(::MathOptInterface.OptimizerWithAttributes) at /Users/mourrain/.julia/packages/MathOptInterface/8Mxwr/src/instantiate.jl:33",
      " [3] optimizer_with_attributes at /Users/mourrain/.julia/packages/JuMP/e0Uc2/src/JuMP.jl:92 [inlined]",
      " [4] dualize! at /Users/mourrain/Julia/MomentTools.jl/src/MOM/Model.jl:89 [inlined]",
      " [5] Model(::Symbol, ::PolyVar{true}, ::Array{Polynomial{true,Int64},1}, ::Array{Term{true,Int64},1}, ::Tuple{PolyVar{true}}, ::Int64, ::MathOptInterface.OptimizerWithAttributes) at /Users/mourrain/Julia/MomentTools.jl/src/MOM/Model.jl:147",
      " [6] #optimize#1 at /Users/mourrain/Julia/MomentTools.jl/src/optimize.jl:84 [inlined]",
      " [7] optimize at /Users/mourrain/Julia/MomentTools.jl/src/optimize.jl:84 [inlined]",
      " [8] #maximize#3 at /Users/mourrain/Julia/MomentTools.jl/src/optimize.jl:114 [inlined]",
      " [9] maximize(::PolyVar{true}, ::Array{Polynomial{true,Int64},1}, ::Array{Term{true,Int64},1}, ::Tuple{PolyVar{true}}, ::Int64, ::MathOptInterface.OptimizerWithAttributes) at /Users/mourrain/Julia/MomentTools.jl/src/optimize.jl:114",
      " [10] top-level scope at In[7]:1"
     ]
    }
   ],
   "source": [
    "v, M = maximize(x, [p], [-x], X, 4, optimizer)\n",
    "get_minimizers(M)"
   ]
  },
  {
   "cell_type": "code",
   "execution_count": null,
   "metadata": {},
   "outputs": [],
   "source": []
  }
 ],
 "metadata": {
  "@webio": {
   "lastCommId": null,
   "lastKernelId": null
  },
  "kernelspec": {
   "display_name": "Julia 1.7.2",
   "language": "julia",
   "name": "julia-1.7"
  },
  "language_info": {
   "file_extension": ".jl",
   "mimetype": "application/julia",
   "name": "julia",
   "version": "1.7.2"
  }
 },
 "nbformat": 4,
 "nbformat_minor": 2
}
