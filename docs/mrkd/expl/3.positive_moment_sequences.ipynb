{
 "cells": [
  {
   "cell_type": "markdown",
   "metadata": {},
   "source": [
    "# Constraints on Positive Moment Sequences"
   ]
  },
  {
   "cell_type": "code",
   "execution_count": 1,
   "metadata": {},
   "outputs": [],
   "source": [
    "using DynamicPolynomials, MultivariateSeries, MomentPolynomialOpt\n",
    "using JuMP, MosekTools; mpo_optimizer(Mosek.Optimizer, \"QUIET\" => true);"
   ]
  },
  {
   "cell_type": "markdown",
   "metadata": {},
   "source": [
    "We define a moment model  in variables $x,y$:"
   ]
  },
  {
   "cell_type": "code",
   "execution_count": 2,
   "metadata": {},
   "outputs": [
    {
     "data": {
      "text/plain": [
       "10"
      ]
     },
     "execution_count": 2,
     "metadata": {},
     "output_type": "execute_result"
    }
   ],
   "source": [
    "X = @polyvar x y\n",
    "\n",
    "M = MOM.Model()\n",
    "d = 10"
   ]
  },
  {
   "cell_type": "markdown",
   "metadata": {},
   "source": [
    "We define now a moment sequence $\\mu_1$ with is Positive Semi-Definite (.i.e non-negative on squares) and non-negative on the unit ball, truncated in degree $2d$:"
   ]
  },
  {
   "cell_type": "code",
   "execution_count": 3,
   "metadata": {},
   "outputs": [],
   "source": [
    "mu1 = moments(M,X,2*d,:PSD)\n",
    "\n",
    "g1 = 1-x^2-y^2\n",
    "\n",
    "# p1 * mu >= 0\n",
    "MOM.add_constraint_nneg(M, mu1, g1);"
   ]
  },
  {
   "cell_type": "markdown",
   "metadata": {},
   "source": [
    "We consider a second moment sequence $\\mu_2$ which is PSD and non-negative on the bux $\\mathbb{B}=[-1,1]^2$: "
   ]
  },
  {
   "cell_type": "code",
   "execution_count": 4,
   "metadata": {},
   "outputs": [],
   "source": [
    "mu2 = moments(M, X, 2*d, :PSD)\n",
    "\n",
    "q1 = 1-x^2\n",
    "q2 = 1-y^2\n",
    "\n",
    "# q1 * mu_2 >= 0, q2 * mu_2 >=0\n",
    "MOM.add_constraint_nneg(M, mu2, q1)\n",
    "MOM.add_constraint_nneg(M, mu2, q2);"
   ]
  },
  {
   "cell_type": "markdown",
   "metadata": {},
   "source": [
    "Now, we impose that $\\mu_1+\\mu_2= \\lambda$ where $\\lambda$ is the Lebesgue measure on the box $\\mathbb{B}$. It translates into moment constraintes:"
   ]
  },
  {
   "cell_type": "code",
   "execution_count": 5,
   "metadata": {},
   "outputs": [],
   "source": [
    "function lebesgue(m)\n",
    "    e = exponents(m); \n",
    "    return ((1-(-1)^(e[1]+1))/(e[1]+1))*((1-(-1)^(e[2]+1))/(e[2]+1))\n",
    "end\n",
    "\n",
    "L = monomials(X, 0:2*d) \n",
    "for m in L\n",
    "    @constraint(M, mmt(mu1, m) + mmt(mu2,m) - lebesgue(m) == 0)\n",
    "end"
   ]
  },
  {
   "cell_type": "markdown",
   "metadata": {},
   "source": [
    "Finally, we optimize the total mass of $\\mu_1$ to get the volume of $S$."
   ]
  },
  {
   "cell_type": "code",
   "execution_count": 6,
   "metadata": {},
   "outputs": [
    {
     "data": {
      "text/plain": [
       "(3.5833175500047845, A JuMP Model\n",
       "Maximization problem with:\n",
       "Variables: 462\n",
       "Objective function type: AffExpr\n",
       "`AffExpr`-in-`MathOptInterface.EqualTo{Float64}`: 231 constraints\n",
       "`Vector{AffExpr}`-in-`MathOptInterface.PositiveSemidefiniteConeTriangle`: 5 constraints\n",
       "Model mode: AUTOMATIC\n",
       "CachingOptimizer state: ATTACHED_OPTIMIZER\n",
       "Solver name: Dual model with Mosek attached\n",
       "Names registered in the model: mu, type)"
      ]
     },
     "execution_count": 6,
     "metadata": {},
     "output_type": "execute_result"
    }
   ],
   "source": [
    "# sup  <mu_1,1>  \n",
    "@objective(M, Max, mmt(mu1,1) )\n",
    "\n",
    "v, M = optimize(M)"
   ]
  },
  {
   "cell_type": "code",
   "execution_count": null,
   "metadata": {},
   "outputs": [],
   "source": []
  }
 ],
 "metadata": {
  "@webio": {
   "lastCommId": null,
   "lastKernelId": null
  },
  "kernelspec": {
   "display_name": "Julia 1.9.3",
   "language": "julia",
   "name": "julia-1.9"
  },
  "language_info": {
   "file_extension": ".jl",
   "mimetype": "application/julia",
   "name": "julia",
   "version": "1.9.3"
  }
 },
 "nbformat": 4,
 "nbformat_minor": 4
}
