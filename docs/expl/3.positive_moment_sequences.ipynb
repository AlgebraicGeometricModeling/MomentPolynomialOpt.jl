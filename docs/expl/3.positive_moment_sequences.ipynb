{
 "cells": [
  {
   "cell_type": "markdown",
   "metadata": {},
   "source": [
    "# Constraints on Positive Moment Sequences"
   ]
  },
  {
   "cell_type": "code",
   "execution_count": 1,
   "metadata": {},
   "outputs": [
    {
     "name": "stderr",
     "output_type": "stream",
     "text": [
      "┌ Info: Precompiling MomentPolynomialOpt [65cd4d85-9fe5-4fdc-93e2-c8798c615752]\n",
      "└ @ Base loading.jl:1273\n",
      "┌ Warning: Package MomentPolynomialOpt does not have MultivariateSeries in its dependencies:\n",
      "│ - If you have MomentPolynomialOpt checked out for development and have\n",
      "│   added MultivariateSeries as a dependency but haven't updated your primary\n",
      "│   environment's manifest file, try `Pkg.resolve()`.\n",
      "│ - Otherwise you may need to report an issue with MomentPolynomialOpt\n",
      "└ Loading MultivariateSeries into MomentPolynomialOpt from project dependency, future warnings for MomentPolynomialOpt are suppressed.\n"
     ]
    }
   ],
   "source": [
    "using DynamicPolynomials, MultivariateSeries, MomentPolynomialOpt\n",
    "using MosekTools; optimizer = Mosek.Optimizer;"
   ]
  },
  {
   "cell_type": "code",
   "execution_count": 2,
   "metadata": {},
   "outputs": [
    {
     "data": {
      "text/plain": [
       "\n",
       "A Moment program with:\n",
       "A JuMP Model\n",
       "Feasibility problem with:\n",
       "Variables: 462\n",
       "`Array{JuMP.VariableRef,1}`-in-`MathOptInterface.PositiveSemidefiniteConeTriangle`: 2 constraints\n",
       "Model mode: AUTOMATIC\n",
       "CachingOptimizer state: EMPTY_OPTIMIZER\n",
       "Solver name: Dual model with Mosek attached\n",
       "Names registered in the model: basis, degree, dual, index, moments, monomials, nu, variables, y"
      ]
     },
     "execution_count": 2,
     "metadata": {},
     "output_type": "execute_result"
    }
   ],
   "source": [
    "X = @polyvar x y\n",
    "d = 10\n",
    "M  = MomentModel(X, d, optimizer, nu=2)"
   ]
  },
  {
   "cell_type": "code",
   "execution_count": 3,
   "metadata": {},
   "outputs": [],
   "source": [
    "constraint_nneg(M,1, 1-x^2-y^2)\n",
    "constraint_nneg(M,2, 1-x^2, 1-y^2)"
   ]
  },
  {
   "cell_type": "code",
   "execution_count": 4,
   "metadata": {},
   "outputs": [],
   "source": [
    "L = monomials(X, seq(0:2*d))\n",
    "lebesgue(i,j) = ((1-(-1)^(i+1))/(i+1))*((1-(-1)^(j+1))/(j+1))\n",
    "constraint_moments(M,\n",
    "                   [(m=>lebesgue(exponents(m)...)) for m in L],\n",
    "                   collect(1:2), [1,1] )"
   ]
  },
  {
   "cell_type": "code",
   "execution_count": 5,
   "metadata": {},
   "outputs": [
    {
     "data": {
      "text/latex": [
       "$$ y_{1,1} $$"
      ],
      "text/plain": [
       "y[1,1]"
      ]
     },
     "execution_count": 5,
     "metadata": {},
     "output_type": "execute_result"
    }
   ],
   "source": [
    "objective(M, 1, 1.0, \"sup\")"
   ]
  },
  {
   "cell_type": "code",
   "execution_count": 6,
   "metadata": {},
   "outputs": [
    {
     "name": "stdout",
     "output_type": "stream",
     "text": [
      "Problem\n",
      "  Name                   :                 \n",
      "  Objective sense        : min             \n",
      "  Type                   : CONIC (conic optimization problem)\n",
      "  Constraints            : 462             \n",
      "  Cones                  : 0               \n",
      "  Scalar variables       : 231             \n",
      "  Matrix variables       : 5               \n",
      "  Integer variables      : 0               \n",
      "\n",
      "Optimizer started.\n",
      "Presolve started.\n",
      "Linear dependency checker started.\n",
      "Linear dependency checker terminated.\n",
      "Eliminator started.\n",
      "Freed constraints in eliminator : 0\n",
      "Eliminator terminated.\n",
      "Eliminator started.\n",
      "Freed constraints in eliminator : 0\n",
      "Eliminator terminated.\n",
      "Eliminator - tries                  : 2                 time                   : 0.00            \n",
      "Lin. dep.  - tries                  : 1                 time                   : 0.00            \n",
      "Lin. dep.  - number                 : 0               \n",
      "Presolve terminated. Time: 0.00    \n",
      "Problem\n",
      "  Name                   :                 \n",
      "  Objective sense        : min             \n",
      "  Type                   : CONIC (conic optimization problem)\n",
      "  Constraints            : 462             \n",
      "  Cones                  : 0               \n",
      "  Scalar variables       : 231             \n",
      "  Matrix variables       : 5               \n",
      "  Integer variables      : 0               \n",
      "\n",
      "Optimizer  - threads                : 8               \n",
      "Optimizer  - solved problem         : the primal      \n",
      "Optimizer  - Constraints            : 462\n",
      "Optimizer  - Cones                  : 1\n",
      "Optimizer  - Scalar variables       : 232               conic                  : 232             \n",
      "Optimizer  - Semi-definite variables: 5                 scalarized             : 7527            \n",
      "Factor     - setup time             : 0.01              dense det. time        : 0.00            \n",
      "Factor     - ML order time          : 0.00              GP order time          : 0.00            \n",
      "Factor     - nonzeros before factor : 5.43e+04          after factor           : 8.74e+04        \n",
      "Factor     - dense dim.             : 2                 flops                  : 5.44e+07        \n",
      "ITE PFEAS    DFEAS    GFEAS    PRSTATUS   POBJ              DOBJ              MU       TIME  \n",
      "0   3.0e+00  4.0e+00  1.0e+00  0.00e+00   0.000000000e+00   0.000000000e+00   1.0e+00  0.02  \n",
      "1   8.6e-01  1.1e+00  7.4e-02  3.19e-01   2.227313818e+00   2.034785147e+00   2.9e-01  0.03  \n",
      "2   2.0e-01  2.7e-01  8.0e-03  1.62e+00   3.558535953e+00   3.532069682e+00   6.8e-02  0.05  \n",
      "3   5.3e-02  7.1e-02  1.1e-03  1.50e+00   3.775424594e+00   3.770494332e+00   1.8e-02  0.07  \n",
      "4   1.4e-02  1.9e-02  1.6e-04  1.01e+00   3.774265528e+00   3.773107456e+00   4.7e-03  0.09  \n",
      "5   4.9e-03  6.5e-03  4.0e-05  8.08e-01   3.760047982e+00   3.759705942e+00   1.6e-03  0.10  \n",
      "6   2.7e-03  3.6e-03  2.4e-05  3.66e-01   3.749815207e+00   3.749724302e+00   8.9e-04  0.12  \n",
      "7   6.9e-04  9.2e-04  4.9e-06  3.80e-01   3.725437924e+00   3.725569163e+00   2.3e-04  0.14  \n",
      "8   2.4e-04  3.1e-04  1.2e-06  3.25e-01   3.704778259e+00   3.704873452e+00   7.9e-05  0.17  \n",
      "9   1.1e-04  1.4e-04  5.3e-07  2.30e-01   3.691943416e+00   3.692063045e+00   3.6e-05  0.18  \n",
      "10  3.1e-05  4.1e-05  1.0e-07  4.47e-01   3.676385386e+00   3.676448347e+00   1.0e-05  0.20  \n",
      "11  1.1e-05  1.5e-05  3.2e-08  4.65e-01   3.668719992e+00   3.668774291e+00   3.7e-06  0.22  \n",
      "12  6.1e-06  8.2e-06  2.0e-08  2.94e-02   3.664551877e+00   3.664634224e+00   2.0e-06  0.24  \n",
      "13  3.2e-06  4.3e-06  1.2e-08  -1.56e-01  3.657723571e+00   3.657826546e+00   1.1e-06  0.26  \n",
      "14  1.1e-06  1.5e-06  3.4e-09  1.35e-01   3.645081107e+00   3.645162092e+00   3.6e-07  0.28  \n",
      "15  3.8e-07  4.9e-07  1.1e-09  1.24e-01   3.633102930e+00   3.633176735e+00   1.2e-07  0.29  \n",
      "16  2.3e-07  2.8e-07  6.8e-10  -1.62e-03  3.627183700e+00   3.627277402e+00   6.9e-08  0.31  \n",
      "17  9.2e-08  1.2e-07  2.8e-10  4.23e-02   3.615519444e+00   3.615608628e+00   2.9e-08  0.33  \n",
      "18  1.6e-08  2.9e-08  5.5e-11  1.94e-01   3.599258722e+00   3.599314907e+00   7.2e-09  0.35  \n",
      "19  5.8e-09  1.0e-08  1.5e-11  5.22e-01   3.591755197e+00   3.591786889e+00   2.6e-09  0.38  \n",
      "20  1.7e-09  3.0e-09  2.5e-12  7.78e-01   3.587479170e+00   3.587490742e+00   7.4e-10  0.41  \n",
      "21  7.7e-10  1.4e-09  9.0e-13  7.69e-01   3.586171166e+00   3.586178254e+00   3.4e-10  0.44  \n",
      "22  6.1e-10  8.9e-10  5.9e-13  5.74e-01   3.585752489e+00   3.585759466e+00   2.2e-10  0.47  \n",
      "23  3.7e-10  5.4e-10  3.2e-13  4.66e-01   3.585225807e+00   3.585231576e+00   1.3e-10  0.50  \n",
      "24  1.9e-10  2.7e-10  1.6e-13  2.65e-01   3.584589117e+00   3.584594599e+00   6.7e-11  0.53  \n",
      "25  1.9e-10  2.7e-10  1.6e-13  4.02e-01   3.584580797e+00   3.584586260e+00   6.7e-11  0.56  \n",
      "26  1.8e-10  2.5e-10  1.4e-13  3.99e-01   3.584512733e+00   3.584518052e+00   6.2e-11  0.60  \n",
      "27  8.7e-11  1.1e-10  5.5e-14  3.85e-01   3.583843540e+00   3.583847594e+00   2.7e-11  0.63  \n",
      "28  8.1e-11  8.4e-11  3.8e-14  3.28e-01   3.583633435e+00   3.583636690e+00   2.1e-11  0.65  \n",
      "29  7.9e-11  8.2e-11  3.7e-14  5.30e-01   3.583619139e+00   3.583622347e+00   2.1e-11  0.69  \n",
      "30  7.8e-11  8.2e-11  3.7e-14  6.05e-01   3.583618683e+00   3.583621889e+00   2.1e-11  0.73  \n",
      "31  7.8e-11  8.2e-11  3.7e-14  5.50e-01   3.583618683e+00   3.583621889e+00   2.1e-11  0.77  \n",
      "32  7.8e-11  8.2e-11  3.7e-14  5.60e-01   3.583618683e+00   3.583621889e+00   2.1e-11  0.82  \n",
      "Optimizer terminated. Time: 0.90    \n",
      "\n"
     ]
    },
    {
     "data": {
      "text/plain": [
       "3.5836218894780534"
      ]
     },
     "execution_count": 6,
     "metadata": {},
     "output_type": "execute_result"
    }
   ],
   "source": [
    "v = optimize(M)[1]"
   ]
  }
 ],
 "metadata": {
  "@webio": {
   "lastCommId": null,
   "lastKernelId": null
  },
  "kernelspec": {
   "display_name": "Julia 1.3.1",
   "language": "julia",
   "name": "julia-1.3"
  },
  "language_info": {
   "file_extension": ".jl",
   "mimetype": "application/julia",
   "name": "julia",
   "version": "1.3.1"
  }
 },
 "nbformat": 4,
 "nbformat_minor": 2
}
