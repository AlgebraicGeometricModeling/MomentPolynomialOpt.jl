{
 "cells": [
  {
   "cell_type": "markdown",
   "metadata": {},
   "source": [
    "# A simple univariate example"
   ]
  },
  {
   "cell_type": "code",
   "execution_count": 1,
   "metadata": {},
   "outputs": [],
   "source": [
    "using DynamicPolynomials, MomentTools"
   ]
  },
  {
   "cell_type": "code",
   "execution_count": 2,
   "metadata": {},
   "outputs": [
    {
     "data": {
      "text/latex": [
       "$$ x^{4} + x^{3} - x - 1 $$"
      ],
      "text/plain": [
       "x⁴ + x³ - x - 1"
      ]
     },
     "execution_count": 2,
     "metadata": {},
     "output_type": "execute_result"
    }
   ],
   "source": [
    "X = @polyvar x\n",
    "p = x^4+x^3-x-1"
   ]
  },
  {
   "cell_type": "markdown",
   "metadata": {},
   "source": [
    "We minimize $x^2$ under the constraint $p=0$. "
   ]
  },
  {
   "cell_type": "code",
   "execution_count": 3,
   "metadata": {},
   "outputs": [
    {
     "data": {
      "text/plain": [
       "(0.9999999936153254, \n",
       "A Moment program with:\n",
       "A JuMP Model\n",
       "Minimization problem with:\n",
       "Variables: 9\n",
       "Objective function type: GenericAffExpr{Float64,VariableRef}\n",
       "`GenericAffExpr{Float64,VariableRef}`-in-`MathOptInterface.EqualTo{Float64}`: 6 constraints\n",
       "`Array{VariableRef,1}`-in-`MathOptInterface.PositiveSemidefiniteConeTriangle`: 1 constraint\n",
       "Model mode: AUTOMATIC\n",
       "CachingOptimizer state: ATTACHED_OPTIMIZER\n",
       "Solver name: Dual model with Mosek attached\n",
       "Names registered in the model: basis, degree, dual, index, moments, monomials, nu, variables, y)"
      ]
     },
     "execution_count": 3,
     "metadata": {},
     "output_type": "execute_result"
    }
   ],
   "source": [
    "using JuMP, MosekTools; optimizer = optimizer_with_attributes(Mosek.Optimizer, \"QUIET\" => true)\n",
    "v, M = minimize(x^2, [p], [], X, 4, optimizer)"
   ]
  },
  {
   "cell_type": "markdown",
   "metadata": {},
   "source": [
    "We use Mosek optimizer to solve the underlying SDP optimization problem. The first argument $x^2$ of the function `minimize` is the objective function. The second argument is the array of equality constraints, the third is the array of non-negativity constraints (here empty).\n",
    "\n",
    "The function `minimize` returns `v` the optimal value found (here it is $\\approx 1$) and `M` the Moment Model built for the optimization (which type is `MomentTools.MOM.Model`). \n",
    "\n",
    "The minimizers can be obtained from `M` as follows:"
   ]
  },
  {
   "cell_type": "code",
   "execution_count": 4,
   "metadata": {},
   "outputs": [
    {
     "data": {
      "text/plain": [
       "1×2 Array{Float64,2}:\n",
       " -1.0  1.0"
      ]
     },
     "execution_count": 4,
     "metadata": {},
     "output_type": "execute_result"
    }
   ],
   "source": [
    "get_minimizers(M)"
   ]
  },
  {
   "cell_type": "markdown",
   "metadata": {},
   "source": [
    "The minimizers are presented as a $n\\times r$ matrix, where $n$ is the number of variables (here $n=1$) and $r$ is the number of points (here $r=2$). \n",
    "\n",
    "An approximation  of the associate measure can be obtained as follows:"
   ]
  },
  {
   "cell_type": "code",
   "execution_count": 5,
   "metadata": {},
   "outputs": [
    {
     "data": {
      "text/plain": [
       "([0.515012473322808, 0.484987522139862], [-1.0000000010949475 0.9999999995824738])"
      ]
     },
     "execution_count": 5,
     "metadata": {},
     "output_type": "execute_result"
    }
   ],
   "source": [
    "get_measure(M)"
   ]
  },
  {
   "cell_type": "markdown",
   "metadata": {},
   "source": [
    "It corresponds approximately to the measure $0.5\\, \\delta_{-1} + 0.5\\, \\delta_{1}$ where $\\delta_x$ is the Dirac measure supported on $x$.\n",
    "\n",
    "\n",
    "Next, we search the root(s) with $x \\geq 0$. For that purpose, we minimize `nothing` (i.e. $1$) and add the non-negativity constraint $x\\geq 0$:"
   ]
  },
  {
   "cell_type": "code",
   "execution_count": 6,
   "metadata": {},
   "outputs": [
    {
     "data": {
      "text/plain": [
       "1×1 Array{Float64,2}:\n",
       " 1.0000000000498959"
      ]
     },
     "execution_count": 6,
     "metadata": {},
     "output_type": "execute_result"
    }
   ],
   "source": [
    "v, M = minimize(nothing, [p], [x], X, 4, optimizer)\n",
    "get_minimizers(M)"
   ]
  },
  {
   "cell_type": "markdown",
   "metadata": {},
   "source": [
    "Now we search the negative root with maximal value of $x$."
   ]
  },
  {
   "cell_type": "code",
   "execution_count": 7,
   "metadata": {},
   "outputs": [
    {
     "data": {
      "text/plain": [
       "1×1 Array{Float64,2}:\n",
       " -0.9999999994227465"
      ]
     },
     "execution_count": 7,
     "metadata": {},
     "output_type": "execute_result"
    }
   ],
   "source": [
    "v, M = maximize(x, [p], [-x], X, 4, optimizer)\n",
    "get_minimizers(M)"
   ]
  },
  {
   "cell_type": "code",
   "execution_count": null,
   "metadata": {},
   "outputs": [],
   "source": []
  }
 ],
 "metadata": {
  "@webio": {
   "lastCommId": null,
   "lastKernelId": null
  },
  "kernelspec": {
   "display_name": "Julia 1.3.1",
   "language": "julia",
   "name": "julia-1.3"
  },
  "language_info": {
   "file_extension": ".jl",
   "mimetype": "application/julia",
   "name": "julia",
   "version": "1.3.1"
  }
 },
 "nbformat": 4,
 "nbformat_minor": 2
}
