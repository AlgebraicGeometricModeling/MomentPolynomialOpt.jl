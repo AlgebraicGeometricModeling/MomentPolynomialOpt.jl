{
 "cells": [
  {
   "cell_type": "markdown",
   "metadata": {},
   "source": [
    "# Solving a polynomial optimization problem"
   ]
  },
  {
   "cell_type": "code",
   "execution_count": 1,
   "metadata": {},
   "outputs": [],
   "source": [
    "using DynamicPolynomials, MomentTools"
   ]
  },
  {
   "cell_type": "code",
   "execution_count": 2,
   "metadata": {},
   "outputs": [],
   "source": [
    "X  = @polyvar x1 x2\n",
    "\n",
    "e1 = x1^2-2\n",
    "e2 = (x2^2-3)*(x1*x2-2)\n",
    "\n",
    "p1 = x1\n",
    "p2 = 2-x2;"
   ]
  },
  {
   "cell_type": "markdown",
   "metadata": {},
   "source": [
    "We are looking for the points with maximal $x_1$ in the set $e_{1}=e_{2}=0$ such that $p_1\\geq 0$, $p_2\\geq 0$. \n",
    "\n",
    "We solve a SDP relaxation of order $d=4$, where the variables of the underlying convex optimization problem are the moments of order $\\le 2d$ in the variables $x_1, x_2$."
   ]
  },
  {
   "cell_type": "code",
   "execution_count": 3,
   "metadata": {},
   "outputs": [
    {
     "name": "stdout",
     "output_type": "stream",
     "text": [
      "CSDP 6.2.0\n",
      "Iter:  0 Ap: 0.00e+00 Pobj:  0.0000000e+00 Ad: 0.00e+00 Dobj:  0.0000000e+00 \n",
      "Iter:  1 Ap: 7.96e-01 Pobj:  1.3512389e+00 Ad: 7.77e-01 Dobj: -1.6779112e-01 \n",
      "Iter:  2 Ap: 5.89e-01 Pobj:  1.3773383e+01 Ad: 6.75e-01 Dobj: -3.1219527e-01 \n",
      "Iter:  3 Ap: 1.46e-01 Pobj:  1.6205657e+02 Ad: 1.91e-01 Dobj: -7.3806838e-01 \n",
      "Iter:  4 Ap: 7.10e-01 Pobj: -7.0126415e+00 Ad: 6.50e-01 Dobj: -1.5156365e+00 \n",
      "Iter:  5 Ap: 8.65e-01 Pobj: -7.5100797e+00 Ad: 8.90e-01 Dobj: -1.3959313e+00 \n",
      "Iter:  6 Ap: 7.93e-01 Pobj: -3.6855309e+00 Ad: 7.29e-01 Dobj: -1.4143253e+00 \n",
      "Iter:  7 Ap: 7.37e-01 Pobj: -2.5848103e+00 Ad: 7.43e-01 Dobj: -1.4136246e+00 \n",
      "Iter:  8 Ap: 5.35e-01 Pobj: -2.1333028e+00 Ad: 7.75e-01 Dobj: -1.4141761e+00 \n",
      "Iter:  9 Ap: 6.34e-01 Pobj: -1.7466820e+00 Ad: 7.25e-01 Dobj: -1.4141777e+00 \n",
      "Iter: 10 Ap: 7.08e-01 Pobj: -1.5388419e+00 Ad: 7.76e-01 Dobj: -1.4142100e+00 \n",
      "Iter: 11 Ap: 7.56e-01 Pobj: -1.4544602e+00 Ad: 7.16e-01 Dobj: -1.4142117e+00 \n",
      "Iter: 12 Ap: 6.99e-01 Pobj: -1.4305242e+00 Ad: 7.56e-01 Dobj: -1.4142132e+00 \n",
      "Iter: 13 Ap: 5.90e-01 Pobj: -1.4222141e+00 Ad: 7.46e-01 Dobj: -1.4142134e+00 \n",
      "Iter: 14 Ap: 6.66e-01 Pobj: -1.4173958e+00 Ad: 9.44e-01 Dobj: -1.4142135e+00 \n",
      "Iter: 15 Ap: 8.91e-01 Pobj: -1.4146634e+00 Ad: 1.00e+00 Dobj: -1.4142135e+00 \n",
      "Iter: 16 Ap: 9.38e-01 Pobj: -1.4142490e+00 Ad: 1.00e+00 Dobj: -1.4142136e+00 \n",
      "Iter: 17 Ap: 9.85e-01 Pobj: -1.4142149e+00 Ad: 1.00e+00 Dobj: -1.4142136e+00 \n",
      "Iter: 18 Ap: 1.00e+00 Pobj: -1.4142138e+00 Ad: 1.00e+00 Dobj: -1.4142136e+00 \n",
      "Iter: 19 Ap: 1.00e+00 Pobj: -1.4142136e+00 Ad: 1.00e+00 Dobj: -1.4142136e+00 \n",
      "Iter: 20 Ap: 1.00e+00 Pobj: -1.4142136e+00 Ad: 9.37e-01 Dobj: -1.4142136e+00 \n",
      "Iter: 21 Ap: 1.00e+00 Pobj: -1.4142136e+00 Ad: 8.42e-01 Dobj: -1.4142136e+00 \n",
      "Success: SDP solved\n",
      "Primal objective value: -1.4142136e+00 \n",
      "Dual objective value: -1.4142136e+00 \n",
      "Relative primal infeasibility: 6.98e-11 \n",
      "Relative dual infeasibility: 7.51e-10 \n",
      "Real Relative Gap: 4.20e-10 \n",
      "XZ Relative Gap: 7.21e-09 \n",
      "DIMACS error measures: 6.98e-11 0.00e+00 5.92e-09 0.00e+00 4.20e-10 7.21e-09\n"
     ]
    },
    {
     "data": {
      "text/plain": [
       "1.414213562364079"
      ]
     },
     "execution_count": 3,
     "metadata": {},
     "output_type": "execute_result"
    }
   ],
   "source": [
    "using CSDP; optimizer = CSDP.Optimizer\n",
    "v, M = maximize(x1, [e1, e2], [p1,p2], X, 4, optimizer)\n",
    "v"
   ]
  },
  {
   "cell_type": "markdown",
   "metadata": {},
   "source": [
    "The output of the function `maximize` is the optimal value `v` and the optimization model `M`. "
   ]
  },
  {
   "cell_type": "markdown",
   "metadata": {},
   "source": [
    "The points which reach the optimal value, can be obtained as follows: "
   ]
  },
  {
   "cell_type": "code",
   "execution_count": 4,
   "metadata": {},
   "outputs": [
    {
     "data": {
      "text/plain": [
       "2×3 Array{Float64,2}:\n",
       "  1.41421  1.41421  1.41421\n",
       " -1.73205  1.41416  1.73198"
      ]
     },
     "execution_count": 4,
     "metadata": {},
     "output_type": "execute_result"
    }
   ],
   "source": [
    "Xi = getminimizers(M)"
   ]
  },
  {
   "cell_type": "markdown",
   "metadata": {},
   "source": [
    "Each column of this matrix represents a point. It is an $n\\times r$  matrix, where $n$ is the number of coordinates in `X` and $r$ is the number of points.\n",
    "\n",
    "The weighted sum of Dirac measures associated to the optimal moment sequence can be obtained as follows:"
   ]
  },
  {
   "cell_type": "code",
   "execution_count": 5,
   "metadata": {},
   "outputs": [
    {
     "data": {
      "text/plain": [
       "([0.22888491281955842, 0.4931176123147139, 0.277997474859004], [1.414213562391005 1.4142135621730105 1.4142135621419918; -1.7320521660841413 1.4141606157582571 1.7319755718907128])"
      ]
     },
     "execution_count": 5,
     "metadata": {},
     "output_type": "execute_result"
    }
   ],
   "source": [
    "w, Xi = getmeasure(M)"
   ]
  },
  {
   "cell_type": "markdown",
   "metadata": {},
   "source": [
    "`w` is the vector of weights and `Xi` is the matrix of points, that is support of the measure $\\mu=\\sum_i \\omega_i \\delta_{\\Xi_i}$.\n",
    "\n",
    "Here is another way to solve it. We describe it as a Polynomial Optimization Problem and use the function `optimize`:"
   ]
  },
  {
   "cell_type": "code",
   "execution_count": 6,
   "metadata": {},
   "outputs": [
    {
     "data": {
      "text/plain": [
       "5-element Array{Tuple{AbstractPolynomialLike{Int64},String},1}:\n",
       " (x1, \"sup\")                     \n",
       " (x1² - 2, \"=0\")                 \n",
       " (x1x2³ - 3x1x2 - 2x2² + 6, \"=0\")\n",
       " (x1, \">=0\")                     \n",
       " (-x2 + 2, \">=0\")                "
      ]
     },
     "execution_count": 6,
     "metadata": {},
     "output_type": "execute_result"
    }
   ],
   "source": [
    "pop = [(x1, \"sup\"), (e1,\"=0\"),(e2 ,\"=0\"),(p1,\">=0\"),(p2,\">=0\")]"
   ]
  },
  {
   "cell_type": "code",
   "execution_count": 7,
   "metadata": {},
   "outputs": [
    {
     "name": "stdout",
     "output_type": "stream",
     "text": [
      "CSDP 6.2.0\n",
      "Iter:  0 Ap: 0.00e+00 Pobj:  0.0000000e+00 Ad: 0.00e+00 Dobj:  0.0000000e+00 \n",
      "Iter:  1 Ap: 7.96e-01 Pobj:  1.3512389e+00 Ad: 7.77e-01 Dobj: -1.6779112e-01 \n",
      "Iter:  2 Ap: 5.89e-01 Pobj:  1.3773383e+01 Ad: 6.75e-01 Dobj: -3.1219527e-01 \n",
      "Iter:  3 Ap: 1.46e-01 Pobj:  1.6205657e+02 Ad: 1.91e-01 Dobj: -7.3806838e-01 \n",
      "Iter:  4 Ap: 7.10e-01 Pobj: -7.0126412e+00 Ad: 6.50e-01 Dobj: -1.5156365e+00 \n",
      "Iter:  5 Ap: 8.65e-01 Pobj: -7.5100797e+00 Ad: 8.90e-01 Dobj: -1.3959313e+00 \n",
      "Iter:  6 Ap: 7.93e-01 Pobj: -3.6855309e+00 Ad: 7.29e-01 Dobj: -1.4143253e+00 \n",
      "Iter:  7 Ap: 7.37e-01 Pobj: -2.5848117e+00 Ad: 7.43e-01 Dobj: -1.4136246e+00 \n",
      "Iter:  8 Ap: 5.35e-01 Pobj: -2.1333020e+00 Ad: 7.75e-01 Dobj: -1.4141762e+00 \n",
      "Iter:  9 Ap: 6.34e-01 Pobj: -1.7466786e+00 Ad: 7.25e-01 Dobj: -1.4141777e+00 \n",
      "Iter: 10 Ap: 7.08e-01 Pobj: -1.5388415e+00 Ad: 7.76e-01 Dobj: -1.4142100e+00 \n",
      "Iter: 11 Ap: 7.56e-01 Pobj: -1.4544598e+00 Ad: 7.16e-01 Dobj: -1.4142117e+00 \n",
      "Iter: 12 Ap: 6.99e-01 Pobj: -1.4305245e+00 Ad: 7.56e-01 Dobj: -1.4142132e+00 \n",
      "Iter: 13 Ap: 5.90e-01 Pobj: -1.4222141e+00 Ad: 7.46e-01 Dobj: -1.4142134e+00 \n",
      "Iter: 14 Ap: 6.66e-01 Pobj: -1.4173956e+00 Ad: 9.44e-01 Dobj: -1.4142135e+00 \n",
      "Iter: 15 Ap: 8.91e-01 Pobj: -1.4146603e+00 Ad: 1.00e+00 Dobj: -1.4142135e+00 \n",
      "Iter: 16 Ap: 9.38e-01 Pobj: -1.4142481e+00 Ad: 1.00e+00 Dobj: -1.4142136e+00 \n",
      "Iter: 17 Ap: 9.85e-01 Pobj: -1.4142148e+00 Ad: 1.00e+00 Dobj: -1.4142136e+00 \n",
      "Iter: 18 Ap: 1.00e+00 Pobj: -1.4142138e+00 Ad: 1.00e+00 Dobj: -1.4142136e+00 \n",
      "Iter: 19 Ap: 1.00e+00 Pobj: -1.4142136e+00 Ad: 1.00e+00 Dobj: -1.4142136e+00 \n",
      "Iter: 20 Ap: 1.00e+00 Pobj: -1.4142136e+00 Ad: 9.37e-01 Dobj: -1.4142136e+00 \n",
      "Iter: 21 Ap: 1.00e+00 Pobj: -1.4142136e+00 Ad: 8.41e-01 Dobj: -1.4142136e+00 \n",
      "Success: SDP solved\n",
      "Primal objective value: -1.4142136e+00 \n",
      "Dual objective value: -1.4142136e+00 \n",
      "Relative primal infeasibility: 7.60e-11 \n",
      "Relative dual infeasibility: 7.53e-10 \n",
      "Real Relative Gap: 4.04e-10 \n",
      "XZ Relative Gap: 7.23e-09 \n",
      "DIMACS error measures: 7.60e-11 0.00e+00 5.94e-09 0.00e+00 4.04e-10 7.23e-09\n"
     ]
    },
    {
     "data": {
      "text/plain": [
       "(1.4142135623642407, \n",
       "A Moment program with:\n",
       "A JuMP Model\n",
       "Maximization problem with:\n",
       "Variables: 45\n",
       "Objective function type: JuMP.GenericAffExpr{Float64,JuMP.VariableRef}\n",
       "`JuMP.GenericAffExpr{Float64,JuMP.VariableRef}`-in-`MathOptInterface.EqualTo{Float64}`: 44 constraints\n",
       "`Array{JuMP.VariableRef,1}`-in-`MathOptInterface.PositiveSemidefiniteConeTriangle`: 1 constraint\n",
       "`Array{JuMP.GenericAffExpr{Float64,JuMP.VariableRef},1}`-in-`MathOptInterface.PositiveSemidefiniteConeSquare`: 2 constraints\n",
       "Model mode: AUTOMATIC\n",
       "CachingOptimizer state: ATTACHED_OPTIMIZER\n",
       "Solver name: Dual model with CSDP attached\n",
       "Names registered in the model: basis, degree, dual, index, moments, monomials, nu, variables, y)"
      ]
     },
     "execution_count": 7,
     "metadata": {},
     "output_type": "execute_result"
    }
   ],
   "source": [
    "v, M = optimize(pop, X, 4, optimizer)"
   ]
  },
  {
   "cell_type": "code",
   "execution_count": 8,
   "metadata": {},
   "outputs": [
    {
     "data": {
      "text/plain": [
       "2×3 Array{Float64,2}:\n",
       "  1.41421  1.41421  1.41421\n",
       " -1.73205  1.41416  1.73198"
      ]
     },
     "execution_count": 8,
     "metadata": {},
     "output_type": "execute_result"
    }
   ],
   "source": [
    "getminimizers(M)"
   ]
  }
 ],
 "metadata": {
  "@webio": {
   "lastCommId": null,
   "lastKernelId": null
  },
  "kernelspec": {
   "display_name": "Julia 1.3.1",
   "language": "julia",
   "name": "julia-1.3"
  },
  "language_info": {
   "file_extension": ".jl",
   "mimetype": "application/julia",
   "name": "julia",
   "version": "1.3.1"
  }
 },
 "nbformat": 4,
 "nbformat_minor": 2
}
