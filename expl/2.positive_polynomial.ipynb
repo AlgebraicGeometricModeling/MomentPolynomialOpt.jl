{
 "cells": [
  {
   "cell_type": "markdown",
   "metadata": {},
   "source": [
    "# The minimizers of Moztkin polynomial"
   ]
  },
  {
   "cell_type": "code",
   "execution_count": 1,
   "metadata": {},
   "outputs": [
    {
     "name": "stderr",
     "output_type": "stream",
     "text": [
      "┌ Info: Precompiling MomentTools [65cd4d85-9fe5-4fdc-93e2-c8798c615752]\n",
      "└ @ Base loading.jl:1273\n",
      "┌ Warning: Package MomentTools does not have MultivariateSeries in its dependencies:\n",
      "│ - If you have MomentTools checked out for development and have\n",
      "│   added MultivariateSeries as a dependency but haven't updated your primary\n",
      "│   environment's manifest file, try `Pkg.resolve()`.\n",
      "│ - Otherwise you may need to report an issue with MomentTools\n",
      "└ Loading MultivariateSeries into MomentTools from project dependency, future warnings for MomentTools are suppressed.\n"
     ]
    }
   ],
   "source": [
    "using DynamicPolynomials, MomentTools, Plots;\n",
    "using JuMP, MosekTools; optimizer = optimizer_with_attributes(Mosek.Optimizer, \"QUIET\" => true);"
   ]
  },
  {
   "cell_type": "markdown",
   "metadata": {},
   "source": [
    "We use Mosek solver for the convex optimization on SDP matrices."
   ]
  },
  {
   "cell_type": "code",
   "execution_count": 2,
   "metadata": {},
   "outputs": [
    {
     "data": {
      "text/latex": [
       "$$ x^{4}y^{2} + x^{2}y^{4} - 3x^{2}y^{2} + 1 $$"
      ],
      "text/plain": [
       "x⁴y² + x²y⁴ - 3x²y² + 1"
      ]
     },
     "execution_count": 2,
     "metadata": {},
     "output_type": "execute_result"
    }
   ],
   "source": [
    "X  = @polyvar x y\n",
    "motz = x^4*y^2 + x^2*y^4 - 3x^2*y^2  + 1 "
   ]
  },
  {
   "cell_type": "markdown",
   "metadata": {},
   "source": [
    "This polynomial, known as Motzkin polynomial, is non-negative but not a sum of squares.\n",
    "\n",
    "We construction a moment relaxation of order 6, imposing the moments to come from a probability measure, with total mass equal to 1:"
   ]
  },
  {
   "cell_type": "code",
   "execution_count": 3,
   "metadata": {},
   "outputs": [
    {
     "data": {
      "text/plain": [
       "(-1.6742123696021906e-10, \n",
       "A Moment program with:\n",
       "A JuMP Model\n",
       "Minimization problem with:\n",
       "Variables: 91\n",
       "Objective function type: GenericAffExpr{Float64,VariableRef}\n",
       "`GenericAffExpr{Float64,VariableRef}`-in-`MathOptInterface.EqualTo{Float64}`: 1 constraint\n",
       "`Array{VariableRef,1}`-in-`MathOptInterface.PositiveSemidefiniteConeTriangle`: 1 constraint\n",
       "Model mode: AUTOMATIC\n",
       "CachingOptimizer state: ATTACHED_OPTIMIZER\n",
       "Solver name: Dual model with Mosek attached\n",
       "Names registered in the model: basis, degree, dual, index, moments, monomials, nu, variables, y)"
      ]
     },
     "execution_count": 3,
     "metadata": {},
     "output_type": "execute_result"
    }
   ],
   "source": [
    "M = MomentModel(X, 6, optimizer)\n",
    "constraint_unitmass(M)\n",
    "objective(M,motz)\n",
    "v, M = optimize(M)"
   ]
  },
  {
   "cell_type": "code",
   "execution_count": 4,
   "metadata": {},
   "outputs": [
    {
     "data": {
      "text/plain": [
       "-1.6742123696021906e-10"
      ]
     },
     "execution_count": 4,
     "metadata": {},
     "output_type": "execute_result"
    }
   ],
   "source": [
    "v"
   ]
  },
  {
   "cell_type": "markdown",
   "metadata": {},
   "source": [
    "The objective value is a lower bound of the actual mimimal value $0$ of Motzkin polynomial.\n",
    "\n",
    "We extract a measure from the sequence of moments, using the function `MultivariateSeries.decompose`:"
   ]
  },
  {
   "cell_type": "code",
   "execution_count": 5,
   "metadata": {},
   "outputs": [
    {
     "data": {
      "text/plain": [
       "(Float64[], Array{Float64}(undef,2,0))"
      ]
     },
     "execution_count": 5,
     "metadata": {},
     "output_type": "execute_result"
    }
   ],
   "source": [
    "w, Xi = get_measure(M)"
   ]
  },
  {
   "cell_type": "markdown",
   "metadata": {},
   "source": [
    " `w` is the vector of weights and `Xi` is the matrix of points, that is support of the measure $\\mu=\\sum_i \\omega_i \\delta_{\\Xi_i}$. `w[i]` is the weight of the Dirac measure corresponding to the point `Xi[:,i]` in this decomposition.\n",
    "\n",
    "Here no point is found to approximate the optimal moment sequence."
   ]
  },
  {
   "cell_type": "markdown",
   "metadata": {},
   "source": [
    "Now, to find the minimizers, we add as constraints, that the gradient of the polynomial should vanish:"
   ]
  },
  {
   "cell_type": "code",
   "execution_count": 6,
   "metadata": {},
   "outputs": [
    {
     "data": {
      "text/plain": [
       "3.6962168659115946e-8"
      ]
     },
     "execution_count": 6,
     "metadata": {},
     "output_type": "execute_result"
    }
   ],
   "source": [
    "M = MomentModel(X, 6, optimizer)\n",
    "constraint_unitmass(M)\n",
    "objective(M,motz)\n",
    "\n",
    "J = differentiate(motz,X)\n",
    "constraint_zero(M, J...)\n",
    "v = optimize(M)[1]"
   ]
  },
  {
   "cell_type": "code",
   "execution_count": 7,
   "metadata": {},
   "outputs": [
    {
     "data": {
      "text/plain": [
       "([0.24999999577745824, 0.24999999090077252, 0.24999999089988342, 0.2499999957775159], [-0.9970877347814062 1.0003870829640473 -1.0003870829913524 0.9970877347835689; -1.0015623472989097 -1.0002076598305762 1.000207659851278 1.0015623472917445])"
      ]
     },
     "execution_count": 7,
     "metadata": {},
     "output_type": "execute_result"
    }
   ],
   "source": [
    "w, Xi = get_measure(M)"
   ]
  },
  {
   "cell_type": "code",
   "execution_count": 8,
   "metadata": {},
   "outputs": [
    {
     "data": {
      "image/svg+xml": [
       "<?xml version=\"1.0\" encoding=\"utf-8\"?>\n",
       "<svg xmlns=\"http://www.w3.org/2000/svg\" xmlns:xlink=\"http://www.w3.org/1999/xlink\" width=\"600\" height=\"400\" viewBox=\"0 0 2400 1600\">\n",
       "<defs>\n",
       "  <clipPath id=\"clip1100\">\n",
       "    <rect x=\"0\" y=\"0\" width=\"2400\" height=\"1600\"/>\n",
       "  </clipPath>\n",
       "</defs>\n",
       "<path clip-path=\"url(#clip1100)\" d=\"\n",
       "M0 1600 L2400 1600 L2400 0 L0 0  Z\n",
       "  \" fill=\"#ffffff\" fill-rule=\"evenodd\" fill-opacity=\"1\"/>\n",
       "<defs>\n",
       "  <clipPath id=\"clip1101\">\n",
       "    <rect x=\"480\" y=\"0\" width=\"1681\" height=\"1600\"/>\n",
       "  </clipPath>\n",
       "</defs>\n",
       "<path clip-path=\"url(#clip1100)\" d=\"\n",
       "M182.008 1487.47 L2112.76 1487.47 L2112.76 47.2441 L182.008 47.2441  Z\n",
       "  \" fill=\"#ffffff\" fill-rule=\"evenodd\" fill-opacity=\"1\"/>\n",
       "<defs>\n",
       "  <clipPath id=\"clip1102\">\n",
       "    <rect x=\"182\" y=\"47\" width=\"1932\" height=\"1441\"/>\n",
       "  </clipPath>\n",
       "</defs>\n",
       "<polyline clip-path=\"url(#clip1102)\" style=\"stroke:#000000; stroke-width:2; stroke-opacity:0.1; fill:none\" points=\"\n",
       "  237.004,1487.47 237.004,47.2441 \n",
       "  \"/>\n",
       "<polyline clip-path=\"url(#clip1102)\" style=\"stroke:#000000; stroke-width:2; stroke-opacity:0.1; fill:none\" points=\"\n",
       "  692.193,1487.47 692.193,47.2441 \n",
       "  \"/>\n",
       "<polyline clip-path=\"url(#clip1102)\" style=\"stroke:#000000; stroke-width:2; stroke-opacity:0.1; fill:none\" points=\"\n",
       "  1147.38,1487.47 1147.38,47.2441 \n",
       "  \"/>\n",
       "<polyline clip-path=\"url(#clip1102)\" style=\"stroke:#000000; stroke-width:2; stroke-opacity:0.1; fill:none\" points=\"\n",
       "  1602.57,1487.47 1602.57,47.2441 \n",
       "  \"/>\n",
       "<polyline clip-path=\"url(#clip1102)\" style=\"stroke:#000000; stroke-width:2; stroke-opacity:0.1; fill:none\" points=\"\n",
       "  2057.76,1487.47 2057.76,47.2441 \n",
       "  \"/>\n",
       "<polyline clip-path=\"url(#clip1102)\" style=\"stroke:#000000; stroke-width:2; stroke-opacity:0.1; fill:none\" points=\"\n",
       "  182.008,1445.65 2112.76,1445.65 \n",
       "  \"/>\n",
       "<polyline clip-path=\"url(#clip1102)\" style=\"stroke:#000000; stroke-width:2; stroke-opacity:0.1; fill:none\" points=\"\n",
       "  182.008,1106.51 2112.76,1106.51 \n",
       "  \"/>\n",
       "<polyline clip-path=\"url(#clip1102)\" style=\"stroke:#000000; stroke-width:2; stroke-opacity:0.1; fill:none\" points=\"\n",
       "  182.008,767.359 2112.76,767.359 \n",
       "  \"/>\n",
       "<polyline clip-path=\"url(#clip1102)\" style=\"stroke:#000000; stroke-width:2; stroke-opacity:0.1; fill:none\" points=\"\n",
       "  182.008,428.212 2112.76,428.212 \n",
       "  \"/>\n",
       "<polyline clip-path=\"url(#clip1102)\" style=\"stroke:#000000; stroke-width:2; stroke-opacity:0.1; fill:none\" points=\"\n",
       "  182.008,89.0651 2112.76,89.0651 \n",
       "  \"/>\n",
       "<polyline clip-path=\"url(#clip1100)\" style=\"stroke:#000000; stroke-width:4; stroke-opacity:1; fill:none\" points=\"\n",
       "  182.008,1487.47 2112.76,1487.47 \n",
       "  \"/>\n",
       "<polyline clip-path=\"url(#clip1100)\" style=\"stroke:#000000; stroke-width:4; stroke-opacity:1; fill:none\" points=\"\n",
       "  182.008,1487.47 182.008,47.2441 \n",
       "  \"/>\n",
       "<polyline clip-path=\"url(#clip1100)\" style=\"stroke:#000000; stroke-width:4; stroke-opacity:1; fill:none\" points=\"\n",
       "  237.004,1487.47 237.004,1470.19 \n",
       "  \"/>\n",
       "<polyline clip-path=\"url(#clip1100)\" style=\"stroke:#000000; stroke-width:4; stroke-opacity:1; fill:none\" points=\"\n",
       "  692.193,1487.47 692.193,1470.19 \n",
       "  \"/>\n",
       "<polyline clip-path=\"url(#clip1100)\" style=\"stroke:#000000; stroke-width:4; stroke-opacity:1; fill:none\" points=\"\n",
       "  1147.38,1487.47 1147.38,1470.19 \n",
       "  \"/>\n",
       "<polyline clip-path=\"url(#clip1100)\" style=\"stroke:#000000; stroke-width:4; stroke-opacity:1; fill:none\" points=\"\n",
       "  1602.57,1487.47 1602.57,1470.19 \n",
       "  \"/>\n",
       "<polyline clip-path=\"url(#clip1100)\" style=\"stroke:#000000; stroke-width:4; stroke-opacity:1; fill:none\" points=\"\n",
       "  2057.76,1487.47 2057.76,1470.19 \n",
       "  \"/>\n",
       "<polyline clip-path=\"url(#clip1100)\" style=\"stroke:#000000; stroke-width:4; stroke-opacity:1; fill:none\" points=\"\n",
       "  182.008,1445.65 205.177,1445.65 \n",
       "  \"/>\n",
       "<polyline clip-path=\"url(#clip1100)\" style=\"stroke:#000000; stroke-width:4; stroke-opacity:1; fill:none\" points=\"\n",
       "  182.008,1106.51 205.177,1106.51 \n",
       "  \"/>\n",
       "<polyline clip-path=\"url(#clip1100)\" style=\"stroke:#000000; stroke-width:4; stroke-opacity:1; fill:none\" points=\"\n",
       "  182.008,767.359 205.177,767.359 \n",
       "  \"/>\n",
       "<polyline clip-path=\"url(#clip1100)\" style=\"stroke:#000000; stroke-width:4; stroke-opacity:1; fill:none\" points=\"\n",
       "  182.008,428.212 205.177,428.212 \n",
       "  \"/>\n",
       "<polyline clip-path=\"url(#clip1100)\" style=\"stroke:#000000; stroke-width:4; stroke-opacity:1; fill:none\" points=\"\n",
       "  182.008,89.0651 205.177,89.0651 \n",
       "  \"/>\n",
       "<g clip-path=\"url(#clip1100)\">\n",
       "<text style=\"fill:#000000; fill-opacity:1; font-family:Arial,Helvetica Neue,Helvetica,sans-serif; font-size:48px; text-anchor:middle;\" transform=\"rotate(0, 237.004, 1541.47)\" x=\"237.004\" y=\"1541.47\">-1.0</text>\n",
       "</g>\n",
       "<g clip-path=\"url(#clip1100)\">\n",
       "<text style=\"fill:#000000; fill-opacity:1; font-family:Arial,Helvetica Neue,Helvetica,sans-serif; font-size:48px; text-anchor:middle;\" transform=\"rotate(0, 692.193, 1541.47)\" x=\"692.193\" y=\"1541.47\">-0.5</text>\n",
       "</g>\n",
       "<g clip-path=\"url(#clip1100)\">\n",
       "<text style=\"fill:#000000; fill-opacity:1; font-family:Arial,Helvetica Neue,Helvetica,sans-serif; font-size:48px; text-anchor:middle;\" transform=\"rotate(0, 1147.38, 1541.47)\" x=\"1147.38\" y=\"1541.47\">0.0</text>\n",
       "</g>\n",
       "<g clip-path=\"url(#clip1100)\">\n",
       "<text style=\"fill:#000000; fill-opacity:1; font-family:Arial,Helvetica Neue,Helvetica,sans-serif; font-size:48px; text-anchor:middle;\" transform=\"rotate(0, 1602.57, 1541.47)\" x=\"1602.57\" y=\"1541.47\">0.5</text>\n",
       "</g>\n",
       "<g clip-path=\"url(#clip1100)\">\n",
       "<text style=\"fill:#000000; fill-opacity:1; font-family:Arial,Helvetica Neue,Helvetica,sans-serif; font-size:48px; text-anchor:middle;\" transform=\"rotate(0, 2057.76, 1541.47)\" x=\"2057.76\" y=\"1541.47\">1.0</text>\n",
       "</g>\n",
       "<g clip-path=\"url(#clip1100)\">\n",
       "<text style=\"fill:#000000; fill-opacity:1; font-family:Arial,Helvetica Neue,Helvetica,sans-serif; font-size:48px; text-anchor:end;\" transform=\"rotate(0, 158.008, 1463.15)\" x=\"158.008\" y=\"1463.15\">-1.0</text>\n",
       "</g>\n",
       "<g clip-path=\"url(#clip1100)\">\n",
       "<text style=\"fill:#000000; fill-opacity:1; font-family:Arial,Helvetica Neue,Helvetica,sans-serif; font-size:48px; text-anchor:end;\" transform=\"rotate(0, 158.008, 1124.01)\" x=\"158.008\" y=\"1124.01\">-0.5</text>\n",
       "</g>\n",
       "<g clip-path=\"url(#clip1100)\">\n",
       "<text style=\"fill:#000000; fill-opacity:1; font-family:Arial,Helvetica Neue,Helvetica,sans-serif; font-size:48px; text-anchor:end;\" transform=\"rotate(0, 158.008, 784.859)\" x=\"158.008\" y=\"784.859\">0.0</text>\n",
       "</g>\n",
       "<g clip-path=\"url(#clip1100)\">\n",
       "<text style=\"fill:#000000; fill-opacity:1; font-family:Arial,Helvetica Neue,Helvetica,sans-serif; font-size:48px; text-anchor:end;\" transform=\"rotate(0, 158.008, 445.712)\" x=\"158.008\" y=\"445.712\">0.5</text>\n",
       "</g>\n",
       "<g clip-path=\"url(#clip1100)\">\n",
       "<text style=\"fill:#000000; fill-opacity:1; font-family:Arial,Helvetica Neue,Helvetica,sans-serif; font-size:48px; text-anchor:end;\" transform=\"rotate(0, 158.008, 106.565)\" x=\"158.008\" y=\"106.565\">1.0</text>\n",
       "</g>\n",
       "<circle clip-path=\"url(#clip1102)\" cx=\"237.004\" cy=\"1445.65\" r=\"14\" fill=\"#0000ff\" fill-rule=\"evenodd\" fill-opacity=\"1\" stroke=\"#000000\" stroke-opacity=\"1\" stroke-width=\"3.2\"/>\n",
       "<circle clip-path=\"url(#clip1102)\" cx=\"237.004\" cy=\"89.0651\" r=\"14\" fill=\"#0000ff\" fill-rule=\"evenodd\" fill-opacity=\"1\" stroke=\"#000000\" stroke-opacity=\"1\" stroke-width=\"3.2\"/>\n",
       "<circle clip-path=\"url(#clip1102)\" cx=\"2057.76\" cy=\"1445.65\" r=\"14\" fill=\"#0000ff\" fill-rule=\"evenodd\" fill-opacity=\"1\" stroke=\"#000000\" stroke-opacity=\"1\" stroke-width=\"3.2\"/>\n",
       "<circle clip-path=\"url(#clip1102)\" cx=\"2057.76\" cy=\"89.0651\" r=\"14\" fill=\"#0000ff\" fill-rule=\"evenodd\" fill-opacity=\"1\" stroke=\"#000000\" stroke-opacity=\"1\" stroke-width=\"3.2\"/>\n",
       "<circle clip-path=\"url(#clip1102)\" cx=\"239.656\" cy=\"1446.71\" r=\"14\" fill=\"#8b0000\" fill-rule=\"evenodd\" fill-opacity=\"0.8\" stroke=\"#000000\" stroke-opacity=\"0.8\" stroke-width=\"3.2\"/>\n",
       "<circle clip-path=\"url(#clip1102)\" cx=\"2058.11\" cy=\"1445.79\" r=\"14\" fill=\"#fffedf\" fill-rule=\"evenodd\" fill-opacity=\"0.8\" stroke=\"#000000\" stroke-opacity=\"0.8\" stroke-width=\"3.2\"/>\n",
       "<circle clip-path=\"url(#clip1102)\" cx=\"236.652\" cy=\"88.9242\" r=\"14\" fill=\"#ffffe0\" fill-rule=\"evenodd\" fill-opacity=\"0.8\" stroke=\"#000000\" stroke-opacity=\"0.8\" stroke-width=\"3.2\"/>\n",
       "<circle clip-path=\"url(#clip1102)\" cx=\"2055.11\" cy=\"88.0053\" r=\"14\" fill=\"#8b0000\" fill-rule=\"evenodd\" fill-opacity=\"0.8\" stroke=\"#000000\" stroke-opacity=\"0.8\" stroke-width=\"3.2\"/>\n",
       "<defs>\n",
       "  <clipPath id=\"clip1103\">\n",
       "    <rect x=\"2160\" y=\"47\" width=\"73\" height=\"1441\"/>\n",
       "  </clipPath>\n",
       "</defs>\n",
       "<g clip-path=\"url(#clip1103)\">\n",
       "<image width=\"72\" height=\"1440\" xlink:href=\"data:image/png;base64,\n",
       "iVBORw0KGgoAAAANSUhEUgAAAEgAAAWgCAYAAAD9wgUPAAALxUlEQVR4nO3dwY0bQQwAQe6B2Sto\n",
       "XQRiP6VHVQRGg9jBcGz5ec28h4/+vv0H+HUCBYGCQEGgsPN8+4/w20xQECgIFAQKAoV9nGInExQE\n",
       "CgIFgYKPdDBBQaAgUBAoCBT2kegkTxAoCBQECgIFd7FggoJAQaAgUPCRDiYoCBQECgIFgYKFWZAn\n",
       "CBQECgIFV41ggoJAQaAgUBAoOMWCCQoCBYGCQEGg4BQLJigIFAQKAgWvGkGeIFAQKAgUBAp+/SWY\n",
       "oCBQECgIFAQKFmbBBAWBgkBBoGBhFuQJAgWBgkBBoOCqEUxQECgIFAQKPtLBBAWBgkBBoCBQcIoF\n",
       "ExQECgIFgYJAwbNPkCcIFAQKAgVXjWCCgkBBoCBQECg4xYIJCgIFgYJAQaBgYRbkCQIFgYJAwVUj\n",
       "mKAgUBAoCBQECn79JZigIFAQKAgU7IOCPEGgIFAQKAgULMyCCQoCBYGCQEGg4BQLJigIFAQKAgUf\n",
       "6WCCgkBBoCBQECh49gnyBIGCQEGgIFBwFwsmKAgUBAoCBR/pYIKCQEGgIFAQKFiYBXmCQEGgIFBw\n",
       "1QgmKAgUBAoCBYGCUyyYoCBQECgIFAQKfv0lmKAgUBAoCBS8agR5gkBBoCBQEChYmAUTFAQKAgWB\n",
       "gkDBKRZMUBAoCBQEChZmQZ4gUBAoCBQECq4awQQFgYJAQaDgIx1MUBAoCBQECgIFC7MgTxAoCBQE\n",
       "CgIFd7FggoJAQaAgUPCRDiYoCBQECgIFgYJTLJigIFAQKAgUBAor0U2eIFAQKAgUXDWCCQoCBYGC\n",
       "QEGg4BQLJigIFAQKAgV/DTjIEwQKAgWBgkDBVSOYoCBQECgIFAQKTrFggoJAQaAgUPCRDiYoCBQE\n",
       "CgIFgYJnnyBPECgIFAQKAgV3sWCCgkBBoCBQ8JEOJigIFAQKAgWBgoVZkCcIFAQKAoUdV42TCQoC\n",
       "BYGCQEGgYGEWTFAQKAgUBAoCBQuzIE8QKAgUBAquGsEEBYGCQEGgIFBwigUTFAQKAgWBgkDBKRZM\n",
       "UBAoCBQECl41gjxBoCBQECgIFFw1ggkKAgWBgkDBRzqYoCBQECgIFAQKFmZBniBQECgIFAQK7mLB\n",
       "BAWBgkBBoODXX4IJCgIFgYJAQaBgYRbkCQIFgYJAQaBgYRZMUBAoCBQECj7SwQQFgYJAQaAgUHCK\n",
       "BRMUBAoCBYGCV40gTxAoCBQECgIFV41ggoJAQaAgUBAoOMWCCQoCBYGCQMHCLMgTBAoCBYGCQMFV\n",
       "I5igIFAQKAgUBApOsWCCgkBBoCBQ8OsvwQQFgYJAQaAgUPDsE+QJAgWBgkDBPiiYoCBQECgIFAQK\n",
       "TrFggoJAQaAgUBAoWJgFeYJAQaAgUHDVCCYoCBQECgIFgYJTLJigIFAQKAgUBAoWZkGeIFAQKAgU\n",
       "XDWCCQoCBYGCQEGg4BQLJigIFAQKAgUf6WCCgkBBoCBQECisRDd5gkBBoCBQECi4iwUTFAQKAgWB\n",
       "go90MEFBoCBQECgIFPw14CBPECgIFAQKAgV3sWCCgkBBoCBQ8JEOJigIFAQKAgWBglMsmKAgUBAo\n",
       "CBS8agR5gkBBoCBQECi4agQTFAQKAgWBgkDBKRZMUBAoCBQEChZmQZ4gUBAoCBQECjuuGicTFAQK\n",
       "AgWBgkDBwiyYoCBQECgIFCzMgjxBoCBQECgIFFw1ggkKAgWBgkDBRzqYoCBQECgIFAQKTrFggoJA\n",
       "QaAgUBAoePYJ8gSBgkBBoOCqEUxQECgIFAQKAgWnWDBBQaAgUBAoCBQszII8QaAgUBAouGoEExQE\n",
       "CgIFgYJAwa+/BBMUBAoCBYGCq0YwQUGgIFAQKAgUvGoEeYJAQaAgUBAouIsFExQECgIFgYKPdDBB\n",
       "QaAgUBAoCBQszII8QaAgUBAoCBTcxYIJCgIFgYJAwUc6mKAgUBAoCBQEChZmQZ4gUBAoCBRcNYIJ\n",
       "CgIFgYJAQaDgFAsmKAgUBAoCBYGCX38JJigIFAQKAgWvGkGeIFAQKAgUBAoWZsEEBYGCQEGgIFBw\n",
       "igUTFAQKAgWBgoVZkCcIFAQKAgWBgqtGMEFBoCBQECj4SAcTFAQKAgWBgkBhx8bspE4QKAgUBAoC\n",
       "hdXopk4QKAgUBAquGkGdIFAQKAgUBAo73n1OJigIFAQKAgWBgoVZUCcIFAQKAgULs6BOECgIFAQK\n",
       "AgWnWFAnCBQECgIFrxrBBAWBgkBBoCBQ8KoR1AkCBYGCQEGgYGEW1AkCBYGCQMFHOqgTBAoCBYGC\n",
       "QGHH/wJ5MkFBoCBQECgIFNzFgjpBoCBQECj4SAd1gkBBoCBQECj4G2ZBnSBQECgIFPxjlmCCgkBB\n",
       "oCBQEChYmAV1gkBBoCBQECg4xYI6QaAgUBAoeNUI6gSBgkBBoCBQcNUI6gSBgkBBoCBQ8JcXggkK\n",
       "AgWBgkDBwiyoEwQKAgWBgkDBwiyoEwQKAgWBgo90UCcIFAQKAgWBgleNYIKCQEGgIFAQKHj2CeoE\n",
       "gYJAQaBgYRbUCQIFgYJAQaDgFAvqBIGCQEGgIFDw/4sFExQECgIFgYKrRlAnCBQECgIFgYJTLKgT\n",
       "BAoCBYGCv0AV1AkCBYGCQEGg4B+zBBMUBAoCBYGCQMHCLKgTBAoCBYGCj3RQJwgUBAoCBYGCZ5+g\n",
       "ThAoCBQECgIFzz7BBAWBgkBBoGBhFtQJAgWBgkBBoGBhFtQJAgWBgkDBVSOoEwQKAgWBgkDBq0Yw\n",
       "QUGgIFAQKAgU3MWCOkGgIFAQKHjVCOoEgYJAQaAgUHDVCOoEgYJAQaAgUPDsE0xQECgIFAQKFmZB\n",
       "nSBQECgIFAQKFmZBnSBQECgIFHykgzpBoCBQECgIFPx/88EEBYGCQEGgIFBwFwvqBIGCQEGg4CMd\n",
       "1AkCBYGCQEGg4BQL6gSBgkBBoCBQ8OwTTFAQKAgUBAquGkGdIFAQKAgUBApOsaBOECgIFAQK/t18\n",
       "UCcIFAQKAgWBgqtGUCcIFAQKAgWBgh+aDCYoCBQECgIFV42gThAoCBQECgIFzz5BnSBQECgIFAQK\n",
       "7mJBnSBQECgIFLxqBBMUBAoCBYGCQMHCLKgTBAoCBYGCfVBQJwgUBAoCBYGCUyyoEwQKAgWBgkDB\n",
       "D00GExQECgIFgYKrRlAnCBQECgIFgYJTLKgTBAoCBYGCQMEpFtQJAgWBgkDBq0YwQUGgIFAQKAgU\n",
       "XDWCOkGgIFAQKPhIB3WCQEGgIFAQKPh380GdIFAQKAgUBAp+wyyYoCBQECgIFCzMgjpBoCBQECgI\n",
       "FJxiQZ0gUBAoCBQECp59gjpBoCBQECh41QgmKAgUBAoCBYGChVlQJwgUBAoCBfugoE4QKAgUBAoC\n",
       "BVeNoE4QKAgUBAoCBc8+wQQFgYJAQaBgYRbUCQIFgYJAQaBgYRbUCQIFgYJAQaDgFAvqBIGCQEGg\n",
       "4FUjmKAgUBAoCBQECp59gjpBoCBQECjYBwV1gkBBoCBQECg4xYI6QaAgUBAoCBR2xrPPxQQFgYJA\n",
       "QaDgqhHUCQIFgYJAQaDgFAvqBIGCQEGgIFBwigV1gkBBoCBQ8NeAgzpBoCBQECgIFPyTzGCCgkBB\n",
       "oCBQsA8K6gSBgkBBoCBQsDAL6gSBgkBBoCBQcBcL6gSBgkBBoOBVI5igIFAQKAgUBAoWZkGdIFAQ\n",
       "KAgUBAoWZkGdIFAQKAgUfKSDOkGgIFAQKAgUPPsEExQECgIFgYJXjaBOECgIFAQKAgULs6BOECgI\n",
       "FAQKAgWnWFAnCBQECgIF/31WMEFBoCBQECgIFFw1gjpBoCBQECgIFJxiQZ0gUBAoCBR8pIM6QaAg\n",
       "UBAoCBQ8+wQTFAQKAgWBgqtGUCcIFAQKAgWBglMsqBMECgIFgYJAwQ8LBHWCQEGgIFDwE13BBAWB\n",
       "gkBBoCBQsDAL6gSBgkBBoCBQsDAL6gSBgkBBoOCqEdQJAgWBgkBBoODZJ5igIFAQKAgUXDWCOkGg\n",
       "IFAQKAgUvGoEdYJAQaAgUBAouIsFdYJAQaAgUPCqEUxQECgIFAQKAgULs6BOECgIFAQKAgULs6BO\n",
       "ECgIFAQKPtJBnSBQECgIFAQKTrGgThAoCBQECv+1gREbG7QKlQAAAABJRU5ErkJggg==\n",
       "\" transform=\"translate(2161, 47)\"/>\n",
       "</g>\n",
       "<g clip-path=\"url(#clip1100)\">\n",
       "<text style=\"fill:#000000; fill-opacity:1; font-family:Arial,Helvetica Neue,Helvetica,sans-serif; font-size:48px; text-anchor:start;\" transform=\"rotate(0, 2268.76, 1471.56)\" x=\"2268.76\" y=\"1471.56\">0.249999991</text>\n",
       "</g>\n",
       "<g clip-path=\"url(#clip1100)\">\n",
       "<text style=\"fill:#000000; fill-opacity:1; font-family:Arial,Helvetica Neue,Helvetica,sans-serif; font-size:48px; text-anchor:start;\" transform=\"rotate(0, 2268.76, 1323.93)\" x=\"2268.76\" y=\"1323.93\">0.2499999915</text>\n",
       "</g>\n",
       "<g clip-path=\"url(#clip1100)\">\n",
       "<text style=\"fill:#000000; fill-opacity:1; font-family:Arial,Helvetica Neue,Helvetica,sans-serif; font-size:48px; text-anchor:start;\" transform=\"rotate(0, 2268.76, 1176.29)\" x=\"2268.76\" y=\"1176.29\">0.249999992</text>\n",
       "</g>\n",
       "<g clip-path=\"url(#clip1100)\">\n",
       "<text style=\"fill:#000000; fill-opacity:1; font-family:Arial,Helvetica Neue,Helvetica,sans-serif; font-size:48px; text-anchor:start;\" transform=\"rotate(0, 2268.76, 1028.66)\" x=\"2268.76\" y=\"1028.66\">0.2499999925</text>\n",
       "</g>\n",
       "<g clip-path=\"url(#clip1100)\">\n",
       "<text style=\"fill:#000000; fill-opacity:1; font-family:Arial,Helvetica Neue,Helvetica,sans-serif; font-size:48px; text-anchor:start;\" transform=\"rotate(0, 2268.76, 881.019)\" x=\"2268.76\" y=\"881.019\">0.249999993</text>\n",
       "</g>\n",
       "<g clip-path=\"url(#clip1100)\">\n",
       "<text style=\"fill:#000000; fill-opacity:1; font-family:Arial,Helvetica Neue,Helvetica,sans-serif; font-size:48px; text-anchor:start;\" transform=\"rotate(0, 2268.76, 733.383)\" x=\"2268.76\" y=\"733.383\">0.2499999935</text>\n",
       "</g>\n",
       "<g clip-path=\"url(#clip1100)\">\n",
       "<text style=\"fill:#000000; fill-opacity:1; font-family:Arial,Helvetica Neue,Helvetica,sans-serif; font-size:48px; text-anchor:start;\" transform=\"rotate(0, 2268.76, 585.747)\" x=\"2268.76\" y=\"585.747\">0.249999994</text>\n",
       "</g>\n",
       "<g clip-path=\"url(#clip1100)\">\n",
       "<text style=\"fill:#000000; fill-opacity:1; font-family:Arial,Helvetica Neue,Helvetica,sans-serif; font-size:48px; text-anchor:start;\" transform=\"rotate(0, 2268.76, 438.111)\" x=\"2268.76\" y=\"438.111\">0.2499999945</text>\n",
       "</g>\n",
       "<g clip-path=\"url(#clip1100)\">\n",
       "<text style=\"fill:#000000; fill-opacity:1; font-family:Arial,Helvetica Neue,Helvetica,sans-serif; font-size:48px; text-anchor:start;\" transform=\"rotate(0, 2268.76, 290.474)\" x=\"2268.76\" y=\"290.474\">0.249999995</text>\n",
       "</g>\n",
       "<g clip-path=\"url(#clip1100)\">\n",
       "<text style=\"fill:#000000; fill-opacity:1; font-family:Arial,Helvetica Neue,Helvetica,sans-serif; font-size:48px; text-anchor:start;\" transform=\"rotate(0, 2268.76, 142.838)\" x=\"2268.76\" y=\"142.838\">0.2499999955</text>\n",
       "</g>\n",
       "<polyline clip-path=\"url(#clip1100)\" style=\"stroke:#000000; stroke-width:4; stroke-opacity:1; fill:none\" points=\"\n",
       "  2232.76,1487.47 2232.76,1457.91 2256.76,1457.91 2232.76,1457.91 2232.76,1310.28 2256.76,1310.28 2232.76,1310.28 2232.76,1162.64 2256.76,1162.64 2232.76,1162.64 \n",
       "  2232.76,1015 2256.76,1015 2232.76,1015 2232.76,867.368 2256.76,867.368 2232.76,867.368 2232.76,719.732 2256.76,719.732 2232.76,719.732 2232.76,572.096 \n",
       "  2256.76,572.096 2232.76,572.096 2232.76,424.459 2256.76,424.459 2232.76,424.459 2232.76,276.823 2256.76,276.823 2232.76,276.823 2232.76,129.187 2256.76,129.187 \n",
       "  2232.76,129.187 2232.76,47.2441 \n",
       "  \"/>\n",
       "<path clip-path=\"url(#clip1100)\" d=\"\n",
       "M1749.93 312.204 L2040.76 312.204 L2040.76 130.764 L1749.93 130.764  Z\n",
       "  \" fill=\"#ffffff\" fill-rule=\"evenodd\" fill-opacity=\"1\"/>\n",
       "<polyline clip-path=\"url(#clip1100)\" style=\"stroke:#000000; stroke-width:4; stroke-opacity:1; fill:none\" points=\"\n",
       "  1749.93,312.204 2040.76,312.204 2040.76,130.764 1749.93,130.764 1749.93,312.204 \n",
       "  \"/>\n",
       "<circle clip-path=\"url(#clip1100)\" cx=\"1857.93\" cy=\"191.244\" r=\"21\" fill=\"#0000ff\" fill-rule=\"evenodd\" fill-opacity=\"1\" stroke=\"#000000\" stroke-opacity=\"1\" stroke-width=\"3.2\"/>\n",
       "<g clip-path=\"url(#clip1100)\">\n",
       "<text style=\"fill:#000000; fill-opacity:1; font-family:Arial,Helvetica Neue,Helvetica,sans-serif; font-size:48px; text-anchor:start;\" transform=\"rotate(0, 1941.93, 208.744)\" x=\"1941.93\" y=\"208.744\">y1</text>\n",
       "</g>\n",
       "<circle clip-path=\"url(#clip1100)\" cx=\"1857.93\" cy=\"251.724\" r=\"21\" fill=\"#8b0000\" fill-rule=\"evenodd\" fill-opacity=\"0.8\" stroke=\"#000000\" stroke-opacity=\"0.8\" stroke-width=\"3.2\"/>\n",
       "<g clip-path=\"url(#clip1100)\">\n",
       "<text style=\"fill:#000000; fill-opacity:1; font-family:Arial,Helvetica Neue,Helvetica,sans-serif; font-size:48px; text-anchor:start;\" transform=\"rotate(0, 1941.93, 269.224)\" x=\"1941.93\" y=\"269.224\">y2</text>\n",
       "</g>\n",
       "</svg>\n"
      ]
     },
     "execution_count": 8,
     "metadata": {},
     "output_type": "execute_result"
    }
   ],
   "source": [
    "p0 = plot([-1,-1,1,1], [-1,1,-1,1], seriestype = :scatter, color=:blue)\n",
    "p1 = plot!(p0,real(Xi[1,:]), real(Xi[2,:]), seriestype = :scatter, zcolor = abs.(w), m = (:heat, 0.8, Plots.stroke(1, :black)))"
   ]
  },
  {
   "cell_type": "markdown",
   "metadata": {},
   "source": [
    "We find approximately the $4$ minimizers.\n",
    "\n",
    "\n",
    "Finally, to find the minimizers, we try another strategy and add the constraint that the polynomial should vanish, since we know that its minimal value (at the minimizers) is $0$:"
   ]
  },
  {
   "cell_type": "code",
   "execution_count": 9,
   "metadata": {},
   "outputs": [
    {
     "data": {
      "text/plain": [
       "2.3258039938411912e-10"
      ]
     },
     "execution_count": 9,
     "metadata": {},
     "output_type": "execute_result"
    }
   ],
   "source": [
    "M = MomentModel(X, 6, optimizer)\n",
    "constraint_unitmass(M)\n",
    "objective(M,motz)\n",
    "\n",
    "constraint_zero(M, motz)\n",
    "\n",
    "v = optimize(M)[1]"
   ]
  },
  {
   "cell_type": "code",
   "execution_count": 10,
   "metadata": {},
   "outputs": [
    {
     "data": {
      "text/plain": [
       "([0.25000001151184936, 0.2499999876981737, 0.2499999876981862, 0.25000001151185], [-0.9998387798331221 0.9999939124380297 -0.9999939124377935 0.9998387798328597; -1.000071422694886 -0.9999973147219612 0.9999973147217893 1.0000714226948852])"
      ]
     },
     "execution_count": 10,
     "metadata": {},
     "output_type": "execute_result"
    }
   ],
   "source": [
    "w, Xi = get_measure(M)"
   ]
  },
  {
   "cell_type": "code",
   "execution_count": 11,
   "metadata": {},
   "outputs": [
    {
     "data": {
      "image/svg+xml": [
       "<?xml version=\"1.0\" encoding=\"utf-8\"?>\n",
       "<svg xmlns=\"http://www.w3.org/2000/svg\" xmlns:xlink=\"http://www.w3.org/1999/xlink\" width=\"600\" height=\"400\" viewBox=\"0 0 2400 1600\">\n",
       "<defs>\n",
       "  <clipPath id=\"clip1500\">\n",
       "    <rect x=\"0\" y=\"0\" width=\"2400\" height=\"1600\"/>\n",
       "  </clipPath>\n",
       "</defs>\n",
       "<path clip-path=\"url(#clip1500)\" d=\"\n",
       "M0 1600 L2400 1600 L2400 0 L0 0  Z\n",
       "  \" fill=\"#ffffff\" fill-rule=\"evenodd\" fill-opacity=\"1\"/>\n",
       "<defs>\n",
       "  <clipPath id=\"clip1501\">\n",
       "    <rect x=\"480\" y=\"0\" width=\"1681\" height=\"1600\"/>\n",
       "  </clipPath>\n",
       "</defs>\n",
       "<path clip-path=\"url(#clip1500)\" d=\"\n",
       "M182.008 1487.47 L2112.76 1487.47 L2112.76 47.2441 L182.008 47.2441  Z\n",
       "  \" fill=\"#ffffff\" fill-rule=\"evenodd\" fill-opacity=\"1\"/>\n",
       "<defs>\n",
       "  <clipPath id=\"clip1502\">\n",
       "    <rect x=\"182\" y=\"47\" width=\"1932\" height=\"1441\"/>\n",
       "  </clipPath>\n",
       "</defs>\n",
       "<polyline clip-path=\"url(#clip1502)\" style=\"stroke:#000000; stroke-width:2; stroke-opacity:0.1; fill:none\" points=\"\n",
       "  236.652,1487.47 236.652,47.2441 \n",
       "  \"/>\n",
       "<polyline clip-path=\"url(#clip1502)\" style=\"stroke:#000000; stroke-width:2; stroke-opacity:0.1; fill:none\" points=\"\n",
       "  692.017,1487.47 692.017,47.2441 \n",
       "  \"/>\n",
       "<polyline clip-path=\"url(#clip1502)\" style=\"stroke:#000000; stroke-width:2; stroke-opacity:0.1; fill:none\" points=\"\n",
       "  1147.38,1487.47 1147.38,47.2441 \n",
       "  \"/>\n",
       "<polyline clip-path=\"url(#clip1502)\" style=\"stroke:#000000; stroke-width:2; stroke-opacity:0.1; fill:none\" points=\"\n",
       "  1602.75,1487.47 1602.75,47.2441 \n",
       "  \"/>\n",
       "<polyline clip-path=\"url(#clip1502)\" style=\"stroke:#000000; stroke-width:2; stroke-opacity:0.1; fill:none\" points=\"\n",
       "  2058.11,1487.47 2058.11,47.2441 \n",
       "  \"/>\n",
       "<polyline clip-path=\"url(#clip1502)\" style=\"stroke:#000000; stroke-width:2; stroke-opacity:0.1; fill:none\" points=\"\n",
       "  182.008,1446.66 2112.76,1446.66 \n",
       "  \"/>\n",
       "<polyline clip-path=\"url(#clip1502)\" style=\"stroke:#000000; stroke-width:2; stroke-opacity:0.1; fill:none\" points=\"\n",
       "  182.008,1107.01 2112.76,1107.01 \n",
       "  \"/>\n",
       "<polyline clip-path=\"url(#clip1502)\" style=\"stroke:#000000; stroke-width:2; stroke-opacity:0.1; fill:none\" points=\"\n",
       "  182.008,767.359 2112.76,767.359 \n",
       "  \"/>\n",
       "<polyline clip-path=\"url(#clip1502)\" style=\"stroke:#000000; stroke-width:2; stroke-opacity:0.1; fill:none\" points=\"\n",
       "  182.008,427.707 2112.76,427.707 \n",
       "  \"/>\n",
       "<polyline clip-path=\"url(#clip1502)\" style=\"stroke:#000000; stroke-width:2; stroke-opacity:0.1; fill:none\" points=\"\n",
       "  182.008,88.0539 2112.76,88.0539 \n",
       "  \"/>\n",
       "<polyline clip-path=\"url(#clip1500)\" style=\"stroke:#000000; stroke-width:4; stroke-opacity:1; fill:none\" points=\"\n",
       "  182.008,1487.47 2112.76,1487.47 \n",
       "  \"/>\n",
       "<polyline clip-path=\"url(#clip1500)\" style=\"stroke:#000000; stroke-width:4; stroke-opacity:1; fill:none\" points=\"\n",
       "  182.008,1487.47 182.008,47.2441 \n",
       "  \"/>\n",
       "<polyline clip-path=\"url(#clip1500)\" style=\"stroke:#000000; stroke-width:4; stroke-opacity:1; fill:none\" points=\"\n",
       "  236.652,1487.47 236.652,1470.19 \n",
       "  \"/>\n",
       "<polyline clip-path=\"url(#clip1500)\" style=\"stroke:#000000; stroke-width:4; stroke-opacity:1; fill:none\" points=\"\n",
       "  692.017,1487.47 692.017,1470.19 \n",
       "  \"/>\n",
       "<polyline clip-path=\"url(#clip1500)\" style=\"stroke:#000000; stroke-width:4; stroke-opacity:1; fill:none\" points=\"\n",
       "  1147.38,1487.47 1147.38,1470.19 \n",
       "  \"/>\n",
       "<polyline clip-path=\"url(#clip1500)\" style=\"stroke:#000000; stroke-width:4; stroke-opacity:1; fill:none\" points=\"\n",
       "  1602.75,1487.47 1602.75,1470.19 \n",
       "  \"/>\n",
       "<polyline clip-path=\"url(#clip1500)\" style=\"stroke:#000000; stroke-width:4; stroke-opacity:1; fill:none\" points=\"\n",
       "  2058.11,1487.47 2058.11,1470.19 \n",
       "  \"/>\n",
       "<polyline clip-path=\"url(#clip1500)\" style=\"stroke:#000000; stroke-width:4; stroke-opacity:1; fill:none\" points=\"\n",
       "  182.008,1446.66 205.177,1446.66 \n",
       "  \"/>\n",
       "<polyline clip-path=\"url(#clip1500)\" style=\"stroke:#000000; stroke-width:4; stroke-opacity:1; fill:none\" points=\"\n",
       "  182.008,1107.01 205.177,1107.01 \n",
       "  \"/>\n",
       "<polyline clip-path=\"url(#clip1500)\" style=\"stroke:#000000; stroke-width:4; stroke-opacity:1; fill:none\" points=\"\n",
       "  182.008,767.359 205.177,767.359 \n",
       "  \"/>\n",
       "<polyline clip-path=\"url(#clip1500)\" style=\"stroke:#000000; stroke-width:4; stroke-opacity:1; fill:none\" points=\"\n",
       "  182.008,427.707 205.177,427.707 \n",
       "  \"/>\n",
       "<polyline clip-path=\"url(#clip1500)\" style=\"stroke:#000000; stroke-width:4; stroke-opacity:1; fill:none\" points=\"\n",
       "  182.008,88.0539 205.177,88.0539 \n",
       "  \"/>\n",
       "<g clip-path=\"url(#clip1500)\">\n",
       "<text style=\"fill:#000000; fill-opacity:1; font-family:Arial,Helvetica Neue,Helvetica,sans-serif; font-size:48px; text-anchor:middle;\" transform=\"rotate(0, 236.652, 1541.47)\" x=\"236.652\" y=\"1541.47\">-1.0</text>\n",
       "</g>\n",
       "<g clip-path=\"url(#clip1500)\">\n",
       "<text style=\"fill:#000000; fill-opacity:1; font-family:Arial,Helvetica Neue,Helvetica,sans-serif; font-size:48px; text-anchor:middle;\" transform=\"rotate(0, 692.017, 1541.47)\" x=\"692.017\" y=\"1541.47\">-0.5</text>\n",
       "</g>\n",
       "<g clip-path=\"url(#clip1500)\">\n",
       "<text style=\"fill:#000000; fill-opacity:1; font-family:Arial,Helvetica Neue,Helvetica,sans-serif; font-size:48px; text-anchor:middle;\" transform=\"rotate(0, 1147.38, 1541.47)\" x=\"1147.38\" y=\"1541.47\">0.0</text>\n",
       "</g>\n",
       "<g clip-path=\"url(#clip1500)\">\n",
       "<text style=\"fill:#000000; fill-opacity:1; font-family:Arial,Helvetica Neue,Helvetica,sans-serif; font-size:48px; text-anchor:middle;\" transform=\"rotate(0, 1602.75, 1541.47)\" x=\"1602.75\" y=\"1541.47\">0.5</text>\n",
       "</g>\n",
       "<g clip-path=\"url(#clip1500)\">\n",
       "<text style=\"fill:#000000; fill-opacity:1; font-family:Arial,Helvetica Neue,Helvetica,sans-serif; font-size:48px; text-anchor:middle;\" transform=\"rotate(0, 2058.11, 1541.47)\" x=\"2058.11\" y=\"1541.47\">1.0</text>\n",
       "</g>\n",
       "<g clip-path=\"url(#clip1500)\">\n",
       "<text style=\"fill:#000000; fill-opacity:1; font-family:Arial,Helvetica Neue,Helvetica,sans-serif; font-size:48px; text-anchor:end;\" transform=\"rotate(0, 158.008, 1464.16)\" x=\"158.008\" y=\"1464.16\">-1.0</text>\n",
       "</g>\n",
       "<g clip-path=\"url(#clip1500)\">\n",
       "<text style=\"fill:#000000; fill-opacity:1; font-family:Arial,Helvetica Neue,Helvetica,sans-serif; font-size:48px; text-anchor:end;\" transform=\"rotate(0, 158.008, 1124.51)\" x=\"158.008\" y=\"1124.51\">-0.5</text>\n",
       "</g>\n",
       "<g clip-path=\"url(#clip1500)\">\n",
       "<text style=\"fill:#000000; fill-opacity:1; font-family:Arial,Helvetica Neue,Helvetica,sans-serif; font-size:48px; text-anchor:end;\" transform=\"rotate(0, 158.008, 784.859)\" x=\"158.008\" y=\"784.859\">0.0</text>\n",
       "</g>\n",
       "<g clip-path=\"url(#clip1500)\">\n",
       "<text style=\"fill:#000000; fill-opacity:1; font-family:Arial,Helvetica Neue,Helvetica,sans-serif; font-size:48px; text-anchor:end;\" transform=\"rotate(0, 158.008, 445.207)\" x=\"158.008\" y=\"445.207\">0.5</text>\n",
       "</g>\n",
       "<g clip-path=\"url(#clip1500)\">\n",
       "<text style=\"fill:#000000; fill-opacity:1; font-family:Arial,Helvetica Neue,Helvetica,sans-serif; font-size:48px; text-anchor:end;\" transform=\"rotate(0, 158.008, 105.554)\" x=\"158.008\" y=\"105.554\">1.0</text>\n",
       "</g>\n",
       "<circle clip-path=\"url(#clip1502)\" cx=\"236.652\" cy=\"1446.66\" r=\"14\" fill=\"#0000ff\" fill-rule=\"evenodd\" fill-opacity=\"1\" stroke=\"#000000\" stroke-opacity=\"1\" stroke-width=\"3.2\"/>\n",
       "<circle clip-path=\"url(#clip1502)\" cx=\"236.652\" cy=\"88.0539\" r=\"14\" fill=\"#0000ff\" fill-rule=\"evenodd\" fill-opacity=\"1\" stroke=\"#000000\" stroke-opacity=\"1\" stroke-width=\"3.2\"/>\n",
       "<circle clip-path=\"url(#clip1502)\" cx=\"2058.11\" cy=\"1446.66\" r=\"14\" fill=\"#0000ff\" fill-rule=\"evenodd\" fill-opacity=\"1\" stroke=\"#000000\" stroke-opacity=\"1\" stroke-width=\"3.2\"/>\n",
       "<circle clip-path=\"url(#clip1502)\" cx=\"2058.11\" cy=\"88.0539\" r=\"14\" fill=\"#0000ff\" fill-rule=\"evenodd\" fill-opacity=\"1\" stroke=\"#000000\" stroke-opacity=\"1\" stroke-width=\"3.2\"/>\n",
       "<circle clip-path=\"url(#clip1502)\" cx=\"236.799\" cy=\"1446.71\" r=\"14\" fill=\"#8b0000\" fill-rule=\"evenodd\" fill-opacity=\"0.8\" stroke=\"#000000\" stroke-opacity=\"0.8\" stroke-width=\"3.2\"/>\n",
       "<circle clip-path=\"url(#clip1502)\" cx=\"2058.11\" cy=\"1446.66\" r=\"14\" fill=\"#ffffe0\" fill-rule=\"evenodd\" fill-opacity=\"0.8\" stroke=\"#000000\" stroke-opacity=\"0.8\" stroke-width=\"3.2\"/>\n",
       "<circle clip-path=\"url(#clip1502)\" cx=\"236.657\" cy=\"88.0557\" r=\"14\" fill=\"#fffedf\" fill-rule=\"evenodd\" fill-opacity=\"0.8\" stroke=\"#000000\" stroke-opacity=\"0.8\" stroke-width=\"3.2\"/>\n",
       "<circle clip-path=\"url(#clip1502)\" cx=\"2057.97\" cy=\"88.0053\" r=\"14\" fill=\"#8b0000\" fill-rule=\"evenodd\" fill-opacity=\"0.8\" stroke=\"#000000\" stroke-opacity=\"0.8\" stroke-width=\"3.2\"/>\n",
       "<defs>\n",
       "  <clipPath id=\"clip1503\">\n",
       "    <rect x=\"2160\" y=\"47\" width=\"73\" height=\"1441\"/>\n",
       "  </clipPath>\n",
       "</defs>\n",
       "<g clip-path=\"url(#clip1503)\">\n",
       "<image width=\"72\" height=\"1440\" xlink:href=\"data:image/png;base64,\n",
       "iVBORw0KGgoAAAANSUhEUgAAAEgAAAWgCAYAAAD9wgUPAAALxUlEQVR4nO3dwY0bQQwAQe6B2Sto\n",
       "XQRiP6VHVQRGg9jBcGz5ec28h4/+vv0H+HUCBYGCQEGgsPN8+4/w20xQECgIFAQKAoV9nGInExQE\n",
       "CgIFgYKPdDBBQaAgUBAoCBT2kegkTxAoCBQECgIFd7FggoJAQaAgUPCRDiYoCBQECgIFgYKFWZAn\n",
       "CBQECgIFV41ggoJAQaAgUBAoOMWCCQoCBYGCQEGg4BQLJigIFAQKAgWvGkGeIFAQKAgUBAp+/SWY\n",
       "oCBQECgIFAQKFmbBBAWBgkBBoGBhFuQJAgWBgkBBoOCqEUxQECgIFAQKPtLBBAWBgkBBoCBQcIoF\n",
       "ExQECgIFgYJAwbNPkCcIFAQKAgVXjWCCgkBBoCBQECg4xYIJCgIFgYJAQaBgYRbkCQIFgYJAwVUj\n",
       "mKAgUBAoCBQECn79JZigIFAQKAgU7IOCPEGgIFAQKAgULMyCCQoCBYGCQEGg4BQLJigIFAQKAgUf\n",
       "6WCCgkBBoCBQECh49gnyBIGCQEGgIFBwFwsmKAgUBAoCBR/pYIKCQEGgIFAQKFiYBXmCQEGgIFBw\n",
       "1QgmKAgUBAoCBYGCUyyYoCBQECgIFAQKfv0lmKAgUBAoCBS8agR5gkBBoCBQEChYmAUTFAQKAgWB\n",
       "gkDBKRZMUBAoCBQEChZmQZ4gUBAoCBQECq4awQQFgYJAQaDgIx1MUBAoCBQECgIFC7MgTxAoCBQE\n",
       "CgIFd7FggoJAQaAgUPCRDiYoCBQECgIFgYJTLJigIFAQKAgUBAor0U2eIFAQKAgUXDWCCQoCBYGC\n",
       "QEGg4BQLJigIFAQKAgV/DTjIEwQKAgWBgkDBVSOYoCBQECgIFAQKTrFggoJAQaAgUPCRDiYoCBQE\n",
       "CgIFgYJnnyBPECgIFAQKAgV3sWCCgkBBoCBQ8JEOJigIFAQKAgWBgoVZkCcIFAQKAoUdV42TCQoC\n",
       "BYGCQEGgYGEWTFAQKAgUBAoCBQuzIE8QKAgUBAquGsEEBYGCQEGgIFBwigUTFAQKAgWBgkDBKRZM\n",
       "UBAoCBQECl41gjxBoCBQECgIFFw1ggkKAgWBgkDBRzqYoCBQECgIFAQKFmZBniBQECgIFAQK7mLB\n",
       "BAWBgkBBoODXX4IJCgIFgYJAQaBgYRbkCQIFgYJAQaBgYRZMUBAoCBQECj7SwQQFgYJAQaAgUHCK\n",
       "BRMUBAoCBYGCV40gTxAoCBQECgIFV41ggoJAQaAgUBAoOMWCCQoCBYGCQMHCLMgTBAoCBYGCQMFV\n",
       "I5igIFAQKAgUBApOsWCCgkBBoCBQ8OsvwQQFgYJAQaAgUPDsE+QJAgWBgkDBPiiYoCBQECgIFAQK\n",
       "TrFggoJAQaAgUBAoWJgFeYJAQaAgUHDVCCYoCBQECgIFgYJTLJigIFAQKAgUBAoWZkGeIFAQKAgU\n",
       "XDWCCQoCBYGCQEGg4BQLJigIFAQKAgUf6WCCgkBBoCBQECisRDd5gkBBoCBQECi4iwUTFAQKAgWB\n",
       "go90MEFBoCBQECgIFPw14CBPECgIFAQKAgV3sWCCgkBBoCBQ8JEOJigIFAQKAgWBglMsmKAgUBAo\n",
       "CBS8agR5gkBBoCBQECi4agQTFAQKAgWBgkDBKRZMUBAoCBQEChZmQZ4gUBAoCBQECjuuGicTFAQK\n",
       "AgWBgkDBwiyYoCBQECgIFCzMgjxBoCBQECgIFFw1ggkKAgWBgkDBRzqYoCBQECgIFAQKTrFggoJA\n",
       "QaAgUBAoePYJ8gSBgkBBoOCqEUxQECgIFAQKAgWnWDBBQaAgUBAoCBQszII8QaAgUBAouGoEExQE\n",
       "CgIFgYJAwa+/BBMUBAoCBYGCq0YwQUGgIFAQKAgUvGoEeYJAQaAgUBAouIsFExQECgIFgYKPdDBB\n",
       "QaAgUBAoCBQszII8QaAgUBAoCBTcxYIJCgIFgYJAwUc6mKAgUBAoCBQEChZmQZ4gUBAoCBRcNYIJ\n",
       "CgIFgYJAQaDgFAsmKAgUBAoCBYGCX38JJigIFAQKAgWvGkGeIFAQKAgUBAoWZsEEBYGCQEGgIFBw\n",
       "igUTFAQKAgWBgoVZkCcIFAQKAgWBgqtGMEFBoCBQECj4SAcTFAQKAgWBgkBhx8bspE4QKAgUBAoC\n",
       "hdXopk4QKAgUBAquGkGdIFAQKAgUBAo73n1OJigIFAQKAgWBgoVZUCcIFAQKAgULs6BOECgIFAQK\n",
       "AgWnWFAnCBQECgIFrxrBBAWBgkBBoCBQ8KoR1AkCBYGCQEGgYGEW1AkCBYGCQMFHOqgTBAoCBYGC\n",
       "QGHH/wJ5MkFBoCBQECgIFNzFgjpBoCBQECj4SAd1gkBBoCBQECj4G2ZBnSBQECgIFPxjlmCCgkBB\n",
       "oCBQEChYmAV1gkBBoCBQECg4xYI6QaAgUBAoeNUI6gSBgkBBoCBQcNUI6gSBgkBBoCBQ8JcXggkK\n",
       "AgWBgkDBwiyoEwQKAgWBgkDBwiyoEwQKAgWBgo90UCcIFAQKAgWBgleNYIKCQEGgIFAQKHj2CeoE\n",
       "gYJAQaBgYRbUCQIFgYJAQaDgFAvqBIGCQEGgIFDw/4sFExQECgIFgYKrRlAnCBQECgIFgYJTLKgT\n",
       "BAoCBYGCv0AV1AkCBYGCQEGg4B+zBBMUBAoCBYGCQMHCLKgTBAoCBYGCj3RQJwgUBAoCBYGCZ5+g\n",
       "ThAoCBQECgIFzz7BBAWBgkBBoGBhFtQJAgWBgkBBoGBhFtQJAgWBgkDBVSOoEwQKAgWBgkDBq0Yw\n",
       "QUGgIFAQKAgU3MWCOkGgIFAQKHjVCOoEgYJAQaAgUHDVCOoEgYJAQaAgUPDsE0xQECgIFAQKFmZB\n",
       "nSBQECgIFAQKFmZBnSBQECgIFHykgzpBoCBQECgIFPx/88EEBYGCQEGgIFBwFwvqBIGCQEGg4CMd\n",
       "1AkCBYGCQEGg4BQL6gSBgkBBoCBQ8OwTTFAQKAgUBAquGkGdIFAQKAgUBApOsaBOECgIFAQK/t18\n",
       "UCcIFAQKAgWBgqtGUCcIFAQKAgWBgh+aDCYoCBQECgIFV42gThAoCBQECgIFzz5BnSBQECgIFAQK\n",
       "7mJBnSBQECgIFLxqBBMUBAoCBYGCQMHCLKgTBAoCBYGCfVBQJwgUBAoCBYGCUyyoEwQKAgWBgkDB\n",
       "D00GExQECgIFgYKrRlAnCBQECgIFgYJTLKgTBAoCBYGCQMEpFtQJAgWBgkDBq0YwQUGgIFAQKAgU\n",
       "XDWCOkGgIFAQKPhIB3WCQEGgIFAQKPh380GdIFAQKAgUBAp+wyyYoCBQECgIFCzMgjpBoCBQECgI\n",
       "FJxiQZ0gUBAoCBQECp59gjpBoCBQECh41QgmKAgUBAoCBYGChVlQJwgUBAoCBfugoE4QKAgUBAoC\n",
       "BVeNoE4QKAgUBAoCBc8+wQQFgYJAQaBgYRbUCQIFgYJAQaBgYRbUCQIFgYJAQaDgFAvqBIGCQEGg\n",
       "4FUjmKAgUBAoCBQECp59gjpBoCBQECjYBwV1gkBBoCBQECg4xYI6QaAgUBAoCBR2xrPPxQQFgYJA\n",
       "QaDgqhHUCQIFgYJAQaDgFAvqBIGCQEGgIFBwigV1gkBBoCBQ8NeAgzpBoCBQECgIFPyTzGCCgkBB\n",
       "oCBQsA8K6gSBgkBBoCBQsDAL6gSBgkBBoCBQcBcL6gSBgkBBoOBVI5igIFAQKAgUBAoWZkGdIFAQ\n",
       "KAgUBAoWZkGdIFAQKAgUfKSDOkGgIFAQKAgUPPsEExQECgIFgYJXjaBOECgIFAQKAgULs6BOECgI\n",
       "FAQKAgWnWFAnCBQECgIF/31WMEFBoCBQECgIFFw1gjpBoCBQECgIFJxiQZ0gUBAoCBR8pIM6QaAg\n",
       "UBAoCBQ8+wQTFAQKAgWBgqtGUCcIFAQKAgWBglMsqBMECgIFgYJAwQ8LBHWCQEGgIFDwE13BBAWB\n",
       "gkBBoCBQsDAL6gSBgkBBoCBQsDAL6gSBgkBBoOCqEdQJAgWBgkBBoODZJ5igIFAQKAgUXDWCOkGg\n",
       "IFAQKAgUvGoEdYJAQaAgUBAouIsFdYJAQaAgUPCqEUxQECgIFAQKAgULs6BOECgIFAQKAgULs6BO\n",
       "ECgIFAQKPtJBnSBQECgIFAQKTrGgThAoCBQECv+1gREbG7QKlQAAAABJRU5ErkJggg==\n",
       "\" transform=\"translate(2161, 47)\"/>\n",
       "</g>\n",
       "<g clip-path=\"url(#clip1500)\">\n",
       "<text style=\"fill:#000000; fill-opacity:1; font-family:Arial,Helvetica Neue,Helvetica,sans-serif; font-size:48px; text-anchor:start;\" transform=\"rotate(0, 2268.76, 1361.91)\" x=\"2268.76\" y=\"1361.91\">0.24999999</text>\n",
       "</g>\n",
       "<g clip-path=\"url(#clip1500)\">\n",
       "<text style=\"fill:#000000; fill-opacity:1; font-family:Arial,Helvetica Neue,Helvetica,sans-serif; font-size:48px; text-anchor:start;\" transform=\"rotate(0, 2268.76, 1210.72)\" x=\"2268.76\" y=\"1210.72\">0.2499999925</text>\n",
       "</g>\n",
       "<g clip-path=\"url(#clip1500)\">\n",
       "<text style=\"fill:#000000; fill-opacity:1; font-family:Arial,Helvetica Neue,Helvetica,sans-serif; font-size:48px; text-anchor:start;\" transform=\"rotate(0, 2268.76, 1059.52)\" x=\"2268.76\" y=\"1059.52\">0.249999995</text>\n",
       "</g>\n",
       "<g clip-path=\"url(#clip1500)\">\n",
       "<text style=\"fill:#000000; fill-opacity:1; font-family:Arial,Helvetica Neue,Helvetica,sans-serif; font-size:48px; text-anchor:start;\" transform=\"rotate(0, 2268.76, 908.32)\" x=\"2268.76\" y=\"908.32\">0.2499999975</text>\n",
       "</g>\n",
       "<g clip-path=\"url(#clip1500)\">\n",
       "<text style=\"fill:#000000; fill-opacity:1; font-family:Arial,Helvetica Neue,Helvetica,sans-serif; font-size:48px; text-anchor:start;\" transform=\"rotate(0, 2268.76, 757.122)\" x=\"2268.76\" y=\"757.122\">0.25000</text>\n",
       "</g>\n",
       "<g clip-path=\"url(#clip1500)\">\n",
       "<text style=\"fill:#000000; fill-opacity:1; font-family:Arial,Helvetica Neue,Helvetica,sans-serif; font-size:48px; text-anchor:start;\" transform=\"rotate(0, 2268.76, 605.924)\" x=\"2268.76\" y=\"605.924\">0.2500000025</text>\n",
       "</g>\n",
       "<g clip-path=\"url(#clip1500)\">\n",
       "<text style=\"fill:#000000; fill-opacity:1; font-family:Arial,Helvetica Neue,Helvetica,sans-serif; font-size:48px; text-anchor:start;\" transform=\"rotate(0, 2268.76, 454.726)\" x=\"2268.76\" y=\"454.726\">0.250000005</text>\n",
       "</g>\n",
       "<g clip-path=\"url(#clip1500)\">\n",
       "<text style=\"fill:#000000; fill-opacity:1; font-family:Arial,Helvetica Neue,Helvetica,sans-serif; font-size:48px; text-anchor:start;\" transform=\"rotate(0, 2268.76, 303.529)\" x=\"2268.76\" y=\"303.529\">0.2500000075</text>\n",
       "</g>\n",
       "<g clip-path=\"url(#clip1500)\">\n",
       "<text style=\"fill:#000000; fill-opacity:1; font-family:Arial,Helvetica Neue,Helvetica,sans-serif; font-size:48px; text-anchor:start;\" transform=\"rotate(0, 2268.76, 152.331)\" x=\"2268.76\" y=\"152.331\">0.25000001</text>\n",
       "</g>\n",
       "<polyline clip-path=\"url(#clip1500)\" style=\"stroke:#000000; stroke-width:4; stroke-opacity:1; fill:none\" points=\"\n",
       "  2232.76,1487.47 2232.76,1348.26 2256.76,1348.26 2232.76,1348.26 2232.76,1197.06 2256.76,1197.06 2232.76,1197.06 2232.76,1045.87 2256.76,1045.87 2232.76,1045.87 \n",
       "  2232.76,894.669 2256.76,894.669 2232.76,894.669 2232.76,743.471 2256.76,743.471 2232.76,743.471 2232.76,592.273 2256.76,592.273 2232.76,592.273 2232.76,441.075 \n",
       "  2256.76,441.075 2232.76,441.075 2232.76,289.877 2256.76,289.877 2232.76,289.877 2232.76,138.679 2256.76,138.679 2232.76,138.679 2232.76,47.2441 \n",
       "  \"/>\n",
       "<path clip-path=\"url(#clip1500)\" d=\"\n",
       "M1749.93 312.204 L2040.76 312.204 L2040.76 130.764 L1749.93 130.764  Z\n",
       "  \" fill=\"#ffffff\" fill-rule=\"evenodd\" fill-opacity=\"1\"/>\n",
       "<polyline clip-path=\"url(#clip1500)\" style=\"stroke:#000000; stroke-width:4; stroke-opacity:1; fill:none\" points=\"\n",
       "  1749.93,312.204 2040.76,312.204 2040.76,130.764 1749.93,130.764 1749.93,312.204 \n",
       "  \"/>\n",
       "<circle clip-path=\"url(#clip1500)\" cx=\"1857.93\" cy=\"191.244\" r=\"21\" fill=\"#0000ff\" fill-rule=\"evenodd\" fill-opacity=\"1\" stroke=\"#000000\" stroke-opacity=\"1\" stroke-width=\"3.2\"/>\n",
       "<g clip-path=\"url(#clip1500)\">\n",
       "<text style=\"fill:#000000; fill-opacity:1; font-family:Arial,Helvetica Neue,Helvetica,sans-serif; font-size:48px; text-anchor:start;\" transform=\"rotate(0, 1941.93, 208.744)\" x=\"1941.93\" y=\"208.744\">y1</text>\n",
       "</g>\n",
       "<circle clip-path=\"url(#clip1500)\" cx=\"1857.93\" cy=\"251.724\" r=\"21\" fill=\"#8b0000\" fill-rule=\"evenodd\" fill-opacity=\"0.8\" stroke=\"#000000\" stroke-opacity=\"0.8\" stroke-width=\"3.2\"/>\n",
       "<g clip-path=\"url(#clip1500)\">\n",
       "<text style=\"fill:#000000; fill-opacity:1; font-family:Arial,Helvetica Neue,Helvetica,sans-serif; font-size:48px; text-anchor:start;\" transform=\"rotate(0, 1941.93, 269.224)\" x=\"1941.93\" y=\"269.224\">y2</text>\n",
       "</g>\n",
       "</svg>\n"
      ]
     },
     "execution_count": 11,
     "metadata": {},
     "output_type": "execute_result"
    }
   ],
   "source": [
    "p0 = plot([-1,-1,1,1], [-1,1,-1,1], seriestype = :scatter, color=:blue)\n",
    "p1 = plot!(p0,real(Xi[1,:]), real(Xi[2,:]), seriestype = :scatter, zcolor = abs.(w), m = (:heat, 0.8, Plots.stroke(1, :black)))"
   ]
  },
  {
   "cell_type": "markdown",
   "metadata": {},
   "source": [
    "The minimizers (in red) are close to that actual minimizers (in blue)."
   ]
  }
 ],
 "metadata": {
  "@webio": {
   "lastCommId": null,
   "lastKernelId": null
  },
  "kernelspec": {
   "display_name": "Julia 1.3.1",
   "language": "julia",
   "name": "julia-1.3"
  },
  "language_info": {
   "file_extension": ".jl",
   "mimetype": "application/julia",
   "name": "julia",
   "version": "1.3.1"
  }
 },
 "nbformat": 4,
 "nbformat_minor": 2
}
