{
 "cells": [
  {
   "cell_type": "markdown",
   "metadata": {},
   "source": [
    "# The minimizers of Motzkin polynomial"
   ]
  },
  {
   "cell_type": "code",
   "execution_count": 1,
   "metadata": {},
   "outputs": [],
   "source": [
    "using DynamicPolynomials, MomentTools, Plots;\n",
    "using JuMP, MosekTools; optimizer = optimizer_with_attributes(Mosek.Optimizer, \"QUIET\" => true);"
   ]
  },
  {
   "cell_type": "markdown",
   "metadata": {},
   "source": [
    "We use Mosek solver for the convex optimization on SDP matrices."
   ]
  },
  {
   "cell_type": "code",
   "execution_count": 2,
   "metadata": {},
   "outputs": [
    {
     "data": {
      "text/latex": [
       "$$ x^{4}y^{2} + x^{2}y^{4} - 3x^{2}y^{2} + 1 $$"
      ],
      "text/plain": [
       "x⁴y² + x²y⁴ - 3x²y² + 1"
      ]
     },
     "execution_count": 2,
     "metadata": {},
     "output_type": "execute_result"
    }
   ],
   "source": [
    "X  = @polyvar x y\n",
    "motz = x^4*y^2 + x^2*y^4 - 3x^2*y^2  + 1 "
   ]
  },
  {
   "cell_type": "markdown",
   "metadata": {},
   "source": [
    "This polynomial, known as Motzkin polynomial, is non-negative but not a sum of squares.\n",
    "\n",
    "We construction a moment relaxation of order 6, imposing the moments to come from a probability measure, with total mass equal to 1:"
   ]
  },
  {
   "cell_type": "code",
   "execution_count": 3,
   "metadata": {},
   "outputs": [
    {
     "data": {
      "text/plain": [
       "(-1.6742123696021906e-10, \n",
       "A Moment program with:\n",
       "A JuMP Model\n",
       "Minimization problem with:\n",
       "Variables: 91\n",
       "Objective function type: GenericAffExpr{Float64,VariableRef}\n",
       "`GenericAffExpr{Float64,VariableRef}`-in-`MathOptInterface.EqualTo{Float64}`: 1 constraint\n",
       "`Array{VariableRef,1}`-in-`MathOptInterface.PositiveSemidefiniteConeTriangle`: 1 constraint\n",
       "Model mode: AUTOMATIC\n",
       "CachingOptimizer state: ATTACHED_OPTIMIZER\n",
       "Solver name: Dual model with Mosek attached\n",
       "Names registered in the model: basis, degree, dual, index, moments, monomials, nu, variables, y)"
      ]
     },
     "execution_count": 3,
     "metadata": {},
     "output_type": "execute_result"
    }
   ],
   "source": [
    "M = MomentModel(X, 6, optimizer)\n",
    "constraint_unitmass(M)\n",
    "objective(M,motz)\n",
    "v, M = optimize(M)"
   ]
  },
  {
   "cell_type": "code",
   "execution_count": 4,
   "metadata": {},
   "outputs": [
    {
     "data": {
      "text/plain": [
       "-1.6742123696021906e-10"
      ]
     },
     "execution_count": 4,
     "metadata": {},
     "output_type": "execute_result"
    }
   ],
   "source": [
    "v"
   ]
  },
  {
   "cell_type": "markdown",
   "metadata": {},
   "source": [
    "The objective value is a lower bound of the actual mimimal value $0$ of Motzkin polynomial.\n",
    "\n",
    "We extract a measure from the sequence of moments, using the function `MultivariateSeries.decompose`:"
   ]
  },
  {
   "cell_type": "code",
   "execution_count": 5,
   "metadata": {},
   "outputs": [
    {
     "data": {
      "text/plain": [
       "(Float64[], Array{Float64}(undef,2,0))"
      ]
     },
     "execution_count": 5,
     "metadata": {},
     "output_type": "execute_result"
    }
   ],
   "source": [
    "w, Xi = get_measure(M)"
   ]
  },
  {
   "cell_type": "markdown",
   "metadata": {},
   "source": [
    " `w` is the vector of weights and `Xi` is the matrix of points, that is support of the measure $\\mu=\\sum_i \\omega_i \\delta_{\\Xi_i}$. `w[i]` is the weight of the Dirac measure corresponding to the point `Xi[:,i]` in this decomposition.\n",
    "\n",
    "Here no point is found to approximate the optimal moment sequence."
   ]
  },
  {
   "cell_type": "markdown",
   "metadata": {},
   "source": [
    "Now, to find the minimizers, we add as constraints, that the gradient of the polynomial should vanish:"
   ]
  },
  {
   "cell_type": "code",
   "execution_count": 6,
   "metadata": {},
   "outputs": [
    {
     "data": {
      "text/plain": [
       "3.6962168659115946e-8"
      ]
     },
     "execution_count": 6,
     "metadata": {},
     "output_type": "execute_result"
    }
   ],
   "source": [
    "M = MomentModel(X, 6, optimizer)\n",
    "constraint_unitmass(M)\n",
    "objective(M,motz)\n",
    "\n",
    "J = differentiate(motz,X)\n",
    "constraint_zero(M, J...)\n",
    "v = optimize(M)[1]"
   ]
  },
  {
   "cell_type": "code",
   "execution_count": 7,
   "metadata": {},
   "outputs": [
    {
     "data": {
      "text/plain": [
       "([0.24999999524007935, 0.24999999121486882, 0.2499999912148701, 0.2499999952400783], [1.0000000029258804 1.0000000031154819 -1.0000000031154817 -1.0000000029258806; -1.0000000029933198 1.0000000031156946 -1.0000000031156946 1.0000000029933198])"
      ]
     },
     "execution_count": 7,
     "metadata": {},
     "output_type": "execute_result"
    }
   ],
   "source": [
    "w, Xi = get_measure(M)"
   ]
  },
  {
   "cell_type": "code",
   "execution_count": 8,
   "metadata": {},
   "outputs": [
    {
     "data": {
      "image/png": "[encoded data removed]"
     },
     "execution_count": 8,
     "metadata": {},
     "output_type": "execute_result"
    }
   ],
   "source": [
    "p0 = plot([-1,-1,1,1], [-1,1,-1,1], seriestype = :scatter, color=:blue, fmt=:png)\n",
    "p1 = plot!(p0,real(Xi[1,:]), real(Xi[2,:]), seriestype = :scatter, zcolor = abs.(w), m = (:heat, 0.8, Plots.stroke(1, :black)), fmt=:png)"
   ]
  },
  {
   "cell_type": "markdown",
   "metadata": {},
   "source": [
    "We find approximately the $4$ minimizers.\n",
    "\n",
    "\n",
    "Finally, to find the minimizers, we try another strategy and add the constraint that the polynomial should vanish, since we know that its minimal value (at the minimizers) is $0$:"
   ]
  },
  {
   "cell_type": "code",
   "execution_count": 9,
   "metadata": {},
   "outputs": [
    {
     "data": {
      "text/plain": [
       "2.3258039938411912e-10"
      ]
     },
     "execution_count": 9,
     "metadata": {},
     "output_type": "execute_result"
    }
   ],
   "source": [
    "M = MomentModel(X, 6, optimizer)\n",
    "constraint_unitmass(M)\n",
    "objective(M,motz)\n",
    "\n",
    "constraint_zero(M, motz)\n",
    "\n",
    "v = optimize(M)[1]"
   ]
  },
  {
   "cell_type": "code",
   "execution_count": 10,
   "metadata": {},
   "outputs": [
    {
     "data": {
      "text/plain": [
       "([0.25000000859132376, 0.24999999061879682, 0.24999999061878705, 0.2500000085913232], [1.000000018789731 1.0000000188469331 -1.000000018846933 -1.000000018789731; 1.0000000188709834 -1.0000000189095657 1.0000000189095657 -1.0000000188709837])"
      ]
     },
     "execution_count": 10,
     "metadata": {},
     "output_type": "execute_result"
    }
   ],
   "source": [
    "w, Xi = get_measure(M)"
   ]
  },
  {
   "cell_type": "code",
   "execution_count": 11,
   "metadata": {},
   "outputs": [
    {
     "data": {
      "image/png": "[encoded data removed]"
     },
     "execution_count": 11,
     "metadata": {},
     "output_type": "execute_result"
    }
   ],
   "source": [
    "p0 = plot([-1,-1,1,1], [-1,1,-1,1], seriestype = :scatter, color=:blue, fmt=:png)\n",
    "p1 = plot!(p0,real(Xi[1,:]), real(Xi[2,:]), seriestype = :scatter, zcolor = abs.(w), m = (:heat, 0.8, Plots.stroke(1, :black)), fmt=:png)"
   ]
  },
  {
   "cell_type": "markdown",
   "metadata": {},
   "source": [
    "The minimizers (in red) are close to that actual minimizers (in blue)."
   ]
  }
 ],
 "metadata": {
  "@webio": {
   "lastCommId": null,
   "lastKernelId": null
  },
  "kernelspec": {
   "display_name": "Julia 1.3.1",
   "language": "julia",
   "name": "julia-1.3"
  },
  "language_info": {
   "file_extension": ".jl",
   "mimetype": "application/julia",
   "name": "julia",
   "version": "1.3.1"
  }
 },
 "nbformat": 4,
 "nbformat_minor": 2
}
