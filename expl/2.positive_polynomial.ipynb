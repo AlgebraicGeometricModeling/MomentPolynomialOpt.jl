{
 "cells": [
  {
   "cell_type": "markdown",
   "metadata": {},
   "source": [
    "# The minimizers of Motzkin polynomial"
   ]
  },
  {
   "cell_type": "code",
   "execution_count": 1,
   "metadata": {},
   "outputs": [],
   "source": [
    "using DynamicPolynomials, MomentTools, Plots;\n",
    "using JuMP, MosekTools; optimizer = optimizer_with_attributes(Mosek.Optimizer, \"QUIET\" => true);"
   ]
  },
  {
   "cell_type": "markdown",
   "metadata": {},
   "source": [
    "We use Mosek solver for the convex optimization on SDP matrices."
   ]
  },
  {
   "cell_type": "code",
   "execution_count": 2,
   "metadata": {},
   "outputs": [
    {
     "data": {
      "text/latex": [
       "$$ x^{4}y^{2} + x^{2}y^{4} - 3x^{2}y^{2} + 1 $$"
      ],
      "text/plain": [
       "x⁴y² + x²y⁴ - 3x²y² + 1"
      ]
     },
     "execution_count": 2,
     "metadata": {},
     "output_type": "execute_result"
    }
   ],
   "source": [
    "X  = @polyvar x y\n",
    "motz = x^4*y^2 + x^2*y^4 - 3x^2*y^2  + 1 "
   ]
  },
  {
   "cell_type": "markdown",
   "metadata": {},
   "source": [
    "This polynomial, known as Motzkin polynomial, is non-negative but not a sum of squares.\n",
    "\n",
    "We construction a moment relaxation of order 6, imposing the moments to come from a probability measure, with total mass equal to 1:"
   ]
  },
  {
   "cell_type": "code",
   "execution_count": 3,
   "metadata": {},
   "outputs": [
    {
     "data": {
      "text/plain": [
       "(-1.6742123696021906e-10, \n",
       "A Moment program with:\n",
       "A JuMP Model\n",
       "Minimization problem with:\n",
       "Variables: 91\n",
       "Objective function type: GenericAffExpr{Float64,VariableRef}\n",
       "`GenericAffExpr{Float64,VariableRef}`-in-`MathOptInterface.EqualTo{Float64}`: 1 constraint\n",
       "`Array{VariableRef,1}`-in-`MathOptInterface.PositiveSemidefiniteConeTriangle`: 1 constraint\n",
       "Model mode: AUTOMATIC\n",
       "CachingOptimizer state: ATTACHED_OPTIMIZER\n",
       "Solver name: Dual model with Mosek attached\n",
       "Names registered in the model: basis, degree, dual, index, moments, monomials, nu, variables, y)"
      ]
     },
     "execution_count": 3,
     "metadata": {},
     "output_type": "execute_result"
    }
   ],
   "source": [
    "M = MomentModel(X, 6, optimizer)\n",
    "constraint_unitmass(M)\n",
    "objective(M,motz)\n",
    "v, M = optimize(M)"
   ]
  },
  {
   "cell_type": "code",
   "execution_count": 4,
   "metadata": {},
   "outputs": [
    {
     "data": {
      "text/plain": [
       "-1.6742123696021906e-10"
      ]
     },
     "execution_count": 4,
     "metadata": {},
     "output_type": "execute_result"
    }
   ],
   "source": [
    "v"
   ]
  },
  {
   "cell_type": "markdown",
   "metadata": {},
   "source": [
    "The objective value is a lower bound of the actual mimimal value $0$ of Motzkin polynomial.\n",
    "\n",
    "We extract a measure from the sequence of moments, using the function `MultivariateSeries.decompose`:"
   ]
  },
  {
   "cell_type": "code",
   "execution_count": 5,
   "metadata": {},
   "outputs": [
    {
     "data": {
      "text/plain": [
       "(Float64[], Array{Float64}(undef,2,0))"
      ]
     },
     "execution_count": 5,
     "metadata": {},
     "output_type": "execute_result"
    }
   ],
   "source": [
    "w, Xi = get_measure(M)"
   ]
  },
  {
   "cell_type": "markdown",
   "metadata": {},
   "source": [
    " `w` is the vector of weights and `Xi` is the matrix of points, that is support of the measure $\\mu=\\sum_i \\omega_i \\delta_{\\Xi_i}$. `w[i]` is the weight of the Dirac measure corresponding to the point `Xi[:,i]` in this decomposition.\n",
    "\n",
    "Here no point is found to approximate the optimal moment sequence."
   ]
  },
  {
   "cell_type": "markdown",
   "metadata": {},
   "source": [
    "Now, to find the minimizers, we add as constraints, that the gradient of the polynomial should vanish:"
   ]
  },
  {
   "cell_type": "code",
   "execution_count": 6,
   "metadata": {},
   "outputs": [
    {
     "data": {
      "text/plain": [
       "3.6962168659115946e-8"
      ]
     },
     "execution_count": 6,
     "metadata": {},
     "output_type": "execute_result"
    }
   ],
   "source": [
    "M = MomentModel(X, 6, optimizer)\n",
    "constraint_unitmass(M)\n",
    "objective(M,motz)\n",
    "\n",
    "J = differentiate(motz,X)\n",
    "constraint_zero(M, J...)\n",
    "v = optimize(M)[1]"
   ]
  },
  {
   "cell_type": "code",
   "execution_count": 7,
   "metadata": {},
   "outputs": [
    {
     "data": {
      "text/plain": [
       "([0.24999999285784968, 0.24999998951340827, 0.24999998951340882, 0.24999999285784744], [1.000000001321389 1.0000000037394126 -1.0000000037394123 -1.000000001321389; -1.0000000111856049 1.0000000054769382 -1.0000000054769382 1.0000000111856049])"
      ]
     },
     "execution_count": 7,
     "metadata": {},
     "output_type": "execute_result"
    }
   ],
   "source": [
    "w, Xi = get_measure(M)"
   ]
  },
  {
   "cell_type": "code",
   "execution_count": 8,
   "metadata": {},
   "outputs": [
    {
     "data": {
      "image/svg+xml": [
       "<?xml version=\"1.0\" encoding=\"utf-8\"?>\n",
       "<svg xmlns=\"http://www.w3.org/2000/svg\" xmlns:xlink=\"http://www.w3.org/1999/xlink\" width=\"600\" height=\"400\" viewBox=\"0 0 2400 1600\">\n",
       "<defs>\n",
       "  <clipPath id=\"clip6600\">\n",
       "    <rect x=\"0\" y=\"0\" width=\"2400\" height=\"1600\"/>\n",
       "  </clipPath>\n",
       "</defs>\n",
       "<path clip-path=\"url(#clip6600)\" d=\"\n",
       "M0 1600 L2400 1600 L2400 0 L0 0  Z\n",
       "  \" fill=\"#ffffff\" fill-rule=\"evenodd\" fill-opacity=\"1\"/>\n",
       "<defs>\n",
       "  <clipPath id=\"clip6601\">\n",
       "    <rect x=\"480\" y=\"0\" width=\"1681\" height=\"1600\"/>\n",
       "  </clipPath>\n",
       "</defs>\n",
       "<path clip-path=\"url(#clip6600)\" d=\"\n",
       "M182.008 1487.47 L2112.76 1487.47 L2112.76 47.2441 L182.008 47.2441  Z\n",
       "  \" fill=\"#ffffff\" fill-rule=\"evenodd\" fill-opacity=\"1\"/>\n",
       "<defs>\n",
       "  <clipPath id=\"clip6602\">\n",
       "    <rect x=\"182\" y=\"47\" width=\"1932\" height=\"1441\"/>\n",
       "  </clipPath>\n",
       "</defs>\n",
       "<polyline clip-path=\"url(#clip6602)\" style=\"stroke:#000000; stroke-width:2; stroke-opacity:0.1; fill:none\" points=\"\n",
       "  236.652,1487.47 236.652,47.2441 \n",
       "  \"/>\n",
       "<polyline clip-path=\"url(#clip6602)\" style=\"stroke:#000000; stroke-width:2; stroke-opacity:0.1; fill:none\" points=\"\n",
       "  692.017,1487.47 692.017,47.2441 \n",
       "  \"/>\n",
       "<polyline clip-path=\"url(#clip6602)\" style=\"stroke:#000000; stroke-width:2; stroke-opacity:0.1; fill:none\" points=\"\n",
       "  1147.38,1487.47 1147.38,47.2441 \n",
       "  \"/>\n",
       "<polyline clip-path=\"url(#clip6602)\" style=\"stroke:#000000; stroke-width:2; stroke-opacity:0.1; fill:none\" points=\"\n",
       "  1602.75,1487.47 1602.75,47.2441 \n",
       "  \"/>\n",
       "<polyline clip-path=\"url(#clip6602)\" style=\"stroke:#000000; stroke-width:2; stroke-opacity:0.1; fill:none\" points=\"\n",
       "  2058.11,1487.47 2058.11,47.2441 \n",
       "  \"/>\n",
       "<polyline clip-path=\"url(#clip6602)\" style=\"stroke:#000000; stroke-width:2; stroke-opacity:0.1; fill:none\" points=\"\n",
       "  182.008,1446.71 2112.76,1446.71 \n",
       "  \"/>\n",
       "<polyline clip-path=\"url(#clip6602)\" style=\"stroke:#000000; stroke-width:2; stroke-opacity:0.1; fill:none\" points=\"\n",
       "  182.008,1107.04 2112.76,1107.04 \n",
       "  \"/>\n",
       "<polyline clip-path=\"url(#clip6602)\" style=\"stroke:#000000; stroke-width:2; stroke-opacity:0.1; fill:none\" points=\"\n",
       "  182.008,767.359 2112.76,767.359 \n",
       "  \"/>\n",
       "<polyline clip-path=\"url(#clip6602)\" style=\"stroke:#000000; stroke-width:2; stroke-opacity:0.1; fill:none\" points=\"\n",
       "  182.008,427.682 2112.76,427.682 \n",
       "  \"/>\n",
       "<polyline clip-path=\"url(#clip6602)\" style=\"stroke:#000000; stroke-width:2; stroke-opacity:0.1; fill:none\" points=\"\n",
       "  182.008,88.0053 2112.76,88.0053 \n",
       "  \"/>\n",
       "<polyline clip-path=\"url(#clip6600)\" style=\"stroke:#000000; stroke-width:4; stroke-opacity:1; fill:none\" points=\"\n",
       "  182.008,1487.47 2112.76,1487.47 \n",
       "  \"/>\n",
       "<polyline clip-path=\"url(#clip6600)\" style=\"stroke:#000000; stroke-width:4; stroke-opacity:1; fill:none\" points=\"\n",
       "  182.008,1487.47 182.008,47.2441 \n",
       "  \"/>\n",
       "<polyline clip-path=\"url(#clip6600)\" style=\"stroke:#000000; stroke-width:4; stroke-opacity:1; fill:none\" points=\"\n",
       "  236.652,1487.47 236.652,1470.19 \n",
       "  \"/>\n",
       "<polyline clip-path=\"url(#clip6600)\" style=\"stroke:#000000; stroke-width:4; stroke-opacity:1; fill:none\" points=\"\n",
       "  692.017,1487.47 692.017,1470.19 \n",
       "  \"/>\n",
       "<polyline clip-path=\"url(#clip6600)\" style=\"stroke:#000000; stroke-width:4; stroke-opacity:1; fill:none\" points=\"\n",
       "  1147.38,1487.47 1147.38,1470.19 \n",
       "  \"/>\n",
       "<polyline clip-path=\"url(#clip6600)\" style=\"stroke:#000000; stroke-width:4; stroke-opacity:1; fill:none\" points=\"\n",
       "  1602.75,1487.47 1602.75,1470.19 \n",
       "  \"/>\n",
       "<polyline clip-path=\"url(#clip6600)\" style=\"stroke:#000000; stroke-width:4; stroke-opacity:1; fill:none\" points=\"\n",
       "  2058.11,1487.47 2058.11,1470.19 \n",
       "  \"/>\n",
       "<polyline clip-path=\"url(#clip6600)\" style=\"stroke:#000000; stroke-width:4; stroke-opacity:1; fill:none\" points=\"\n",
       "  182.008,1446.71 205.177,1446.71 \n",
       "  \"/>\n",
       "<polyline clip-path=\"url(#clip6600)\" style=\"stroke:#000000; stroke-width:4; stroke-opacity:1; fill:none\" points=\"\n",
       "  182.008,1107.04 205.177,1107.04 \n",
       "  \"/>\n",
       "<polyline clip-path=\"url(#clip6600)\" style=\"stroke:#000000; stroke-width:4; stroke-opacity:1; fill:none\" points=\"\n",
       "  182.008,767.359 205.177,767.359 \n",
       "  \"/>\n",
       "<polyline clip-path=\"url(#clip6600)\" style=\"stroke:#000000; stroke-width:4; stroke-opacity:1; fill:none\" points=\"\n",
       "  182.008,427.682 205.177,427.682 \n",
       "  \"/>\n",
       "<polyline clip-path=\"url(#clip6600)\" style=\"stroke:#000000; stroke-width:4; stroke-opacity:1; fill:none\" points=\"\n",
       "  182.008,88.0053 205.177,88.0053 \n",
       "  \"/>\n",
       "<g clip-path=\"url(#clip6600)\">\n",
       "<text style=\"fill:#000000; fill-opacity:1; font-family:Arial,Helvetica Neue,Helvetica,sans-serif; font-size:48px; text-anchor:middle;\" transform=\"rotate(0, 236.652, 1541.47)\" x=\"236.652\" y=\"1541.47\">-1.0</text>\n",
       "</g>\n",
       "<g clip-path=\"url(#clip6600)\">\n",
       "<text style=\"fill:#000000; fill-opacity:1; font-family:Arial,Helvetica Neue,Helvetica,sans-serif; font-size:48px; text-anchor:middle;\" transform=\"rotate(0, 692.017, 1541.47)\" x=\"692.017\" y=\"1541.47\">-0.5</text>\n",
       "</g>\n",
       "<g clip-path=\"url(#clip6600)\">\n",
       "<text style=\"fill:#000000; fill-opacity:1; font-family:Arial,Helvetica Neue,Helvetica,sans-serif; font-size:48px; text-anchor:middle;\" transform=\"rotate(0, 1147.38, 1541.47)\" x=\"1147.38\" y=\"1541.47\">0.0</text>\n",
       "</g>\n",
       "<g clip-path=\"url(#clip6600)\">\n",
       "<text style=\"fill:#000000; fill-opacity:1; font-family:Arial,Helvetica Neue,Helvetica,sans-serif; font-size:48px; text-anchor:middle;\" transform=\"rotate(0, 1602.75, 1541.47)\" x=\"1602.75\" y=\"1541.47\">0.5</text>\n",
       "</g>\n",
       "<g clip-path=\"url(#clip6600)\">\n",
       "<text style=\"fill:#000000; fill-opacity:1; font-family:Arial,Helvetica Neue,Helvetica,sans-serif; font-size:48px; text-anchor:middle;\" transform=\"rotate(0, 2058.11, 1541.47)\" x=\"2058.11\" y=\"1541.47\">1.0</text>\n",
       "</g>\n",
       "<g clip-path=\"url(#clip6600)\">\n",
       "<text style=\"fill:#000000; fill-opacity:1; font-family:Arial,Helvetica Neue,Helvetica,sans-serif; font-size:48px; text-anchor:end;\" transform=\"rotate(0, 158.008, 1464.21)\" x=\"158.008\" y=\"1464.21\">-1.0</text>\n",
       "</g>\n",
       "<g clip-path=\"url(#clip6600)\">\n",
       "<text style=\"fill:#000000; fill-opacity:1; font-family:Arial,Helvetica Neue,Helvetica,sans-serif; font-size:48px; text-anchor:end;\" transform=\"rotate(0, 158.008, 1124.54)\" x=\"158.008\" y=\"1124.54\">-0.5</text>\n",
       "</g>\n",
       "<g clip-path=\"url(#clip6600)\">\n",
       "<text style=\"fill:#000000; fill-opacity:1; font-family:Arial,Helvetica Neue,Helvetica,sans-serif; font-size:48px; text-anchor:end;\" transform=\"rotate(0, 158.008, 784.859)\" x=\"158.008\" y=\"784.859\">0.0</text>\n",
       "</g>\n",
       "<g clip-path=\"url(#clip6600)\">\n",
       "<text style=\"fill:#000000; fill-opacity:1; font-family:Arial,Helvetica Neue,Helvetica,sans-serif; font-size:48px; text-anchor:end;\" transform=\"rotate(0, 158.008, 445.182)\" x=\"158.008\" y=\"445.182\">0.5</text>\n",
       "</g>\n",
       "<g clip-path=\"url(#clip6600)\">\n",
       "<text style=\"fill:#000000; fill-opacity:1; font-family:Arial,Helvetica Neue,Helvetica,sans-serif; font-size:48px; text-anchor:end;\" transform=\"rotate(0, 158.008, 105.505)\" x=\"158.008\" y=\"105.505\">1.0</text>\n",
       "</g>\n",
       "<circle clip-path=\"url(#clip6602)\" cx=\"236.652\" cy=\"1446.71\" r=\"14\" fill=\"#0000ff\" fill-rule=\"evenodd\" fill-opacity=\"1\" stroke=\"#000000\" stroke-opacity=\"1\" stroke-width=\"3.2\"/>\n",
       "<circle clip-path=\"url(#clip6602)\" cx=\"236.652\" cy=\"88.0053\" r=\"14\" fill=\"#0000ff\" fill-rule=\"evenodd\" fill-opacity=\"1\" stroke=\"#000000\" stroke-opacity=\"1\" stroke-width=\"3.2\"/>\n",
       "<circle clip-path=\"url(#clip6602)\" cx=\"2058.11\" cy=\"1446.71\" r=\"14\" fill=\"#0000ff\" fill-rule=\"evenodd\" fill-opacity=\"1\" stroke=\"#000000\" stroke-opacity=\"1\" stroke-width=\"3.2\"/>\n",
       "<circle clip-path=\"url(#clip6602)\" cx=\"2058.11\" cy=\"88.0053\" r=\"14\" fill=\"#0000ff\" fill-rule=\"evenodd\" fill-opacity=\"1\" stroke=\"#000000\" stroke-opacity=\"1\" stroke-width=\"3.2\"/>\n",
       "<circle clip-path=\"url(#clip6602)\" cx=\"2058.11\" cy=\"1446.71\" r=\"14\" fill=\"#8b0000\" fill-rule=\"evenodd\" fill-opacity=\"0.8\" stroke=\"#000000\" stroke-opacity=\"0.8\" stroke-width=\"3.2\"/>\n",
       "<circle clip-path=\"url(#clip6602)\" cx=\"2058.11\" cy=\"88.0053\" r=\"14\" fill=\"#ffffe0\" fill-rule=\"evenodd\" fill-opacity=\"0.8\" stroke=\"#000000\" stroke-opacity=\"0.8\" stroke-width=\"3.2\"/>\n",
       "<circle clip-path=\"url(#clip6602)\" cx=\"236.652\" cy=\"1446.71\" r=\"14\" fill=\"#fffedf\" fill-rule=\"evenodd\" fill-opacity=\"0.8\" stroke=\"#000000\" stroke-opacity=\"0.8\" stroke-width=\"3.2\"/>\n",
       "<circle clip-path=\"url(#clip6602)\" cx=\"236.652\" cy=\"88.0053\" r=\"14\" fill=\"#8b0000\" fill-rule=\"evenodd\" fill-opacity=\"0.8\" stroke=\"#000000\" stroke-opacity=\"0.8\" stroke-width=\"3.2\"/>\n",
       "<defs>\n",
       "  <clipPath id=\"clip6603\">\n",
       "    <rect x=\"2160\" y=\"47\" width=\"73\" height=\"1441\"/>\n",
       "  </clipPath>\n",
       "</defs>\n",
       "<g clip-path=\"url(#clip6603)\">\n",
       "<image width=\"72\" height=\"1440\" xlink:href=\"data:image/png;base64,\n",
       "iVBORw0KGgoAAAANSUhEUgAAAEgAAAWgCAYAAAD9wgUPAAALxUlEQVR4nO3dwY0bQQwAQe6B2Sto\n",
       "XQRiP6VHVQRGg9jBcGz5ec28h4/+vv0H+HUCBYGCQEGgsPN8+4/w20xQECgIFAQKAoV9nGInExQE\n",
       "CgIFgYKPdDBBQaAgUBAoCBT2kegkTxAoCBQECgIFd7FggoJAQaAgUPCRDiYoCBQECgIFgYKFWZAn\n",
       "CBQECgIFV41ggoJAQaAgUBAoOMWCCQoCBYGCQEGg4BQLJigIFAQKAgWvGkGeIFAQKAgUBAp+/SWY\n",
       "oCBQECgIFAQKFmbBBAWBgkBBoGBhFuQJAgWBgkBBoOCqEUxQECgIFAQKPtLBBAWBgkBBoCBQcIoF\n",
       "ExQECgIFgYJAwbNPkCcIFAQKAgVXjWCCgkBBoCBQECg4xYIJCgIFgYJAQaBgYRbkCQIFgYJAwVUj\n",
       "mKAgUBAoCBQECn79JZigIFAQKAgU7IOCPEGgIFAQKAgULMyCCQoCBYGCQEGg4BQLJigIFAQKAgUf\n",
       "6WCCgkBBoCBQECh49gnyBIGCQEGgIFBwFwsmKAgUBAoCBR/pYIKCQEGgIFAQKFiYBXmCQEGgIFBw\n",
       "1QgmKAgUBAoCBYGCUyyYoCBQECgIFAQKfv0lmKAgUBAoCBS8agR5gkBBoCBQEChYmAUTFAQKAgWB\n",
       "gkDBKRZMUBAoCBQEChZmQZ4gUBAoCBQECq4awQQFgYJAQaDgIx1MUBAoCBQECgIFC7MgTxAoCBQE\n",
       "CgIFd7FggoJAQaAgUPCRDiYoCBQECgIFgYJTLJigIFAQKAgUBAor0U2eIFAQKAgUXDWCCQoCBYGC\n",
       "QEGg4BQLJigIFAQKAgV/DTjIEwQKAgWBgkDBVSOYoCBQECgIFAQKTrFggoJAQaAgUPCRDiYoCBQE\n",
       "CgIFgYJnnyBPECgIFAQKAgV3sWCCgkBBoCBQ8JEOJigIFAQKAgWBgoVZkCcIFAQKAoUdV42TCQoC\n",
       "BYGCQEGgYGEWTFAQKAgUBAoCBQuzIE8QKAgUBAquGsEEBYGCQEGgIFBwigUTFAQKAgWBgkDBKRZM\n",
       "UBAoCBQECl41gjxBoCBQECgIFFw1ggkKAgWBgkDBRzqYoCBQECgIFAQKFmZBniBQECgIFAQK7mLB\n",
       "BAWBgkBBoODXX4IJCgIFgYJAQaBgYRbkCQIFgYJAQaBgYRZMUBAoCBQECj7SwQQFgYJAQaAgUHCK\n",
       "BRMUBAoCBYGCV40gTxAoCBQECgIFV41ggoJAQaAgUBAoOMWCCQoCBYGCQMHCLMgTBAoCBYGCQMFV\n",
       "I5igIFAQKAgUBApOsWCCgkBBoCBQ8OsvwQQFgYJAQaAgUPDsE+QJAgWBgkDBPiiYoCBQECgIFAQK\n",
       "TrFggoJAQaAgUBAoWJgFeYJAQaAgUHDVCCYoCBQECgIFgYJTLJigIFAQKAgUBAoWZkGeIFAQKAgU\n",
       "XDWCCQoCBYGCQEGg4BQLJigIFAQKAgUf6WCCgkBBoCBQECisRDd5gkBBoCBQECi4iwUTFAQKAgWB\n",
       "go90MEFBoCBQECgIFPw14CBPECgIFAQKAgV3sWCCgkBBoCBQ8JEOJigIFAQKAgWBglMsmKAgUBAo\n",
       "CBS8agR5gkBBoCBQECi4agQTFAQKAgWBgkDBKRZMUBAoCBQEChZmQZ4gUBAoCBQECjuuGicTFAQK\n",
       "AgWBgkDBwiyYoCBQECgIFCzMgjxBoCBQECgIFFw1ggkKAgWBgkDBRzqYoCBQECgIFAQKTrFggoJA\n",
       "QaAgUBAoePYJ8gSBgkBBoOCqEUxQECgIFAQKAgWnWDBBQaAgUBAoCBQszII8QaAgUBAouGoEExQE\n",
       "CgIFgYJAwa+/BBMUBAoCBYGCq0YwQUGgIFAQKAgUvGoEeYJAQaAgUBAouIsFExQECgIFgYKPdDBB\n",
       "QaAgUBAoCBQszII8QaAgUBAoCBTcxYIJCgIFgYJAwUc6mKAgUBAoCBQEChZmQZ4gUBAoCBRcNYIJ\n",
       "CgIFgYJAQaDgFAsmKAgUBAoCBYGCX38JJigIFAQKAgWvGkGeIFAQKAgUBAoWZsEEBYGCQEGgIFBw\n",
       "igUTFAQKAgWBgoVZkCcIFAQKAgWBgqtGMEFBoCBQECj4SAcTFAQKAgWBgkBhx8bspE4QKAgUBAoC\n",
       "hdXopk4QKAgUBAquGkGdIFAQKAgUBAo73n1OJigIFAQKAgWBgoVZUCcIFAQKAgULs6BOECgIFAQK\n",
       "AgWnWFAnCBQECgIFrxrBBAWBgkBBoCBQ8KoR1AkCBYGCQEGgYGEW1AkCBYGCQMFHOqgTBAoCBYGC\n",
       "QGHH/wJ5MkFBoCBQECgIFNzFgjpBoCBQECj4SAd1gkBBoCBQECj4G2ZBnSBQECgIFPxjlmCCgkBB\n",
       "oCBQEChYmAV1gkBBoCBQECg4xYI6QaAgUBAoeNUI6gSBgkBBoCBQcNUI6gSBgkBBoCBQ8JcXggkK\n",
       "AgWBgkDBwiyoEwQKAgWBgkDBwiyoEwQKAgWBgo90UCcIFAQKAgWBgleNYIKCQEGgIFAQKHj2CeoE\n",
       "gYJAQaBgYRbUCQIFgYJAQaDgFAvqBIGCQEGgIFDw/4sFExQECgIFgYKrRlAnCBQECgIFgYJTLKgT\n",
       "BAoCBYGCv0AV1AkCBYGCQEGg4B+zBBMUBAoCBYGCQMHCLKgTBAoCBYGCj3RQJwgUBAoCBYGCZ5+g\n",
       "ThAoCBQECgIFzz7BBAWBgkBBoGBhFtQJAgWBgkBBoGBhFtQJAgWBgkDBVSOoEwQKAgWBgkDBq0Yw\n",
       "QUGgIFAQKAgU3MWCOkGgIFAQKHjVCOoEgYJAQaAgUHDVCOoEgYJAQaAgUPDsE0xQECgIFAQKFmZB\n",
       "nSBQECgIFAQKFmZBnSBQECgIFHykgzpBoCBQECgIFPx/88EEBYGCQEGgIFBwFwvqBIGCQEGg4CMd\n",
       "1AkCBYGCQEGg4BQL6gSBgkBBoCBQ8OwTTFAQKAgUBAquGkGdIFAQKAgUBApOsaBOECgIFAQK/t18\n",
       "UCcIFAQKAgWBgqtGUCcIFAQKAgWBgh+aDCYoCBQECgIFV42gThAoCBQECgIFzz5BnSBQECgIFAQK\n",
       "7mJBnSBQECgIFLxqBBMUBAoCBYGCQMHCLKgTBAoCBYGCfVBQJwgUBAoCBYGCUyyoEwQKAgWBgkDB\n",
       "D00GExQECgIFgYKrRlAnCBQECgIFgYJTLKgTBAoCBYGCQMEpFtQJAgWBgkDBq0YwQUGgIFAQKAgU\n",
       "XDWCOkGgIFAQKPhIB3WCQEGgIFAQKPh380GdIFAQKAgUBAp+wyyYoCBQECgIFCzMgjpBoCBQECgI\n",
       "FJxiQZ0gUBAoCBQECp59gjpBoCBQECh41QgmKAgUBAoCBYGChVlQJwgUBAoCBfugoE4QKAgUBAoC\n",
       "BVeNoE4QKAgUBAoCBc8+wQQFgYJAQaBgYRbUCQIFgYJAQaBgYRbUCQIFgYJAQaDgFAvqBIGCQEGg\n",
       "4FUjmKAgUBAoCBQECp59gjpBoCBQECjYBwV1gkBBoCBQECg4xYI6QaAgUBAoCBR2xrPPxQQFgYJA\n",
       "QaDgqhHUCQIFgYJAQaDgFAvqBIGCQEGgIFBwigV1gkBBoCBQ8NeAgzpBoCBQECgIFPyTzGCCgkBB\n",
       "oCBQsA8K6gSBgkBBoCBQsDAL6gSBgkBBoCBQcBcL6gSBgkBBoOBVI5igIFAQKAgUBAoWZkGdIFAQ\n",
       "KAgUBAoWZkGdIFAQKAgUfKSDOkGgIFAQKAgUPPsEExQECgIFgYJXjaBOECgIFAQKAgULs6BOECgI\n",
       "FAQKAgWnWFAnCBQECgIF/31WMEFBoCBQECgIFFw1gjpBoCBQECgIFJxiQZ0gUBAoCBR8pIM6QaAg\n",
       "UBAoCBQ8+wQTFAQKAgWBgqtGUCcIFAQKAgWBglMsqBMECgIFgYJAwQ8LBHWCQEGgIFDwE13BBAWB\n",
       "gkBBoCBQsDAL6gSBgkBBoCBQsDAL6gSBgkBBoOCqEdQJAgWBgkBBoODZJ5igIFAQKAgUXDWCOkGg\n",
       "IFAQKAgUvGoEdYJAQaAgUBAouIsFdYJAQaAgUPCqEUxQECgIFAQKAgULs6BOECgIFAQKAgULs6BO\n",
       "ECgIFAQKPtJBnSBQECgIFAQKTrGgThAoCBQECv+1gREbG7QKlQAAAABJRU5ErkJggg==\n",
       "\" transform=\"translate(2161, 47)\"/>\n",
       "</g>\n",
       "<g clip-path=\"url(#clip6600)\">\n",
       "<text style=\"fill:#000000; fill-opacity:1; font-family:Arial,Helvetica Neue,Helvetica,sans-serif; font-size:48px; text-anchor:start;\" transform=\"rotate(0, 2268.76, 1291.58)\" x=\"2268.76\" y=\"1291.58\">0.24999999</text>\n",
       "</g>\n",
       "<g clip-path=\"url(#clip6600)\">\n",
       "<text style=\"fill:#000000; fill-opacity:1; font-family:Arial,Helvetica Neue,Helvetica,sans-serif; font-size:48px; text-anchor:start;\" transform=\"rotate(0, 2268.76, 1076.27)\" x=\"2268.76\" y=\"1076.27\">0.2499999905</text>\n",
       "</g>\n",
       "<g clip-path=\"url(#clip6600)\">\n",
       "<text style=\"fill:#000000; fill-opacity:1; font-family:Arial,Helvetica Neue,Helvetica,sans-serif; font-size:48px; text-anchor:start;\" transform=\"rotate(0, 2268.76, 860.949)\" x=\"2268.76\" y=\"860.949\">0.249999991</text>\n",
       "</g>\n",
       "<g clip-path=\"url(#clip6600)\">\n",
       "<text style=\"fill:#000000; fill-opacity:1; font-family:Arial,Helvetica Neue,Helvetica,sans-serif; font-size:48px; text-anchor:start;\" transform=\"rotate(0, 2268.76, 645.632)\" x=\"2268.76\" y=\"645.632\">0.2499999915</text>\n",
       "</g>\n",
       "<g clip-path=\"url(#clip6600)\">\n",
       "<text style=\"fill:#000000; fill-opacity:1; font-family:Arial,Helvetica Neue,Helvetica,sans-serif; font-size:48px; text-anchor:start;\" transform=\"rotate(0, 2268.76, 430.315)\" x=\"2268.76\" y=\"430.315\">0.249999992</text>\n",
       "</g>\n",
       "<g clip-path=\"url(#clip6600)\">\n",
       "<text style=\"fill:#000000; fill-opacity:1; font-family:Arial,Helvetica Neue,Helvetica,sans-serif; font-size:48px; text-anchor:start;\" transform=\"rotate(0, 2268.76, 214.998)\" x=\"2268.76\" y=\"214.998\">0.2499999925</text>\n",
       "</g>\n",
       "<polyline clip-path=\"url(#clip6600)\" style=\"stroke:#000000; stroke-width:4; stroke-opacity:1; fill:none\" points=\"\n",
       "  2232.76,1487.47 2232.76,1277.93 2256.76,1277.93 2232.76,1277.93 2232.76,1062.61 2256.76,1062.61 2232.76,1062.61 2232.76,847.298 2256.76,847.298 2232.76,847.298 \n",
       "  2232.76,631.981 2256.76,631.981 2232.76,631.981 2232.76,416.663 2256.76,416.663 2232.76,416.663 2232.76,201.346 2256.76,201.346 2232.76,201.346 2232.76,47.2441 \n",
       "  \n",
       "  \"/>\n",
       "<path clip-path=\"url(#clip6600)\" d=\"\n",
       "M1749.93 312.204 L2040.76 312.204 L2040.76 130.764 L1749.93 130.764  Z\n",
       "  \" fill=\"#ffffff\" fill-rule=\"evenodd\" fill-opacity=\"1\"/>\n",
       "<polyline clip-path=\"url(#clip6600)\" style=\"stroke:#000000; stroke-width:4; stroke-opacity:1; fill:none\" points=\"\n",
       "  1749.93,312.204 2040.76,312.204 2040.76,130.764 1749.93,130.764 1749.93,312.204 \n",
       "  \"/>\n",
       "<circle clip-path=\"url(#clip6600)\" cx=\"1857.93\" cy=\"191.244\" r=\"21\" fill=\"#0000ff\" fill-rule=\"evenodd\" fill-opacity=\"1\" stroke=\"#000000\" stroke-opacity=\"1\" stroke-width=\"3.2\"/>\n",
       "<g clip-path=\"url(#clip6600)\">\n",
       "<text style=\"fill:#000000; fill-opacity:1; font-family:Arial,Helvetica Neue,Helvetica,sans-serif; font-size:48px; text-anchor:start;\" transform=\"rotate(0, 1941.93, 208.744)\" x=\"1941.93\" y=\"208.744\">y1</text>\n",
       "</g>\n",
       "<circle clip-path=\"url(#clip6600)\" cx=\"1857.93\" cy=\"251.724\" r=\"21\" fill=\"#8b0000\" fill-rule=\"evenodd\" fill-opacity=\"0.8\" stroke=\"#000000\" stroke-opacity=\"0.8\" stroke-width=\"3.2\"/>\n",
       "<g clip-path=\"url(#clip6600)\">\n",
       "<text style=\"fill:#000000; fill-opacity:1; font-family:Arial,Helvetica Neue,Helvetica,sans-serif; font-size:48px; text-anchor:start;\" transform=\"rotate(0, 1941.93, 269.224)\" x=\"1941.93\" y=\"269.224\">y2</text>\n",
       "</g>\n",
       "</svg>\n"
      ]
     },
     "execution_count": 8,
     "metadata": {},
     "output_type": "execute_result"
    }
   ],
   "source": [
    "p0 = plot([-1,-1,1,1], [-1,1,-1,1], seriestype = :scatter, color=:blue)\n",
    "p1 = plot!(p0,real(Xi[1,:]), real(Xi[2,:]), seriestype = :scatter, zcolor = abs.(w), m = (:heat, 0.8, Plots.stroke(1, :black)))"
   ]
  },
  {
   "cell_type": "markdown",
   "metadata": {},
   "source": [
    "We find approximately the $4$ minimizers.\n",
    "\n",
    "\n",
    "Finally, to find the minimizers, we try another strategy and add the constraint that the polynomial should vanish, since we know that its minimal value (at the minimizers) is $0$:"
   ]
  },
  {
   "cell_type": "code",
   "execution_count": 9,
   "metadata": {},
   "outputs": [
    {
     "data": {
      "text/plain": [
       "2.3258039938411912e-10"
      ]
     },
     "execution_count": 9,
     "metadata": {},
     "output_type": "execute_result"
    }
   ],
   "source": [
    "M = MomentModel(X, 6, optimizer)\n",
    "constraint_unitmass(M)\n",
    "objective(M,motz)\n",
    "\n",
    "constraint_zero(M, motz)\n",
    "\n",
    "v = optimize(M)[1]"
   ]
  },
  {
   "cell_type": "code",
   "execution_count": 10,
   "metadata": {},
   "outputs": [
    {
     "data": {
      "text/plain": [
       "([0.2500000086542787, 0.24999999055583366, 0.24999999055583705, 0.2500000086542783], [1.000000018788225 1.0000000188473943 -1.0000000188473939 -1.000000018788225; -1.0000000188728464 1.0000000189101361 -1.0000000189101361 1.0000000188728466])"
      ]
     },
     "execution_count": 10,
     "metadata": {},
     "output_type": "execute_result"
    }
   ],
   "source": [
    "w, Xi = get_measure(M)"
   ]
  },
  {
   "cell_type": "code",
   "execution_count": 11,
   "metadata": {},
   "outputs": [
    {
     "data": {
      "image/svg+xml": [
       "<?xml version=\"1.0\" encoding=\"utf-8\"?>\n",
       "<svg xmlns=\"http://www.w3.org/2000/svg\" xmlns:xlink=\"http://www.w3.org/1999/xlink\" width=\"600\" height=\"400\" viewBox=\"0 0 2400 1600\">\n",
       "<defs>\n",
       "  <clipPath id=\"clip7000\">\n",
       "    <rect x=\"0\" y=\"0\" width=\"2400\" height=\"1600\"/>\n",
       "  </clipPath>\n",
       "</defs>\n",
       "<path clip-path=\"url(#clip7000)\" d=\"\n",
       "M0 1600 L2400 1600 L2400 0 L0 0  Z\n",
       "  \" fill=\"#ffffff\" fill-rule=\"evenodd\" fill-opacity=\"1\"/>\n",
       "<defs>\n",
       "  <clipPath id=\"clip7001\">\n",
       "    <rect x=\"480\" y=\"0\" width=\"1681\" height=\"1600\"/>\n",
       "  </clipPath>\n",
       "</defs>\n",
       "<path clip-path=\"url(#clip7000)\" d=\"\n",
       "M182.008 1487.47 L2112.76 1487.47 L2112.76 47.2441 L182.008 47.2441  Z\n",
       "  \" fill=\"#ffffff\" fill-rule=\"evenodd\" fill-opacity=\"1\"/>\n",
       "<defs>\n",
       "  <clipPath id=\"clip7002\">\n",
       "    <rect x=\"182\" y=\"47\" width=\"1932\" height=\"1441\"/>\n",
       "  </clipPath>\n",
       "</defs>\n",
       "<polyline clip-path=\"url(#clip7002)\" style=\"stroke:#000000; stroke-width:2; stroke-opacity:0.1; fill:none\" points=\"\n",
       "  236.652,1487.47 236.652,47.2441 \n",
       "  \"/>\n",
       "<polyline clip-path=\"url(#clip7002)\" style=\"stroke:#000000; stroke-width:2; stroke-opacity:0.1; fill:none\" points=\"\n",
       "  692.017,1487.47 692.017,47.2441 \n",
       "  \"/>\n",
       "<polyline clip-path=\"url(#clip7002)\" style=\"stroke:#000000; stroke-width:2; stroke-opacity:0.1; fill:none\" points=\"\n",
       "  1147.38,1487.47 1147.38,47.2441 \n",
       "  \"/>\n",
       "<polyline clip-path=\"url(#clip7002)\" style=\"stroke:#000000; stroke-width:2; stroke-opacity:0.1; fill:none\" points=\"\n",
       "  1602.75,1487.47 1602.75,47.2441 \n",
       "  \"/>\n",
       "<polyline clip-path=\"url(#clip7002)\" style=\"stroke:#000000; stroke-width:2; stroke-opacity:0.1; fill:none\" points=\"\n",
       "  2058.11,1487.47 2058.11,47.2441 \n",
       "  \"/>\n",
       "<polyline clip-path=\"url(#clip7002)\" style=\"stroke:#000000; stroke-width:2; stroke-opacity:0.1; fill:none\" points=\"\n",
       "  182.008,1446.71 2112.76,1446.71 \n",
       "  \"/>\n",
       "<polyline clip-path=\"url(#clip7002)\" style=\"stroke:#000000; stroke-width:2; stroke-opacity:0.1; fill:none\" points=\"\n",
       "  182.008,1107.04 2112.76,1107.04 \n",
       "  \"/>\n",
       "<polyline clip-path=\"url(#clip7002)\" style=\"stroke:#000000; stroke-width:2; stroke-opacity:0.1; fill:none\" points=\"\n",
       "  182.008,767.359 2112.76,767.359 \n",
       "  \"/>\n",
       "<polyline clip-path=\"url(#clip7002)\" style=\"stroke:#000000; stroke-width:2; stroke-opacity:0.1; fill:none\" points=\"\n",
       "  182.008,427.682 2112.76,427.682 \n",
       "  \"/>\n",
       "<polyline clip-path=\"url(#clip7002)\" style=\"stroke:#000000; stroke-width:2; stroke-opacity:0.1; fill:none\" points=\"\n",
       "  182.008,88.0054 2112.76,88.0054 \n",
       "  \"/>\n",
       "<polyline clip-path=\"url(#clip7000)\" style=\"stroke:#000000; stroke-width:4; stroke-opacity:1; fill:none\" points=\"\n",
       "  182.008,1487.47 2112.76,1487.47 \n",
       "  \"/>\n",
       "<polyline clip-path=\"url(#clip7000)\" style=\"stroke:#000000; stroke-width:4; stroke-opacity:1; fill:none\" points=\"\n",
       "  182.008,1487.47 182.008,47.2441 \n",
       "  \"/>\n",
       "<polyline clip-path=\"url(#clip7000)\" style=\"stroke:#000000; stroke-width:4; stroke-opacity:1; fill:none\" points=\"\n",
       "  236.652,1487.47 236.652,1470.19 \n",
       "  \"/>\n",
       "<polyline clip-path=\"url(#clip7000)\" style=\"stroke:#000000; stroke-width:4; stroke-opacity:1; fill:none\" points=\"\n",
       "  692.017,1487.47 692.017,1470.19 \n",
       "  \"/>\n",
       "<polyline clip-path=\"url(#clip7000)\" style=\"stroke:#000000; stroke-width:4; stroke-opacity:1; fill:none\" points=\"\n",
       "  1147.38,1487.47 1147.38,1470.19 \n",
       "  \"/>\n",
       "<polyline clip-path=\"url(#clip7000)\" style=\"stroke:#000000; stroke-width:4; stroke-opacity:1; fill:none\" points=\"\n",
       "  1602.75,1487.47 1602.75,1470.19 \n",
       "  \"/>\n",
       "<polyline clip-path=\"url(#clip7000)\" style=\"stroke:#000000; stroke-width:4; stroke-opacity:1; fill:none\" points=\"\n",
       "  2058.11,1487.47 2058.11,1470.19 \n",
       "  \"/>\n",
       "<polyline clip-path=\"url(#clip7000)\" style=\"stroke:#000000; stroke-width:4; stroke-opacity:1; fill:none\" points=\"\n",
       "  182.008,1446.71 205.177,1446.71 \n",
       "  \"/>\n",
       "<polyline clip-path=\"url(#clip7000)\" style=\"stroke:#000000; stroke-width:4; stroke-opacity:1; fill:none\" points=\"\n",
       "  182.008,1107.04 205.177,1107.04 \n",
       "  \"/>\n",
       "<polyline clip-path=\"url(#clip7000)\" style=\"stroke:#000000; stroke-width:4; stroke-opacity:1; fill:none\" points=\"\n",
       "  182.008,767.359 205.177,767.359 \n",
       "  \"/>\n",
       "<polyline clip-path=\"url(#clip7000)\" style=\"stroke:#000000; stroke-width:4; stroke-opacity:1; fill:none\" points=\"\n",
       "  182.008,427.682 205.177,427.682 \n",
       "  \"/>\n",
       "<polyline clip-path=\"url(#clip7000)\" style=\"stroke:#000000; stroke-width:4; stroke-opacity:1; fill:none\" points=\"\n",
       "  182.008,88.0054 205.177,88.0054 \n",
       "  \"/>\n",
       "<g clip-path=\"url(#clip7000)\">\n",
       "<text style=\"fill:#000000; fill-opacity:1; font-family:Arial,Helvetica Neue,Helvetica,sans-serif; font-size:48px; text-anchor:middle;\" transform=\"rotate(0, 236.652, 1541.47)\" x=\"236.652\" y=\"1541.47\">-1.0</text>\n",
       "</g>\n",
       "<g clip-path=\"url(#clip7000)\">\n",
       "<text style=\"fill:#000000; fill-opacity:1; font-family:Arial,Helvetica Neue,Helvetica,sans-serif; font-size:48px; text-anchor:middle;\" transform=\"rotate(0, 692.017, 1541.47)\" x=\"692.017\" y=\"1541.47\">-0.5</text>\n",
       "</g>\n",
       "<g clip-path=\"url(#clip7000)\">\n",
       "<text style=\"fill:#000000; fill-opacity:1; font-family:Arial,Helvetica Neue,Helvetica,sans-serif; font-size:48px; text-anchor:middle;\" transform=\"rotate(0, 1147.38, 1541.47)\" x=\"1147.38\" y=\"1541.47\">0.0</text>\n",
       "</g>\n",
       "<g clip-path=\"url(#clip7000)\">\n",
       "<text style=\"fill:#000000; fill-opacity:1; font-family:Arial,Helvetica Neue,Helvetica,sans-serif; font-size:48px; text-anchor:middle;\" transform=\"rotate(0, 1602.75, 1541.47)\" x=\"1602.75\" y=\"1541.47\">0.5</text>\n",
       "</g>\n",
       "<g clip-path=\"url(#clip7000)\">\n",
       "<text style=\"fill:#000000; fill-opacity:1; font-family:Arial,Helvetica Neue,Helvetica,sans-serif; font-size:48px; text-anchor:middle;\" transform=\"rotate(0, 2058.11, 1541.47)\" x=\"2058.11\" y=\"1541.47\">1.0</text>\n",
       "</g>\n",
       "<g clip-path=\"url(#clip7000)\">\n",
       "<text style=\"fill:#000000; fill-opacity:1; font-family:Arial,Helvetica Neue,Helvetica,sans-serif; font-size:48px; text-anchor:end;\" transform=\"rotate(0, 158.008, 1464.21)\" x=\"158.008\" y=\"1464.21\">-1.0</text>\n",
       "</g>\n",
       "<g clip-path=\"url(#clip7000)\">\n",
       "<text style=\"fill:#000000; fill-opacity:1; font-family:Arial,Helvetica Neue,Helvetica,sans-serif; font-size:48px; text-anchor:end;\" transform=\"rotate(0, 158.008, 1124.54)\" x=\"158.008\" y=\"1124.54\">-0.5</text>\n",
       "</g>\n",
       "<g clip-path=\"url(#clip7000)\">\n",
       "<text style=\"fill:#000000; fill-opacity:1; font-family:Arial,Helvetica Neue,Helvetica,sans-serif; font-size:48px; text-anchor:end;\" transform=\"rotate(0, 158.008, 784.859)\" x=\"158.008\" y=\"784.859\">0.0</text>\n",
       "</g>\n",
       "<g clip-path=\"url(#clip7000)\">\n",
       "<text style=\"fill:#000000; fill-opacity:1; font-family:Arial,Helvetica Neue,Helvetica,sans-serif; font-size:48px; text-anchor:end;\" transform=\"rotate(0, 158.008, 445.182)\" x=\"158.008\" y=\"445.182\">0.5</text>\n",
       "</g>\n",
       "<g clip-path=\"url(#clip7000)\">\n",
       "<text style=\"fill:#000000; fill-opacity:1; font-family:Arial,Helvetica Neue,Helvetica,sans-serif; font-size:48px; text-anchor:end;\" transform=\"rotate(0, 158.008, 105.505)\" x=\"158.008\" y=\"105.505\">1.0</text>\n",
       "</g>\n",
       "<circle clip-path=\"url(#clip7002)\" cx=\"236.652\" cy=\"1446.71\" r=\"14\" fill=\"#0000ff\" fill-rule=\"evenodd\" fill-opacity=\"1\" stroke=\"#000000\" stroke-opacity=\"1\" stroke-width=\"3.2\"/>\n",
       "<circle clip-path=\"url(#clip7002)\" cx=\"236.652\" cy=\"88.0054\" r=\"14\" fill=\"#0000ff\" fill-rule=\"evenodd\" fill-opacity=\"1\" stroke=\"#000000\" stroke-opacity=\"1\" stroke-width=\"3.2\"/>\n",
       "<circle clip-path=\"url(#clip7002)\" cx=\"2058.11\" cy=\"1446.71\" r=\"14\" fill=\"#0000ff\" fill-rule=\"evenodd\" fill-opacity=\"1\" stroke=\"#000000\" stroke-opacity=\"1\" stroke-width=\"3.2\"/>\n",
       "<circle clip-path=\"url(#clip7002)\" cx=\"2058.11\" cy=\"88.0054\" r=\"14\" fill=\"#0000ff\" fill-rule=\"evenodd\" fill-opacity=\"1\" stroke=\"#000000\" stroke-opacity=\"1\" stroke-width=\"3.2\"/>\n",
       "<circle clip-path=\"url(#clip7002)\" cx=\"2058.11\" cy=\"1446.71\" r=\"14\" fill=\"#8b0000\" fill-rule=\"evenodd\" fill-opacity=\"0.8\" stroke=\"#000000\" stroke-opacity=\"0.8\" stroke-width=\"3.2\"/>\n",
       "<circle clip-path=\"url(#clip7002)\" cx=\"2058.11\" cy=\"88.0053\" r=\"14\" fill=\"#ffffe0\" fill-rule=\"evenodd\" fill-opacity=\"0.8\" stroke=\"#000000\" stroke-opacity=\"0.8\" stroke-width=\"3.2\"/>\n",
       "<circle clip-path=\"url(#clip7002)\" cx=\"236.652\" cy=\"1446.71\" r=\"14\" fill=\"#fffedf\" fill-rule=\"evenodd\" fill-opacity=\"0.8\" stroke=\"#000000\" stroke-opacity=\"0.8\" stroke-width=\"3.2\"/>\n",
       "<circle clip-path=\"url(#clip7002)\" cx=\"236.652\" cy=\"88.0053\" r=\"14\" fill=\"#8b0000\" fill-rule=\"evenodd\" fill-opacity=\"0.8\" stroke=\"#000000\" stroke-opacity=\"0.8\" stroke-width=\"3.2\"/>\n",
       "<defs>\n",
       "  <clipPath id=\"clip7003\">\n",
       "    <rect x=\"2160\" y=\"47\" width=\"73\" height=\"1441\"/>\n",
       "  </clipPath>\n",
       "</defs>\n",
       "<g clip-path=\"url(#clip7003)\">\n",
       "<image width=\"72\" height=\"1440\" xlink:href=\"data:image/png;base64,\n",
       "iVBORw0KGgoAAAANSUhEUgAAAEgAAAWgCAYAAAD9wgUPAAALxUlEQVR4nO3dwY0bQQwAQe6B2Sto\n",
       "XQRiP6VHVQRGg9jBcGz5ec28h4/+vv0H+HUCBYGCQEGgsPN8+4/w20xQECgIFAQKAoV9nGInExQE\n",
       "CgIFgYKPdDBBQaAgUBAoCBT2kegkTxAoCBQECgIFd7FggoJAQaAgUPCRDiYoCBQECgIFgYKFWZAn\n",
       "CBQECgIFV41ggoJAQaAgUBAoOMWCCQoCBYGCQEGg4BQLJigIFAQKAgWvGkGeIFAQKAgUBAp+/SWY\n",
       "oCBQECgIFAQKFmbBBAWBgkBBoGBhFuQJAgWBgkBBoOCqEUxQECgIFAQKPtLBBAWBgkBBoCBQcIoF\n",
       "ExQECgIFgYJAwbNPkCcIFAQKAgVXjWCCgkBBoCBQECg4xYIJCgIFgYJAQaBgYRbkCQIFgYJAwVUj\n",
       "mKAgUBAoCBQECn79JZigIFAQKAgU7IOCPEGgIFAQKAgULMyCCQoCBYGCQEGg4BQLJigIFAQKAgUf\n",
       "6WCCgkBBoCBQECh49gnyBIGCQEGgIFBwFwsmKAgUBAoCBR/pYIKCQEGgIFAQKFiYBXmCQEGgIFBw\n",
       "1QgmKAgUBAoCBYGCUyyYoCBQECgIFAQKfv0lmKAgUBAoCBS8agR5gkBBoCBQEChYmAUTFAQKAgWB\n",
       "gkDBKRZMUBAoCBQEChZmQZ4gUBAoCBQECq4awQQFgYJAQaDgIx1MUBAoCBQECgIFC7MgTxAoCBQE\n",
       "CgIFd7FggoJAQaAgUPCRDiYoCBQECgIFgYJTLJigIFAQKAgUBAor0U2eIFAQKAgUXDWCCQoCBYGC\n",
       "QEGg4BQLJigIFAQKAgV/DTjIEwQKAgWBgkDBVSOYoCBQECgIFAQKTrFggoJAQaAgUPCRDiYoCBQE\n",
       "CgIFgYJnnyBPECgIFAQKAgV3sWCCgkBBoCBQ8JEOJigIFAQKAgWBgoVZkCcIFAQKAoUdV42TCQoC\n",
       "BYGCQEGgYGEWTFAQKAgUBAoCBQuzIE8QKAgUBAquGsEEBYGCQEGgIFBwigUTFAQKAgWBgkDBKRZM\n",
       "UBAoCBQECl41gjxBoCBQECgIFFw1ggkKAgWBgkDBRzqYoCBQECgIFAQKFmZBniBQECgIFAQK7mLB\n",
       "BAWBgkBBoODXX4IJCgIFgYJAQaBgYRbkCQIFgYJAQaBgYRZMUBAoCBQECj7SwQQFgYJAQaAgUHCK\n",
       "BRMUBAoCBYGCV40gTxAoCBQECgIFV41ggoJAQaAgUBAoOMWCCQoCBYGCQMHCLMgTBAoCBYGCQMFV\n",
       "I5igIFAQKAgUBApOsWCCgkBBoCBQ8OsvwQQFgYJAQaAgUPDsE+QJAgWBgkDBPiiYoCBQECgIFAQK\n",
       "TrFggoJAQaAgUBAoWJgFeYJAQaAgUHDVCCYoCBQECgIFgYJTLJigIFAQKAgUBAoWZkGeIFAQKAgU\n",
       "XDWCCQoCBYGCQEGg4BQLJigIFAQKAgUf6WCCgkBBoCBQECisRDd5gkBBoCBQECi4iwUTFAQKAgWB\n",
       "go90MEFBoCBQECgIFPw14CBPECgIFAQKAgV3sWCCgkBBoCBQ8JEOJigIFAQKAgWBglMsmKAgUBAo\n",
       "CBS8agR5gkBBoCBQECi4agQTFAQKAgWBgkDBKRZMUBAoCBQEChZmQZ4gUBAoCBQECjuuGicTFAQK\n",
       "AgWBgkDBwiyYoCBQECgIFCzMgjxBoCBQECgIFFw1ggkKAgWBgkDBRzqYoCBQECgIFAQKTrFggoJA\n",
       "QaAgUBAoePYJ8gSBgkBBoOCqEUxQECgIFAQKAgWnWDBBQaAgUBAoCBQszII8QaAgUBAouGoEExQE\n",
       "CgIFgYJAwa+/BBMUBAoCBYGCq0YwQUGgIFAQKAgUvGoEeYJAQaAgUBAouIsFExQECgIFgYKPdDBB\n",
       "QaAgUBAoCBQszII8QaAgUBAoCBTcxYIJCgIFgYJAwUc6mKAgUBAoCBQEChZmQZ4gUBAoCBRcNYIJ\n",
       "CgIFgYJAQaDgFAsmKAgUBAoCBYGCX38JJigIFAQKAgWvGkGeIFAQKAgUBAoWZsEEBYGCQEGgIFBw\n",
       "igUTFAQKAgWBgoVZkCcIFAQKAgWBgqtGMEFBoCBQECj4SAcTFAQKAgWBgkBhx8bspE4QKAgUBAoC\n",
       "hdXopk4QKAgUBAquGkGdIFAQKAgUBAo73n1OJigIFAQKAgWBgoVZUCcIFAQKAgULs6BOECgIFAQK\n",
       "AgWnWFAnCBQECgIFrxrBBAWBgkBBoCBQ8KoR1AkCBYGCQEGgYGEW1AkCBYGCQMFHOqgTBAoCBYGC\n",
       "QGHH/wJ5MkFBoCBQECgIFNzFgjpBoCBQECj4SAd1gkBBoCBQECj4G2ZBnSBQECgIFPxjlmCCgkBB\n",
       "oCBQEChYmAV1gkBBoCBQECg4xYI6QaAgUBAoeNUI6gSBgkBBoCBQcNUI6gSBgkBBoCBQ8JcXggkK\n",
       "AgWBgkDBwiyoEwQKAgWBgkDBwiyoEwQKAgWBgo90UCcIFAQKAgWBgleNYIKCQEGgIFAQKHj2CeoE\n",
       "gYJAQaBgYRbUCQIFgYJAQaDgFAvqBIGCQEGgIFDw/4sFExQECgIFgYKrRlAnCBQECgIFgYJTLKgT\n",
       "BAoCBYGCv0AV1AkCBYGCQEGg4B+zBBMUBAoCBYGCQMHCLKgTBAoCBYGCj3RQJwgUBAoCBYGCZ5+g\n",
       "ThAoCBQECgIFzz7BBAWBgkBBoGBhFtQJAgWBgkBBoGBhFtQJAgWBgkDBVSOoEwQKAgWBgkDBq0Yw\n",
       "QUGgIFAQKAgU3MWCOkGgIFAQKHjVCOoEgYJAQaAgUHDVCOoEgYJAQaAgUPDsE0xQECgIFAQKFmZB\n",
       "nSBQECgIFAQKFmZBnSBQECgIFHykgzpBoCBQECgIFPx/88EEBYGCQEGgIFBwFwvqBIGCQEGg4CMd\n",
       "1AkCBYGCQEGg4BQL6gSBgkBBoCBQ8OwTTFAQKAgUBAquGkGdIFAQKAgUBApOsaBOECgIFAQK/t18\n",
       "UCcIFAQKAgWBgqtGUCcIFAQKAgWBgh+aDCYoCBQECgIFV42gThAoCBQECgIFzz5BnSBQECgIFAQK\n",
       "7mJBnSBQECgIFLxqBBMUBAoCBYGCQMHCLKgTBAoCBYGCfVBQJwgUBAoCBYGCUyyoEwQKAgWBgkDB\n",
       "D00GExQECgIFgYKrRlAnCBQECgIFgYJTLKgTBAoCBYGCQMEpFtQJAgWBgkDBq0YwQUGgIFAQKAgU\n",
       "XDWCOkGgIFAQKPhIB3WCQEGgIFAQKPh380GdIFAQKAgUBAp+wyyYoCBQECgIFCzMgjpBoCBQECgI\n",
       "FJxiQZ0gUBAoCBQECp59gjpBoCBQECh41QgmKAgUBAoCBYGChVlQJwgUBAoCBfugoE4QKAgUBAoC\n",
       "BVeNoE4QKAgUBAoCBc8+wQQFgYJAQaBgYRbUCQIFgYJAQaBgYRbUCQIFgYJAQaDgFAvqBIGCQEGg\n",
       "4FUjmKAgUBAoCBQECp59gjpBoCBQECjYBwV1gkBBoCBQECg4xYI6QaAgUBAoCBR2xrPPxQQFgYJA\n",
       "QaDgqhHUCQIFgYJAQaDgFAvqBIGCQEGgIFBwigV1gkBBoCBQ8NeAgzpBoCBQECgIFPyTzGCCgkBB\n",
       "oCBQsA8K6gSBgkBBoCBQsDAL6gSBgkBBoCBQcBcL6gSBgkBBoOBVI5igIFAQKAgUBAoWZkGdIFAQ\n",
       "KAgUBAoWZkGdIFAQKAgUfKSDOkGgIFAQKAgUPPsEExQECgIFgYJXjaBOECgIFAQKAgULs6BOECgI\n",
       "FAQKAgWnWFAnCBQECgIF/31WMEFBoCBQECgIFFw1gjpBoCBQECgIFJxiQZ0gUBAoCBR8pIM6QaAg\n",
       "UBAoCBQ8+wQTFAQKAgWBgqtGUCcIFAQKAgWBglMsqBMECgIFgYJAwQ8LBHWCQEGgIFDwE13BBAWB\n",
       "gkBBoCBQsDAL6gSBgkBBoCBQsDAL6gSBgkBBoOCqEdQJAgWBgkBBoODZJ5igIFAQKAgUXDWCOkGg\n",
       "IFAQKAgUvGoEdYJAQaAgUBAouIsFdYJAQaAgUPCqEUxQECgIFAQKAgULs6BOECgIFAQKAgULs6BO\n",
       "ECgIFAQKPtJBnSBQECgIFAQKTrGgThAoCBQECv+1gREbG7QKlQAAAABJRU5ErkJggg==\n",
       "\" transform=\"translate(2161, 47)\"/>\n",
       "</g>\n",
       "<g clip-path=\"url(#clip7000)\">\n",
       "<text style=\"fill:#000000; fill-opacity:1; font-family:Arial,Helvetica Neue,Helvetica,sans-serif; font-size:48px; text-anchor:start;\" transform=\"rotate(0, 2268.76, 1346.41)\" x=\"2268.76\" y=\"1346.41\">0.2499999925</text>\n",
       "</g>\n",
       "<g clip-path=\"url(#clip7000)\">\n",
       "<text style=\"fill:#000000; fill-opacity:1; font-family:Arial,Helvetica Neue,Helvetica,sans-serif; font-size:48px; text-anchor:start;\" transform=\"rotate(0, 2268.76, 1147.47)\" x=\"2268.76\" y=\"1147.47\">0.249999995</text>\n",
       "</g>\n",
       "<g clip-path=\"url(#clip7000)\">\n",
       "<text style=\"fill:#000000; fill-opacity:1; font-family:Arial,Helvetica Neue,Helvetica,sans-serif; font-size:48px; text-anchor:start;\" transform=\"rotate(0, 2268.76, 948.526)\" x=\"2268.76\" y=\"948.526\">0.2499999975</text>\n",
       "</g>\n",
       "<g clip-path=\"url(#clip7000)\">\n",
       "<text style=\"fill:#000000; fill-opacity:1; font-family:Arial,Helvetica Neue,Helvetica,sans-serif; font-size:48px; text-anchor:start;\" transform=\"rotate(0, 2268.76, 749.582)\" x=\"2268.76\" y=\"749.582\">0.25000</text>\n",
       "</g>\n",
       "<g clip-path=\"url(#clip7000)\">\n",
       "<text style=\"fill:#000000; fill-opacity:1; font-family:Arial,Helvetica Neue,Helvetica,sans-serif; font-size:48px; text-anchor:start;\" transform=\"rotate(0, 2268.76, 550.638)\" x=\"2268.76\" y=\"550.638\">0.2500000025</text>\n",
       "</g>\n",
       "<g clip-path=\"url(#clip7000)\">\n",
       "<text style=\"fill:#000000; fill-opacity:1; font-family:Arial,Helvetica Neue,Helvetica,sans-serif; font-size:48px; text-anchor:start;\" transform=\"rotate(0, 2268.76, 351.694)\" x=\"2268.76\" y=\"351.694\">0.250000005</text>\n",
       "</g>\n",
       "<g clip-path=\"url(#clip7000)\">\n",
       "<text style=\"fill:#000000; fill-opacity:1; font-family:Arial,Helvetica Neue,Helvetica,sans-serif; font-size:48px; text-anchor:start;\" transform=\"rotate(0, 2268.76, 152.75)\" x=\"2268.76\" y=\"152.75\">0.2500000075</text>\n",
       "</g>\n",
       "<polyline clip-path=\"url(#clip7000)\" style=\"stroke:#000000; stroke-width:4; stroke-opacity:1; fill:none\" points=\"\n",
       "  2232.76,1487.47 2232.76,1332.76 2256.76,1332.76 2232.76,1332.76 2232.76,1133.82 2256.76,1133.82 2232.76,1133.82 2232.76,934.875 2256.76,934.875 2232.76,934.875 \n",
       "  2232.76,735.931 2256.76,735.931 2232.76,735.931 2232.76,536.987 2256.76,536.987 2232.76,536.987 2232.76,338.043 2256.76,338.043 2232.76,338.043 2232.76,139.099 \n",
       "  2256.76,139.099 2232.76,139.099 2232.76,47.2441 \n",
       "  \"/>\n",
       "<path clip-path=\"url(#clip7000)\" d=\"\n",
       "M1749.93 312.204 L2040.76 312.204 L2040.76 130.764 L1749.93 130.764  Z\n",
       "  \" fill=\"#ffffff\" fill-rule=\"evenodd\" fill-opacity=\"1\"/>\n",
       "<polyline clip-path=\"url(#clip7000)\" style=\"stroke:#000000; stroke-width:4; stroke-opacity:1; fill:none\" points=\"\n",
       "  1749.93,312.204 2040.76,312.204 2040.76,130.764 1749.93,130.764 1749.93,312.204 \n",
       "  \"/>\n",
       "<circle clip-path=\"url(#clip7000)\" cx=\"1857.93\" cy=\"191.244\" r=\"21\" fill=\"#0000ff\" fill-rule=\"evenodd\" fill-opacity=\"1\" stroke=\"#000000\" stroke-opacity=\"1\" stroke-width=\"3.2\"/>\n",
       "<g clip-path=\"url(#clip7000)\">\n",
       "<text style=\"fill:#000000; fill-opacity:1; font-family:Arial,Helvetica Neue,Helvetica,sans-serif; font-size:48px; text-anchor:start;\" transform=\"rotate(0, 1941.93, 208.744)\" x=\"1941.93\" y=\"208.744\">y1</text>\n",
       "</g>\n",
       "<circle clip-path=\"url(#clip7000)\" cx=\"1857.93\" cy=\"251.724\" r=\"21\" fill=\"#8b0000\" fill-rule=\"evenodd\" fill-opacity=\"0.8\" stroke=\"#000000\" stroke-opacity=\"0.8\" stroke-width=\"3.2\"/>\n",
       "<g clip-path=\"url(#clip7000)\">\n",
       "<text style=\"fill:#000000; fill-opacity:1; font-family:Arial,Helvetica Neue,Helvetica,sans-serif; font-size:48px; text-anchor:start;\" transform=\"rotate(0, 1941.93, 269.224)\" x=\"1941.93\" y=\"269.224\">y2</text>\n",
       "</g>\n",
       "</svg>\n"
      ]
     },
     "execution_count": 11,
     "metadata": {},
     "output_type": "execute_result"
    }
   ],
   "source": [
    "p0 = plot([-1,-1,1,1], [-1,1,-1,1], seriestype = :scatter, color=:blue)\n",
    "p1 = plot!(p0,real(Xi[1,:]), real(Xi[2,:]), seriestype = :scatter, zcolor = abs.(w), m = (:heat, 0.8, Plots.stroke(1, :black)))"
   ]
  },
  {
   "cell_type": "markdown",
   "metadata": {},
   "source": [
    "The minimizers (in red) are close to that actual minimizers (in blue)."
   ]
  }
 ],
 "metadata": {
  "@webio": {
   "lastCommId": null,
   "lastKernelId": null
  },
  "kernelspec": {
   "display_name": "Julia 1.3.1",
   "language": "julia",
   "name": "julia-1.3"
  },
  "language_info": {
   "file_extension": ".jl",
   "mimetype": "application/julia",
   "name": "julia",
   "version": "1.3.1"
  }
 },
 "nbformat": 4,
 "nbformat_minor": 2
}
