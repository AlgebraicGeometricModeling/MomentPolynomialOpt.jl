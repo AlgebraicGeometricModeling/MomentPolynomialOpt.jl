{
 "cells": [
  {
   "cell_type": "code",
   "execution_count": 1,
   "metadata": {},
   "outputs": [],
   "source": [
    "using JuMP, DynamicPolynomials, MomentTools"
   ]
  },
  {
   "cell_type": "code",
   "execution_count": 2,
   "metadata": {},
   "outputs": [
    {
     "data": {
      "text/latex": [
       "$$ -x2 + 2 $$"
      ],
      "text/plain": [
       "-x2 + 2"
      ]
     },
     "execution_count": 2,
     "metadata": {},
     "output_type": "execute_result"
    }
   ],
   "source": [
    "X  = @polyvar x1 x2\n",
    "\n",
    "e1 = x1^2-2\n",
    "e2 = (x2^2-3)*(x1*x2-2)\n",
    "\n",
    "p1 = x1\n",
    "p2 = 2-x2"
   ]
  },
  {
   "cell_type": "markdown",
   "metadata": {},
   "source": [
    "We are looking for the points with maximal $x_1$ in the set $e_{1}=e_{2}=0$ such that $p_1\\geq 0$, $p_2\\geq 0$. We are solving a SDP relaxation of order $d=4$, where the variables of the convex optimization problem are the moments of order $\\le 2d$ in the variables $x_1, x_2$."
   ]
  },
  {
   "cell_type": "code",
   "execution_count": 3,
   "metadata": {},
   "outputs": [
    {
     "name": "stdout",
     "output_type": "stream",
     "text": [
      "CSDP 6.2.0\n",
      "Iter:  0 Ap: 0.00e+00 Pobj:  0.0000000e+00 Ad: 0.00e+00 Dobj:  0.0000000e+00 \n",
      "Iter:  1 Ap: 6.79e-01 Pobj:  6.1372532e-01 Ad: 6.09e-01 Dobj: -6.8260554e+01 \n",
      "Iter:  2 Ap: 6.88e-01 Pobj:  1.3077492e+00 Ad: 6.48e-01 Dobj: -9.8470824e+00 \n",
      "Iter:  3 Ap: 8.37e-01 Pobj:  1.3876892e+00 Ad: 7.83e-01 Dobj:  3.2799189e+01 \n",
      "Iter:  4 Ap: 7.93e-01 Pobj:  1.4087264e+00 Ad: 8.48e-01 Dobj:  1.8157022e+01 \n",
      "Iter:  5 Ap: 7.35e-01 Pobj:  1.4126332e+00 Ad: 7.29e-01 Dobj:  9.9917865e+00 \n",
      "Iter:  6 Ap: 8.77e-01 Pobj:  1.4140585e+00 Ad: 7.21e-01 Dobj:  4.8674622e+00 \n",
      "Iter:  7 Ap: 6.60e-01 Pobj:  1.4141480e+00 Ad: 7.73e-01 Dobj:  2.5743975e+00 \n",
      "Iter:  8 Ap: 8.56e-01 Pobj:  1.4142059e+00 Ad: 6.82e-01 Dobj:  1.9576867e+00 \n",
      "Iter:  9 Ap: 6.93e-01 Pobj:  1.4142101e+00 Ad: 5.68e-01 Dobj:  1.7044330e+00 \n",
      "Iter: 10 Ap: 5.92e-01 Pobj:  1.4142131e+00 Ad: 6.47e-01 Dobj:  1.5440699e+00 \n",
      "Iter: 11 Ap: 7.11e-01 Pobj:  1.4142132e+00 Ad: 6.96e-01 Dobj:  1.4691982e+00 \n",
      "Iter: 12 Ap: 1.00e+00 Pobj:  1.4142134e+00 Ad: 8.69e-01 Dobj:  1.4251159e+00 \n",
      "Iter: 13 Ap: 1.00e+00 Pobj:  1.4142135e+00 Ad: 9.37e-01 Dobj:  1.4158309e+00 \n",
      "Iter: 14 Ap: 1.00e+00 Pobj:  1.4142135e+00 Ad: 1.00e+00 Dobj:  1.4143451e+00 \n",
      "Iter: 15 Ap: 1.00e+00 Pobj:  1.4142136e+00 Ad: 9.61e-01 Dobj:  1.4141852e+00 \n",
      "Iter: 16 Ap: 8.11e-01 Pobj:  1.4142136e+00 Ad: 1.00e+00 Dobj:  1.4141667e+00 \n",
      "Iter: 17 Ap: 1.00e+00 Pobj:  1.4142136e+00 Ad: 1.00e+00 Dobj:  1.4141471e+00 \n",
      "Iter: 18 Ap: 1.00e+00 Pobj:  1.4142136e+00 Ad: 1.00e+00 Dobj:  1.4141731e+00 \n",
      "Iter: 19 Ap: 1.00e+00 Pobj:  1.4142136e+00 Ad: 9.94e-01 Dobj:  1.4142099e+00 \n",
      "Iter: 20 Ap: 1.00e+00 Pobj:  1.4142136e+00 Ad: 9.12e-01 Dobj:  1.4142131e+00 \n",
      "Iter: 21 Ap: 1.45e-01 Pobj:  1.4142136e+00 Ad: 3.48e-01 Dobj:  1.4142133e+00 \n",
      "Iter: 22 Ap: 1.31e-04 Pobj:  1.4142136e+00 Ad: 6.14e-04 Dobj:  1.4142133e+00 \n",
      "Iter: 23 Ap: 2.09e-07 Pobj:  1.4142136e+00 Ad: 6.37e-06 Dobj:  1.4142133e+00 \n",
      "Iter: 24 Ap: 2.04e-08 Pobj:  1.4142136e+00 Ad: 1.11e-06 Dobj:  1.4142133e+00 \n",
      "Iter: 25 Ap: 2.79e-04 Pobj:  1.4142136e+00 Ad: 1.95e-03 Dobj:  1.4142133e+00 \n",
      "Iter: 26 Ap: 8.18e-08 Pobj:  1.4142136e+00 Ad: 1.39e-06 Dobj:  1.4142133e+00 \n",
      "Iter: 27 Ap: 4.04e-07 Pobj:  1.4142136e+00 Ad: 3.67e-04 Dobj:  1.4142133e+00 \n",
      "Iter: 28 Ap: 1.02e-07 Pobj:  1.4142136e+00 Ad: 1.33e-04 Dobj:  1.4142133e+00 \n",
      "Iter: 29 Ap: 1.01e-07 Pobj:  1.4142136e+00 Ad: 1.19e-03 Dobj:  1.4142133e+00 \n",
      "Iter: 30 Ap: 2.34e-07 Pobj:  1.4142136e+00 Ad: 1.31e-03 Dobj:  1.4142133e+00 \n",
      "Iter: 31 Ap: 3.47e-06 Pobj:  1.4142136e+00 Ad: 3.44e-02 Dobj:  1.4142133e+00 \n",
      "Iter: 32 Ap: 6.13e-06 Pobj:  1.4142136e+00 Ad: 5.19e-03 Dobj:  1.4142133e+00 \n",
      "Stuck at edge of primal feasibility, giving up. \n",
      "Partial Success: SDP solved with reduced accuracy\n",
      "Primal objective value: 1.4142136e+00 \n",
      "Dual objective value: 1.4142133e+00 \n",
      "Relative primal infeasibility: 2.73e-08 \n",
      "Relative dual infeasibility: 2.12e-09 \n",
      "Real Relative Gap: -5.93e-08 \n",
      "XZ Relative Gap: 2.48e-08 \n",
      "DIMACS error measures: 2.73e-08 0.00e+00 4.50e-09 0.00e+00 -5.93e-08 2.48e-08\n"
     ]
    },
    {
     "data": {
      "text/plain": [
       "1.414213562494914"
      ]
     },
     "execution_count": 3,
     "metadata": {},
     "output_type": "execute_result"
    }
   ],
   "source": [
    "using CSDP; optimizer = CSDP.Optimizer\n",
    "v, M = maximize(x1, [e1, e2], [p1,p2], X, 4, optimizer); v"
   ]
  },
  {
   "cell_type": "markdown",
   "metadata": {},
   "source": [
    "`v` is the optimal value and `M`is the optimization model. "
   ]
  },
  {
   "cell_type": "markdown",
   "metadata": {},
   "source": [
    "The points which reach the optimal value, can be obtained as follows: "
   ]
  },
  {
   "cell_type": "code",
   "execution_count": 4,
   "metadata": {},
   "outputs": [
    {
     "data": {
      "text/plain": [
       "2×3 Array{Float64,2}:\n",
       "  1.41421  1.41421  1.41421\n",
       " -1.73205  1.41421  1.73201"
      ]
     },
     "execution_count": 4,
     "metadata": {},
     "output_type": "execute_result"
    }
   ],
   "source": [
    "Xi = getminimizers(M)"
   ]
  },
  {
   "cell_type": "markdown",
   "metadata": {},
   "source": [
    "Each column of this matrix represents a point. It is an $n\\times r$  matrix, where $n$ is the number of their coordinates and $r$ is the number of points."
   ]
  },
  {
   "cell_type": "markdown",
   "metadata": {},
   "source": [
    "The Dirac measure associated to the optimal moment sequence is obtained as follows:"
   ]
  },
  {
   "cell_type": "code",
   "execution_count": 5,
   "metadata": {},
   "outputs": [
    {
     "data": {
      "text/plain": [
       "([0.010202656603227542, 0.9859089755770021, 0.003888368247613759], [1.414213531133416 1.4142134918644365 1.4142134297724813; -1.7320510441209236 1.414213382210878 1.732005306891924])"
      ]
     },
     "execution_count": 5,
     "metadata": {},
     "output_type": "execute_result"
    }
   ],
   "source": [
    "w, Xi = getmeasure(M)"
   ]
  },
  {
   "cell_type": "markdown",
   "metadata": {},
   "source": [
    "`w` is the vector of weights and `Xi` is the matrix of points, that is support of the measure $\\mu=\\sum_i \\omega_i \\delta_{\\Xi_i}$."
   ]
  }
 ],
 "metadata": {
  "@webio": {
   "lastCommId": null,
   "lastKernelId": null
  },
  "kernelspec": {
   "display_name": "Julia 1.3.1",
   "language": "julia",
   "name": "julia-1.3"
  },
  "language_info": {
   "file_extension": ".jl",
   "mimetype": "application/julia",
   "name": "julia",
   "version": "1.3.1"
  }
 },
 "nbformat": 4,
 "nbformat_minor": 2
}
